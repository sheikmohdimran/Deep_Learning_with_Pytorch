{
  "nbformat": 4,
  "nbformat_minor": 0,
  "metadata": {
    "colab": {
      "name": "Week2_Intro_to_NN_Fraud_Detection.ipynb",
      "provenance": [],
      "collapsed_sections": [],
      "include_colab_link": true
    },
    "kernelspec": {
      "name": "python3",
      "display_name": "Python 3"
    },
    "accelerator": "GPU"
  },
  "cells": [
    {
      "cell_type": "markdown",
      "metadata": {
        "id": "view-in-github",
        "colab_type": "text"
      },
      "source": [
        "<a href=\"https://colab.research.google.com/github/sheikmohdimran/Experiments_2021/blob/main/01_Intro_to_NN_Pytorch/Week2_Intro_to_NN_Fraud_Detection.ipynb\" target=\"_parent\"><img src=\"https://colab.research.google.com/assets/colab-badge.svg\" alt=\"Open In Colab\"/></a>"
      ]
    },
    {
      "cell_type": "markdown",
      "metadata": {
        "id": "t6eq79GFCN2z"
      },
      "source": [
        "<a href=\"https://www.buymeacoffee.com/sheikmohdimran\" target=\"_blank\"><img src=\"https://cdn.buymeacoffee.com/buttons/default-orange.png\" alt=\"Buy Me A Coffee\" height=\"30\" width=\"120\"></a>\n",
        "\n",
        "You can support my work by buying me a coffee [here](https://www.buymeacoffee.com/sheikmohdimran)."
      ]
    },
    {
      "cell_type": "code",
      "metadata": {
        "colab": {
          "base_uri": "https://localhost:8080/"
        },
        "id": "a5yDT54LwVWT",
        "outputId": "528a6c6c-cce2-49e7-9ca8-a96b6abd3005"
      },
      "source": [
        "!pip install fastai==2.4.1 -qqq\n",
        "!pip install wandb -qqq\n",
        "!pip install kaggle -qqq"
      ],
      "execution_count": 1,
      "outputs": [
        {
          "output_type": "stream",
          "text": [
            "\u001b[?25l\r\u001b[K     |█▊                              | 10 kB 21.0 MB/s eta 0:00:01\r\u001b[K     |███▌                            | 20 kB 24.9 MB/s eta 0:00:01\r\u001b[K     |█████▎                          | 30 kB 13.9 MB/s eta 0:00:01\r\u001b[K     |███████                         | 40 kB 16.7 MB/s eta 0:00:01\r\u001b[K     |████████▊                       | 51 kB 7.9 MB/s eta 0:00:01\r\u001b[K     |██████████▌                     | 61 kB 9.1 MB/s eta 0:00:01\r\u001b[K     |████████████▏                   | 71 kB 8.9 MB/s eta 0:00:01\r\u001b[K     |██████████████                  | 81 kB 9.8 MB/s eta 0:00:01\r\u001b[K     |███████████████▊                | 92 kB 10.2 MB/s eta 0:00:01\r\u001b[K     |█████████████████▍              | 102 kB 8.3 MB/s eta 0:00:01\r\u001b[K     |███████████████████▏            | 112 kB 8.3 MB/s eta 0:00:01\r\u001b[K     |█████████████████████           | 122 kB 8.3 MB/s eta 0:00:01\r\u001b[K     |██████████████████████▋         | 133 kB 8.3 MB/s eta 0:00:01\r\u001b[K     |████████████████████████▍       | 143 kB 8.3 MB/s eta 0:00:01\r\u001b[K     |██████████████████████████▏     | 153 kB 8.3 MB/s eta 0:00:01\r\u001b[K     |███████████████████████████▉    | 163 kB 8.3 MB/s eta 0:00:01\r\u001b[K     |█████████████████████████████▋  | 174 kB 8.3 MB/s eta 0:00:01\r\u001b[K     |███████████████████████████████▍| 184 kB 8.3 MB/s eta 0:00:01\r\u001b[K     |████████████████████████████████| 188 kB 8.3 MB/s \n",
            "\u001b[K     |████████████████████████████████| 56 kB 4.7 MB/s \n",
            "\u001b[K     |████████████████████████████████| 1.6 MB 8.3 MB/s \n",
            "\u001b[K     |████████████████████████████████| 133 kB 62.2 MB/s \n",
            "\u001b[K     |████████████████████████████████| 170 kB 74.0 MB/s \n",
            "\u001b[K     |████████████████████████████████| 97 kB 7.1 MB/s \n",
            "\u001b[K     |████████████████████████████████| 63 kB 2.1 MB/s \n",
            "\u001b[?25h  Building wheel for subprocess32 (setup.py) ... \u001b[?25l\u001b[?25hdone\n",
            "  Building wheel for pathtools (setup.py) ... \u001b[?25l\u001b[?25hdone\n"
          ],
          "name": "stdout"
        }
      ]
    },
    {
      "cell_type": "code",
      "metadata": {
        "id": "yhj7XUa4htWf"
      },
      "source": [
        "#@title Download Dataset\n",
        "!echo '{\"username\":\"imrandude\",\"key\":\"<kaggle_key>\"}' > /root/.kaggle/kaggle.json\n",
        "!chmod 600 /root/.kaggle/kaggle.json\n",
        "!kaggle datasets download -d mlg-ulb/creditcardfraud\n",
        "!unzip -q creditcardfraud.zip"
      ],
      "execution_count": null,
      "outputs": []
    },
    {
      "cell_type": "markdown",
      "metadata": {
        "id": "4ljrXbm43CuG"
      },
      "source": [
        "## Introduction to Neural Networks - Fraud Detection\n",
        "\n",
        "Nilson reports that U.S. card fraud (credit, debt, etc) was reportedly \\$9 billion in 2016 and expected to increase to \\$12 billion by 2020. For perspective, in 2017 both PayPal's and Mastercard's revenue was only $10.8 billion each.\n",
        "\n",
        "\n",
        "**Objective:** In this notebook, given the credit card transactions, we will build a simple neural network (i.e., Multilayer perceptrons) for Fraud Detection using Pytorch and FastAI."
      ]
    },
    {
      "cell_type": "markdown",
      "metadata": {
        "id": "Ilr-y66cDLn7"
      },
      "source": [
        "This notebooks covers,\n",
        "\n",
        "1. Creating a Model\n",
        "\n",
        "2. Adding Layers\n",
        "\n",
        "3. Activations\n",
        "\n",
        "4. Optimizers and Loss functions\n",
        "\n",
        "5. Evaluation"
      ]
    },
    {
      "cell_type": "markdown",
      "metadata": {
        "id": "g3u3Z-GA1dFK"
      },
      "source": [
        "### Dataset Description\n",
        "\n",
        "The datasets contains transactions made by credit cards in September 2013 by european cardholders. This dataset presents transactions that occurred in two days, where we have 492 frauds out of 284,807 transactions. The dataset is highly unbalanced, the positive class (frauds) account for 0.172% of all transactions.\n",
        "\n",
        "It contains only numerical input variables which are the result of a PCA transformation. Unfortunately, due to confidentiality issues, the original features and more background information about the data is not provided. Features V1, V2, ... V28 are the principal components obtained with PCA, the only features which have not been transformed with PCA are 'Time' and 'Amount'. Feature 'Time' contains the seconds elapsed between each transaction and the first transaction in the dataset. The feature 'Amount' is the transaction Amount, this feature can be used for example-dependant cost-senstive learning. Feature 'Class' is the response variable and it takes value 1 in case of fraud and 0 otherwise.\n",
        "\n",
        "Source: https://www.kaggle.com/mlg-ulb/creditcardfraud"
      ]
    },
    {
      "cell_type": "code",
      "metadata": {
        "id": "2Ro7A1N5y6Hh"
      },
      "source": [
        "import pandas as pd\n",
        "import numpy as np\n",
        "from sklearn.model_selection import train_test_split\n",
        "from sklearn import preprocessing\n",
        "from sklearn.metrics import accuracy_score, confusion_matrix, precision_score, recall_score, f1_score, precision_recall_curve, auc\n",
        "import matplotlib.pyplot as plt"
      ],
      "execution_count": 4,
      "outputs": []
    },
    {
      "cell_type": "code",
      "metadata": {
        "id": "8wIx9ivZeSPP"
      },
      "source": [
        "dataset_file = './creditcard.csv'"
      ],
      "execution_count": 6,
      "outputs": []
    },
    {
      "cell_type": "code",
      "metadata": {
        "id": "OM0t4RaJe10y"
      },
      "source": [
        "data = pd.read_csv(dataset_file)"
      ],
      "execution_count": 7,
      "outputs": []
    },
    {
      "cell_type": "code",
      "metadata": {
        "id": "LzmnvBMKe13i",
        "colab": {
          "base_uri": "https://localhost:8080/",
          "height": 223
        },
        "outputId": "e4ec6dce-5ee1-47d5-ba8c-a2e09f94d205"
      },
      "source": [
        "data.head()"
      ],
      "execution_count": 8,
      "outputs": [
        {
          "output_type": "execute_result",
          "data": {
            "text/html": [
              "<div>\n",
              "<style scoped>\n",
              "    .dataframe tbody tr th:only-of-type {\n",
              "        vertical-align: middle;\n",
              "    }\n",
              "\n",
              "    .dataframe tbody tr th {\n",
              "        vertical-align: top;\n",
              "    }\n",
              "\n",
              "    .dataframe thead th {\n",
              "        text-align: right;\n",
              "    }\n",
              "</style>\n",
              "<table border=\"1\" class=\"dataframe\">\n",
              "  <thead>\n",
              "    <tr style=\"text-align: right;\">\n",
              "      <th></th>\n",
              "      <th>Time</th>\n",
              "      <th>V1</th>\n",
              "      <th>V2</th>\n",
              "      <th>V3</th>\n",
              "      <th>V4</th>\n",
              "      <th>V5</th>\n",
              "      <th>V6</th>\n",
              "      <th>V7</th>\n",
              "      <th>V8</th>\n",
              "      <th>V9</th>\n",
              "      <th>V10</th>\n",
              "      <th>V11</th>\n",
              "      <th>V12</th>\n",
              "      <th>V13</th>\n",
              "      <th>V14</th>\n",
              "      <th>V15</th>\n",
              "      <th>V16</th>\n",
              "      <th>V17</th>\n",
              "      <th>V18</th>\n",
              "      <th>V19</th>\n",
              "      <th>V20</th>\n",
              "      <th>V21</th>\n",
              "      <th>V22</th>\n",
              "      <th>V23</th>\n",
              "      <th>V24</th>\n",
              "      <th>V25</th>\n",
              "      <th>V26</th>\n",
              "      <th>V27</th>\n",
              "      <th>V28</th>\n",
              "      <th>Amount</th>\n",
              "      <th>Class</th>\n",
              "    </tr>\n",
              "  </thead>\n",
              "  <tbody>\n",
              "    <tr>\n",
              "      <th>0</th>\n",
              "      <td>0.0</td>\n",
              "      <td>-1.359807</td>\n",
              "      <td>-0.072781</td>\n",
              "      <td>2.536347</td>\n",
              "      <td>1.378155</td>\n",
              "      <td>-0.338321</td>\n",
              "      <td>0.462388</td>\n",
              "      <td>0.239599</td>\n",
              "      <td>0.098698</td>\n",
              "      <td>0.363787</td>\n",
              "      <td>0.090794</td>\n",
              "      <td>-0.551600</td>\n",
              "      <td>-0.617801</td>\n",
              "      <td>-0.991390</td>\n",
              "      <td>-0.311169</td>\n",
              "      <td>1.468177</td>\n",
              "      <td>-0.470401</td>\n",
              "      <td>0.207971</td>\n",
              "      <td>0.025791</td>\n",
              "      <td>0.403993</td>\n",
              "      <td>0.251412</td>\n",
              "      <td>-0.018307</td>\n",
              "      <td>0.277838</td>\n",
              "      <td>-0.110474</td>\n",
              "      <td>0.066928</td>\n",
              "      <td>0.128539</td>\n",
              "      <td>-0.189115</td>\n",
              "      <td>0.133558</td>\n",
              "      <td>-0.021053</td>\n",
              "      <td>149.62</td>\n",
              "      <td>0</td>\n",
              "    </tr>\n",
              "    <tr>\n",
              "      <th>1</th>\n",
              "      <td>0.0</td>\n",
              "      <td>1.191857</td>\n",
              "      <td>0.266151</td>\n",
              "      <td>0.166480</td>\n",
              "      <td>0.448154</td>\n",
              "      <td>0.060018</td>\n",
              "      <td>-0.082361</td>\n",
              "      <td>-0.078803</td>\n",
              "      <td>0.085102</td>\n",
              "      <td>-0.255425</td>\n",
              "      <td>-0.166974</td>\n",
              "      <td>1.612727</td>\n",
              "      <td>1.065235</td>\n",
              "      <td>0.489095</td>\n",
              "      <td>-0.143772</td>\n",
              "      <td>0.635558</td>\n",
              "      <td>0.463917</td>\n",
              "      <td>-0.114805</td>\n",
              "      <td>-0.183361</td>\n",
              "      <td>-0.145783</td>\n",
              "      <td>-0.069083</td>\n",
              "      <td>-0.225775</td>\n",
              "      <td>-0.638672</td>\n",
              "      <td>0.101288</td>\n",
              "      <td>-0.339846</td>\n",
              "      <td>0.167170</td>\n",
              "      <td>0.125895</td>\n",
              "      <td>-0.008983</td>\n",
              "      <td>0.014724</td>\n",
              "      <td>2.69</td>\n",
              "      <td>0</td>\n",
              "    </tr>\n",
              "    <tr>\n",
              "      <th>2</th>\n",
              "      <td>1.0</td>\n",
              "      <td>-1.358354</td>\n",
              "      <td>-1.340163</td>\n",
              "      <td>1.773209</td>\n",
              "      <td>0.379780</td>\n",
              "      <td>-0.503198</td>\n",
              "      <td>1.800499</td>\n",
              "      <td>0.791461</td>\n",
              "      <td>0.247676</td>\n",
              "      <td>-1.514654</td>\n",
              "      <td>0.207643</td>\n",
              "      <td>0.624501</td>\n",
              "      <td>0.066084</td>\n",
              "      <td>0.717293</td>\n",
              "      <td>-0.165946</td>\n",
              "      <td>2.345865</td>\n",
              "      <td>-2.890083</td>\n",
              "      <td>1.109969</td>\n",
              "      <td>-0.121359</td>\n",
              "      <td>-2.261857</td>\n",
              "      <td>0.524980</td>\n",
              "      <td>0.247998</td>\n",
              "      <td>0.771679</td>\n",
              "      <td>0.909412</td>\n",
              "      <td>-0.689281</td>\n",
              "      <td>-0.327642</td>\n",
              "      <td>-0.139097</td>\n",
              "      <td>-0.055353</td>\n",
              "      <td>-0.059752</td>\n",
              "      <td>378.66</td>\n",
              "      <td>0</td>\n",
              "    </tr>\n",
              "    <tr>\n",
              "      <th>3</th>\n",
              "      <td>1.0</td>\n",
              "      <td>-0.966272</td>\n",
              "      <td>-0.185226</td>\n",
              "      <td>1.792993</td>\n",
              "      <td>-0.863291</td>\n",
              "      <td>-0.010309</td>\n",
              "      <td>1.247203</td>\n",
              "      <td>0.237609</td>\n",
              "      <td>0.377436</td>\n",
              "      <td>-1.387024</td>\n",
              "      <td>-0.054952</td>\n",
              "      <td>-0.226487</td>\n",
              "      <td>0.178228</td>\n",
              "      <td>0.507757</td>\n",
              "      <td>-0.287924</td>\n",
              "      <td>-0.631418</td>\n",
              "      <td>-1.059647</td>\n",
              "      <td>-0.684093</td>\n",
              "      <td>1.965775</td>\n",
              "      <td>-1.232622</td>\n",
              "      <td>-0.208038</td>\n",
              "      <td>-0.108300</td>\n",
              "      <td>0.005274</td>\n",
              "      <td>-0.190321</td>\n",
              "      <td>-1.175575</td>\n",
              "      <td>0.647376</td>\n",
              "      <td>-0.221929</td>\n",
              "      <td>0.062723</td>\n",
              "      <td>0.061458</td>\n",
              "      <td>123.50</td>\n",
              "      <td>0</td>\n",
              "    </tr>\n",
              "    <tr>\n",
              "      <th>4</th>\n",
              "      <td>2.0</td>\n",
              "      <td>-1.158233</td>\n",
              "      <td>0.877737</td>\n",
              "      <td>1.548718</td>\n",
              "      <td>0.403034</td>\n",
              "      <td>-0.407193</td>\n",
              "      <td>0.095921</td>\n",
              "      <td>0.592941</td>\n",
              "      <td>-0.270533</td>\n",
              "      <td>0.817739</td>\n",
              "      <td>0.753074</td>\n",
              "      <td>-0.822843</td>\n",
              "      <td>0.538196</td>\n",
              "      <td>1.345852</td>\n",
              "      <td>-1.119670</td>\n",
              "      <td>0.175121</td>\n",
              "      <td>-0.451449</td>\n",
              "      <td>-0.237033</td>\n",
              "      <td>-0.038195</td>\n",
              "      <td>0.803487</td>\n",
              "      <td>0.408542</td>\n",
              "      <td>-0.009431</td>\n",
              "      <td>0.798278</td>\n",
              "      <td>-0.137458</td>\n",
              "      <td>0.141267</td>\n",
              "      <td>-0.206010</td>\n",
              "      <td>0.502292</td>\n",
              "      <td>0.219422</td>\n",
              "      <td>0.215153</td>\n",
              "      <td>69.99</td>\n",
              "      <td>0</td>\n",
              "    </tr>\n",
              "  </tbody>\n",
              "</table>\n",
              "</div>"
            ],
            "text/plain": [
              "   Time        V1        V2        V3  ...       V27       V28  Amount  Class\n",
              "0   0.0 -1.359807 -0.072781  2.536347  ...  0.133558 -0.021053  149.62      0\n",
              "1   0.0  1.191857  0.266151  0.166480  ... -0.008983  0.014724    2.69      0\n",
              "2   1.0 -1.358354 -1.340163  1.773209  ... -0.055353 -0.059752  378.66      0\n",
              "3   1.0 -0.966272 -0.185226  1.792993  ...  0.062723  0.061458  123.50      0\n",
              "4   2.0 -1.158233  0.877737  1.548718  ...  0.219422  0.215153   69.99      0\n",
              "\n",
              "[5 rows x 31 columns]"
            ]
          },
          "metadata": {},
          "execution_count": 8
        }
      ]
    },
    {
      "cell_type": "code",
      "metadata": {
        "id": "XYR1bqVjr74v"
      },
      "source": [
        "data = data.drop(\"Time\", axis = 1)"
      ],
      "execution_count": 9,
      "outputs": []
    },
    {
      "cell_type": "code",
      "metadata": {
        "id": "W4RRzxA5G4XP"
      },
      "source": [
        "data = data.dropna()"
      ],
      "execution_count": 10,
      "outputs": []
    },
    {
      "cell_type": "code",
      "metadata": {
        "id": "8jSUoRdjffH1"
      },
      "source": [
        "X_data = data.iloc[:, :-1]"
      ],
      "execution_count": 11,
      "outputs": []
    },
    {
      "cell_type": "code",
      "metadata": {
        "id": "cI3wN8jqftKw",
        "colab": {
          "base_uri": "https://localhost:8080/"
        },
        "outputId": "889748fa-38ec-4f96-b46d-8fda48403d91"
      },
      "source": [
        "X_data.shape"
      ],
      "execution_count": 12,
      "outputs": [
        {
          "output_type": "execute_result",
          "data": {
            "text/plain": [
              "(284807, 29)"
            ]
          },
          "metadata": {},
          "execution_count": 12
        }
      ]
    },
    {
      "cell_type": "code",
      "metadata": {
        "id": "lNVt9nlwr4be",
        "colab": {
          "base_uri": "https://localhost:8080/",
          "height": 223
        },
        "outputId": "3e19cf98-815b-48d4-dea7-cd0a9554c82a"
      },
      "source": [
        "X_data.head()"
      ],
      "execution_count": 13,
      "outputs": [
        {
          "output_type": "execute_result",
          "data": {
            "text/html": [
              "<div>\n",
              "<style scoped>\n",
              "    .dataframe tbody tr th:only-of-type {\n",
              "        vertical-align: middle;\n",
              "    }\n",
              "\n",
              "    .dataframe tbody tr th {\n",
              "        vertical-align: top;\n",
              "    }\n",
              "\n",
              "    .dataframe thead th {\n",
              "        text-align: right;\n",
              "    }\n",
              "</style>\n",
              "<table border=\"1\" class=\"dataframe\">\n",
              "  <thead>\n",
              "    <tr style=\"text-align: right;\">\n",
              "      <th></th>\n",
              "      <th>V1</th>\n",
              "      <th>V2</th>\n",
              "      <th>V3</th>\n",
              "      <th>V4</th>\n",
              "      <th>V5</th>\n",
              "      <th>V6</th>\n",
              "      <th>V7</th>\n",
              "      <th>V8</th>\n",
              "      <th>V9</th>\n",
              "      <th>V10</th>\n",
              "      <th>V11</th>\n",
              "      <th>V12</th>\n",
              "      <th>V13</th>\n",
              "      <th>V14</th>\n",
              "      <th>V15</th>\n",
              "      <th>V16</th>\n",
              "      <th>V17</th>\n",
              "      <th>V18</th>\n",
              "      <th>V19</th>\n",
              "      <th>V20</th>\n",
              "      <th>V21</th>\n",
              "      <th>V22</th>\n",
              "      <th>V23</th>\n",
              "      <th>V24</th>\n",
              "      <th>V25</th>\n",
              "      <th>V26</th>\n",
              "      <th>V27</th>\n",
              "      <th>V28</th>\n",
              "      <th>Amount</th>\n",
              "    </tr>\n",
              "  </thead>\n",
              "  <tbody>\n",
              "    <tr>\n",
              "      <th>0</th>\n",
              "      <td>-1.359807</td>\n",
              "      <td>-0.072781</td>\n",
              "      <td>2.536347</td>\n",
              "      <td>1.378155</td>\n",
              "      <td>-0.338321</td>\n",
              "      <td>0.462388</td>\n",
              "      <td>0.239599</td>\n",
              "      <td>0.098698</td>\n",
              "      <td>0.363787</td>\n",
              "      <td>0.090794</td>\n",
              "      <td>-0.551600</td>\n",
              "      <td>-0.617801</td>\n",
              "      <td>-0.991390</td>\n",
              "      <td>-0.311169</td>\n",
              "      <td>1.468177</td>\n",
              "      <td>-0.470401</td>\n",
              "      <td>0.207971</td>\n",
              "      <td>0.025791</td>\n",
              "      <td>0.403993</td>\n",
              "      <td>0.251412</td>\n",
              "      <td>-0.018307</td>\n",
              "      <td>0.277838</td>\n",
              "      <td>-0.110474</td>\n",
              "      <td>0.066928</td>\n",
              "      <td>0.128539</td>\n",
              "      <td>-0.189115</td>\n",
              "      <td>0.133558</td>\n",
              "      <td>-0.021053</td>\n",
              "      <td>149.62</td>\n",
              "    </tr>\n",
              "    <tr>\n",
              "      <th>1</th>\n",
              "      <td>1.191857</td>\n",
              "      <td>0.266151</td>\n",
              "      <td>0.166480</td>\n",
              "      <td>0.448154</td>\n",
              "      <td>0.060018</td>\n",
              "      <td>-0.082361</td>\n",
              "      <td>-0.078803</td>\n",
              "      <td>0.085102</td>\n",
              "      <td>-0.255425</td>\n",
              "      <td>-0.166974</td>\n",
              "      <td>1.612727</td>\n",
              "      <td>1.065235</td>\n",
              "      <td>0.489095</td>\n",
              "      <td>-0.143772</td>\n",
              "      <td>0.635558</td>\n",
              "      <td>0.463917</td>\n",
              "      <td>-0.114805</td>\n",
              "      <td>-0.183361</td>\n",
              "      <td>-0.145783</td>\n",
              "      <td>-0.069083</td>\n",
              "      <td>-0.225775</td>\n",
              "      <td>-0.638672</td>\n",
              "      <td>0.101288</td>\n",
              "      <td>-0.339846</td>\n",
              "      <td>0.167170</td>\n",
              "      <td>0.125895</td>\n",
              "      <td>-0.008983</td>\n",
              "      <td>0.014724</td>\n",
              "      <td>2.69</td>\n",
              "    </tr>\n",
              "    <tr>\n",
              "      <th>2</th>\n",
              "      <td>-1.358354</td>\n",
              "      <td>-1.340163</td>\n",
              "      <td>1.773209</td>\n",
              "      <td>0.379780</td>\n",
              "      <td>-0.503198</td>\n",
              "      <td>1.800499</td>\n",
              "      <td>0.791461</td>\n",
              "      <td>0.247676</td>\n",
              "      <td>-1.514654</td>\n",
              "      <td>0.207643</td>\n",
              "      <td>0.624501</td>\n",
              "      <td>0.066084</td>\n",
              "      <td>0.717293</td>\n",
              "      <td>-0.165946</td>\n",
              "      <td>2.345865</td>\n",
              "      <td>-2.890083</td>\n",
              "      <td>1.109969</td>\n",
              "      <td>-0.121359</td>\n",
              "      <td>-2.261857</td>\n",
              "      <td>0.524980</td>\n",
              "      <td>0.247998</td>\n",
              "      <td>0.771679</td>\n",
              "      <td>0.909412</td>\n",
              "      <td>-0.689281</td>\n",
              "      <td>-0.327642</td>\n",
              "      <td>-0.139097</td>\n",
              "      <td>-0.055353</td>\n",
              "      <td>-0.059752</td>\n",
              "      <td>378.66</td>\n",
              "    </tr>\n",
              "    <tr>\n",
              "      <th>3</th>\n",
              "      <td>-0.966272</td>\n",
              "      <td>-0.185226</td>\n",
              "      <td>1.792993</td>\n",
              "      <td>-0.863291</td>\n",
              "      <td>-0.010309</td>\n",
              "      <td>1.247203</td>\n",
              "      <td>0.237609</td>\n",
              "      <td>0.377436</td>\n",
              "      <td>-1.387024</td>\n",
              "      <td>-0.054952</td>\n",
              "      <td>-0.226487</td>\n",
              "      <td>0.178228</td>\n",
              "      <td>0.507757</td>\n",
              "      <td>-0.287924</td>\n",
              "      <td>-0.631418</td>\n",
              "      <td>-1.059647</td>\n",
              "      <td>-0.684093</td>\n",
              "      <td>1.965775</td>\n",
              "      <td>-1.232622</td>\n",
              "      <td>-0.208038</td>\n",
              "      <td>-0.108300</td>\n",
              "      <td>0.005274</td>\n",
              "      <td>-0.190321</td>\n",
              "      <td>-1.175575</td>\n",
              "      <td>0.647376</td>\n",
              "      <td>-0.221929</td>\n",
              "      <td>0.062723</td>\n",
              "      <td>0.061458</td>\n",
              "      <td>123.50</td>\n",
              "    </tr>\n",
              "    <tr>\n",
              "      <th>4</th>\n",
              "      <td>-1.158233</td>\n",
              "      <td>0.877737</td>\n",
              "      <td>1.548718</td>\n",
              "      <td>0.403034</td>\n",
              "      <td>-0.407193</td>\n",
              "      <td>0.095921</td>\n",
              "      <td>0.592941</td>\n",
              "      <td>-0.270533</td>\n",
              "      <td>0.817739</td>\n",
              "      <td>0.753074</td>\n",
              "      <td>-0.822843</td>\n",
              "      <td>0.538196</td>\n",
              "      <td>1.345852</td>\n",
              "      <td>-1.119670</td>\n",
              "      <td>0.175121</td>\n",
              "      <td>-0.451449</td>\n",
              "      <td>-0.237033</td>\n",
              "      <td>-0.038195</td>\n",
              "      <td>0.803487</td>\n",
              "      <td>0.408542</td>\n",
              "      <td>-0.009431</td>\n",
              "      <td>0.798278</td>\n",
              "      <td>-0.137458</td>\n",
              "      <td>0.141267</td>\n",
              "      <td>-0.206010</td>\n",
              "      <td>0.502292</td>\n",
              "      <td>0.219422</td>\n",
              "      <td>0.215153</td>\n",
              "      <td>69.99</td>\n",
              "    </tr>\n",
              "  </tbody>\n",
              "</table>\n",
              "</div>"
            ],
            "text/plain": [
              "         V1        V2        V3        V4  ...       V26       V27       V28  Amount\n",
              "0 -1.359807 -0.072781  2.536347  1.378155  ... -0.189115  0.133558 -0.021053  149.62\n",
              "1  1.191857  0.266151  0.166480  0.448154  ...  0.125895 -0.008983  0.014724    2.69\n",
              "2 -1.358354 -1.340163  1.773209  0.379780  ... -0.139097 -0.055353 -0.059752  378.66\n",
              "3 -0.966272 -0.185226  1.792993 -0.863291  ... -0.221929  0.062723  0.061458  123.50\n",
              "4 -1.158233  0.877737  1.548718  0.403034  ...  0.502292  0.219422  0.215153   69.99\n",
              "\n",
              "[5 rows x 29 columns]"
            ]
          },
          "metadata": {},
          "execution_count": 13
        }
      ]
    },
    {
      "cell_type": "code",
      "metadata": {
        "id": "Av0SeUasfxdd"
      },
      "source": [
        "y_data = data.iloc[:, -1]"
      ],
      "execution_count": 14,
      "outputs": []
    },
    {
      "cell_type": "code",
      "metadata": {
        "id": "PxJAWm1pf2Pp",
        "colab": {
          "base_uri": "https://localhost:8080/"
        },
        "outputId": "3f8c453c-eb30-46d2-86c7-c48f167e5887"
      },
      "source": [
        "y_data.shape"
      ],
      "execution_count": 15,
      "outputs": [
        {
          "output_type": "execute_result",
          "data": {
            "text/plain": [
              "(284807,)"
            ]
          },
          "metadata": {},
          "execution_count": 15
        }
      ]
    },
    {
      "cell_type": "code",
      "metadata": {
        "id": "HeY6L0Pd1ZuF"
      },
      "source": [
        "X_train, X_test, y_train, y_test = train_test_split(X_data, y_data, test_size = 0.2, random_state = 7,stratify = y_data)"
      ],
      "execution_count": 16,
      "outputs": []
    },
    {
      "cell_type": "code",
      "metadata": {
        "id": "MRNMm_VFf1py"
      },
      "source": [
        "X_train = preprocessing.normalize(X_train)\n",
        "X_test = preprocessing.normalize(X_test)"
      ],
      "execution_count": 17,
      "outputs": []
    },
    {
      "cell_type": "code",
      "metadata": {
        "id": "dfwhHgrtIWM6"
      },
      "source": [
        "y_train = np.array(y_train)\n",
        "y_test = np.array(y_test)"
      ],
      "execution_count": 18,
      "outputs": []
    },
    {
      "cell_type": "code",
      "metadata": {
        "id": "tTq5DsKV1ayv",
        "colab": {
          "base_uri": "https://localhost:8080/"
        },
        "outputId": "6655fc16-327c-434d-f386-f1fbf88e42ab"
      },
      "source": [
        "print(X_train.shape)\n",
        "print(X_test.shape)\n",
        "print(y_train.shape)\n",
        "print(y_test.shape)"
      ],
      "execution_count": 19,
      "outputs": [
        {
          "output_type": "stream",
          "text": [
            "(227845, 29)\n",
            "(56962, 29)\n",
            "(227845,)\n",
            "(56962,)\n"
          ],
          "name": "stdout"
        }
      ]
    },
    {
      "cell_type": "markdown",
      "metadata": {
        "id": "rK65fuEW1rNR"
      },
      "source": [
        "### 1. Creating a model\n",
        "\n",
        "Model object can be created with Sequential class"
      ]
    },
    {
      "cell_type": "markdown",
      "metadata": {
        "id": "PY-sWPLV1ymZ"
      },
      "source": [
        "### 2. Adding layers [layers and activations]\n",
        "\n",
        "Adding layers are like stacking lego blocks one by one\n",
        "\n",
        "It should be noted that as this is a classification problem, sigmoid layer (softmax for multi-class problems) should be added\n"
      ]
    },
    {
      "cell_type": "code",
      "metadata": {
        "id": "KB7ZqB2Fyklf"
      },
      "source": [
        "import wandb\n",
        "import torch\n",
        "from torch import nn\n",
        "from torch import sigmoid\n",
        "from torch.nn import functional as F\n",
        "from torch.utils.data import TensorDataset, DataLoader\n",
        "\n",
        "import sklearn.metrics as skm\n",
        "from fastai.tabular.all import *\n",
        "from fastai.callback.wandb import *\n",
        "import wandb"
      ],
      "execution_count": 24,
      "outputs": []
    },
    {
      "cell_type": "code",
      "metadata": {
        "colab": {
          "base_uri": "https://localhost:8080/"
        },
        "id": "YHJZZXIjyqqg",
        "outputId": "52fa4529-9583-47be-9457-278f14276970"
      },
      "source": [
        "!wandb login <wandb_api_key>"
      ],
      "execution_count": 21,
      "outputs": [
        {
          "output_type": "stream",
          "text": [
            "\u001b[34m\u001b[1mwandb\u001b[0m: Appending key for api.wandb.ai to your netrc file: /root/.netrc\n"
          ],
          "name": "stdout"
        }
      ]
    },
    {
      "cell_type": "code",
      "metadata": {
        "id": "lRlvfqUez-xf"
      },
      "source": [
        "train_loader=DataLoader(TensorDataset(torch.from_numpy(X_train.astype(np.float32)),\n",
        "                                        torch.from_numpy(y_train.astype(np.float32))), \n",
        "                          batch_size=32)\n",
        "test_loader=DataLoader(TensorDataset(torch.from_numpy(X_test.astype(np.float32)),\n",
        "                                        torch.from_numpy(y_test.astype(np.float32))), \n",
        "                          batch_size=640)"
      ],
      "execution_count": 97,
      "outputs": []
    },
    {
      "cell_type": "code",
      "metadata": {
        "id": "2g2TnapAxJKd"
      },
      "source": [
        "hidden = 64\n",
        "input_dim = 29\n",
        "model = nn.Sequential(\n",
        "        nn.Linear(in_features=input_dim, out_features=hidden),\n",
        "        nn.ReLU(),\n",
        "        nn.BatchNorm1d(num_features=hidden),\n",
        "        nn.Dropout(p=0.5),\n",
        "        nn.Linear(hidden, 1),\n",
        "        nn.Sigmoid()\n",
        "    )"
      ],
      "execution_count": 130,
      "outputs": []
    },
    {
      "cell_type": "code",
      "metadata": {
        "id": "5_CDCPrNxTmm"
      },
      "source": [
        "def _accumulate(self, learn):\n",
        "    pred = to_detach(torch.round(learn.pred))\n",
        "    targ = to_detach(learn.y)\n",
        "    self.preds.append(pred)\n",
        "    self.targs.append(targ)\n",
        "\n",
        "AccumMetric.accumulate = _accumulate\n",
        "\n",
        "def F1():\n",
        "    return skm_to_fastai(skm.f1_score)"
      ],
      "execution_count": 131,
      "outputs": []
    },
    {
      "cell_type": "code",
      "metadata": {
        "id": "s_NbkuYmxcXI"
      },
      "source": [
        "wandb.init(name='Intro-to-NN-2', project='pytorch-basics',entity='sheikmohdimran')"
      ],
      "execution_count": null,
      "outputs": []
    },
    {
      "cell_type": "markdown",
      "metadata": {
        "id": "Hk3MOIy12SU_"
      },
      "source": [
        "### 3. Model compile [optimizers and loss functions]\n",
        "\n",
        "Types of loss (function) and optimizer should be designated\n",
        "\n",
        "Ref (optimizers): https://pytorch.org/docs/stable/optim.html\n",
        "\n",
        "Ref (losses): https://pytorch.org/docs/stable/nn.html?highlight=loss#loss-functions\n"
      ]
    },
    {
      "cell_type": "code",
      "metadata": {
        "id": "GKts90MeyVYA"
      },
      "source": [
        "data = DataLoaders(train_loader, test_loader)\n",
        "\n",
        "learn = Learner(data, \n",
        "                model, \n",
        "                loss_func=BCELossFlat(),                                                    #https://docs.fast.ai/losses.html#BCELossFlat\n",
        "                opt_func=partial(OptimWrapper, opt=partial(torch.optim.SGD,momentum=0.9)),  #https://docs.fast.ai/migrating_pytorch_verbose.html#Optimizer\n",
        "                metrics=F1(),                                                               #https://lschmiddey.github.io/fastpages_/2020/10/01/Tabular-Data-with-custom-metric.html\n",
        "                cbs=[WandbCallback(),SaveModelCallback(monitor='f1_score')],                #https://docs.fast.ai/callback.wandb.html\n",
        "                lr=0.1)"
      ],
      "execution_count": 140,
      "outputs": []
    },
    {
      "cell_type": "code",
      "metadata": {
        "colab": {
          "base_uri": "https://localhost:8080/",
          "height": 474
        },
        "id": "APb7jkJYztyL",
        "outputId": "b425ce31-91f2-4778-90c4-68af0ecb35ea"
      },
      "source": [
        "learn.fit(10)"
      ],
      "execution_count": 141,
      "outputs": [
        {
          "output_type": "stream",
          "text": [
            "Could not gather input dimensions\n",
            "WandbCallback was not able to prepare a DataLoader for logging prediction samples -> 'TensorDataset' object has no attribute 'items'\n"
          ],
          "name": "stdout"
        },
        {
          "output_type": "display_data",
          "data": {
            "text/html": [
              "<table border=\"1\" class=\"dataframe\">\n",
              "  <thead>\n",
              "    <tr style=\"text-align: left;\">\n",
              "      <th>epoch</th>\n",
              "      <th>train_loss</th>\n",
              "      <th>valid_loss</th>\n",
              "      <th>f1_score</th>\n",
              "      <th>time</th>\n",
              "    </tr>\n",
              "  </thead>\n",
              "  <tbody>\n",
              "    <tr>\n",
              "      <td>0</td>\n",
              "      <td>0.008318</td>\n",
              "      <td>0.010138</td>\n",
              "      <td>0.706587</td>\n",
              "      <td>00:42</td>\n",
              "    </tr>\n",
              "    <tr>\n",
              "      <td>1</td>\n",
              "      <td>0.008029</td>\n",
              "      <td>0.013264</td>\n",
              "      <td>0.731429</td>\n",
              "      <td>00:42</td>\n",
              "    </tr>\n",
              "    <tr>\n",
              "      <td>2</td>\n",
              "      <td>0.005296</td>\n",
              "      <td>0.013216</td>\n",
              "      <td>0.735632</td>\n",
              "      <td>00:42</td>\n",
              "    </tr>\n",
              "    <tr>\n",
              "      <td>3</td>\n",
              "      <td>0.007494</td>\n",
              "      <td>0.013069</td>\n",
              "      <td>0.747126</td>\n",
              "      <td>00:42</td>\n",
              "    </tr>\n",
              "    <tr>\n",
              "      <td>4</td>\n",
              "      <td>0.007198</td>\n",
              "      <td>0.011461</td>\n",
              "      <td>0.739884</td>\n",
              "      <td>00:41</td>\n",
              "    </tr>\n",
              "    <tr>\n",
              "      <td>5</td>\n",
              "      <td>0.006431</td>\n",
              "      <td>0.019239</td>\n",
              "      <td>0.775281</td>\n",
              "      <td>00:42</td>\n",
              "    </tr>\n",
              "    <tr>\n",
              "      <td>6</td>\n",
              "      <td>0.006057</td>\n",
              "      <td>0.013108</td>\n",
              "      <td>0.747126</td>\n",
              "      <td>00:42</td>\n",
              "    </tr>\n",
              "    <tr>\n",
              "      <td>7</td>\n",
              "      <td>0.006179</td>\n",
              "      <td>0.011282</td>\n",
              "      <td>0.739884</td>\n",
              "      <td>00:42</td>\n",
              "    </tr>\n",
              "    <tr>\n",
              "      <td>8</td>\n",
              "      <td>0.006908</td>\n",
              "      <td>0.019254</td>\n",
              "      <td>0.770950</td>\n",
              "      <td>00:42</td>\n",
              "    </tr>\n",
              "    <tr>\n",
              "      <td>9</td>\n",
              "      <td>0.005606</td>\n",
              "      <td>0.013077</td>\n",
              "      <td>0.739884</td>\n",
              "      <td>00:42</td>\n",
              "    </tr>\n",
              "  </tbody>\n",
              "</table>"
            ],
            "text/plain": [
              "<IPython.core.display.HTML object>"
            ]
          },
          "metadata": {}
        },
        {
          "output_type": "stream",
          "text": [
            "Better model found at epoch 0 with f1_score value: 0.7065868263473053.\n",
            "Better model found at epoch 1 with f1_score value: 0.7314285714285713.\n",
            "Better model found at epoch 2 with f1_score value: 0.735632183908046.\n",
            "Better model found at epoch 3 with f1_score value: 0.7471264367816092.\n",
            "Better model found at epoch 5 with f1_score value: 0.7752808988764046.\n"
          ],
          "name": "stdout"
        }
      ]
    },
    {
      "cell_type": "markdown",
      "metadata": {
        "id": "U0GY93pFBZOQ"
      },
      "source": [
        "### Sample output from Weights and Biases"
      ]
    },
    {
      "cell_type": "markdown",
      "metadata": {
        "id": "b964OKdKA-OF"
      },
      "source": [
        "![image.png](data:image/png;base64,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)"
      ]
    },
    {
      "cell_type": "markdown",
      "metadata": {
        "id": "lLPxzhrv2sxz"
      },
      "source": [
        "### 6. Evaluation\n",
        "This step we will create a custom predict function to get the predictions. Based on the predictions we will display various metrics on the test set."
      ]
    },
    {
      "cell_type": "code",
      "metadata": {
        "id": "bZY0Xt3_9IXP"
      },
      "source": [
        "device = torch.device(\"cuda:0\")\n",
        "\n",
        "def predict(model, dataloader, n_class, device):\n",
        "    model.eval()\n",
        "    model.to(device)\n",
        "    preds = np.zeros([0, n_class])\n",
        "    for data, _ in dataloader:\n",
        "        data = data.to(device)\n",
        "        with torch.no_grad():\n",
        "            y_pred = model(data).detach()\n",
        "        y_pred = y_pred.cpu().numpy()\n",
        "        preds = np.concatenate([preds, y_pred])\n",
        "    return preds"
      ],
      "execution_count": 142,
      "outputs": []
    },
    {
      "cell_type": "code",
      "metadata": {
        "id": "0-bKcW7iDK0U"
      },
      "source": [
        "test_preds = predict(model, test_loader, n_class=1, device=device)\n",
        "preds=(test_preds>0.5).astype(float)\n",
        "test_acc = skm.accuracy_score(y_test, preds)"
      ],
      "execution_count": 143,
      "outputs": []
    },
    {
      "cell_type": "markdown",
      "metadata": {
        "id": "mFVCB24Zud4z"
      },
      "source": [
        "### Confusion Matrix"
      ]
    },
    {
      "cell_type": "code",
      "metadata": {
        "colab": {
          "base_uri": "https://localhost:8080/"
        },
        "id": "tChLg1AX_Lys",
        "outputId": "e6ca04f9-93a5-4d1f-df67-3b497ac5ffb5"
      },
      "source": [
        "print(f'test acc: {test_acc}')\n",
        "print('recall_score:', recall_score(y_test,preds))\n",
        "print('precision_score:', precision_score(y_test,preds))\n",
        "print('f1_score:', f1_score(y_test,preds))\n",
        "print(confusion_matrix(y_test, preds))"
      ],
      "execution_count": 144,
      "outputs": [
        {
          "output_type": "stream",
          "text": [
            "test acc: 0.9992977774656788\n",
            "recall_score: 0.7040816326530612\n",
            "precision_score: 0.8625\n",
            "f1_score: 0.7752808988764046\n",
            "[[56853    11]\n",
            " [   29    69]]\n"
          ],
          "name": "stdout"
        }
      ]
    },
    {
      "cell_type": "code",
      "metadata": {
        "id": "Q9Cs2gQmpHV0"
      },
      "source": [
        "precision, recall, _ = precision_recall_curve(y_test, test_preds)"
      ],
      "execution_count": 145,
      "outputs": []
    },
    {
      "cell_type": "code",
      "metadata": {
        "id": "XEmNE6XmpO4h"
      },
      "source": [
        "AUC_PRcurve= auc(recall, precision)"
      ],
      "execution_count": 146,
      "outputs": []
    },
    {
      "cell_type": "code",
      "metadata": {
        "id": "sKH38a-Qpjlr",
        "colab": {
          "base_uri": "https://localhost:8080/",
          "height": 303
        },
        "outputId": "0f40f82c-a449-4e5a-965f-c30df0187b65"
      },
      "source": [
        "plt.figure(1)\n",
        "#plot PR curve\n",
        "plt.plot(precision, recall, label = \"AUC = {:0.2f}\".format(AUC_PRcurve))\n",
        "plt.xlabel('Precision', fontsize = 14)\n",
        "plt.ylabel('Recall', fontsize = 14)\n",
        "plt.title('Precision-Recall Curve', fontsize = 18)\n",
        "plt.legend(loc='best')\n",
        "plt.show()"
      ],
      "execution_count": 147,
      "outputs": [
        {
          "output_type": "display_data",
          "data": {
            "image/png": "[encoded data removed]",
            "text/plain": [
              "<Figure size 432x288 with 1 Axes>"
            ]
          },
          "metadata": {
            "needs_background": "light"
          }
        }
      ]
    }
  ]
}