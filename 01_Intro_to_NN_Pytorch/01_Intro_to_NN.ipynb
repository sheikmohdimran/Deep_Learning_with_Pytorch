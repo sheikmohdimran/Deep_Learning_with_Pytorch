{
  "nbformat": 4,
  "nbformat_minor": 0,
  "metadata": {
    "colab": {
      "name": "Week1_Intro_to_NN.ipynb",
      "provenance": [],
      "collapsed_sections": [],
      "include_colab_link": true
    },
    "kernelspec": {
      "name": "python3",
      "display_name": "Python 3"
    },
    "accelerator": "GPU"
  },
  "cells": [
    {
      "cell_type": "markdown",
      "metadata": {
        "id": "view-in-github",
        "colab_type": "text"
      },
      "source": [
        "<a href=\"https://colab.research.google.com/github/sheikmohdimran/Experiments_2021/blob/main/01_Intro_to_NN_Pytorch/Week1_Intro_to_NN.ipynb\" target=\"_parent\"><img src=\"https://colab.research.google.com/assets/colab-badge.svg\" alt=\"Open In Colab\"/></a>"
      ]
    },
    {
      "cell_type": "markdown",
      "metadata": {
        "id": "1sAwnYHQGP7z"
      },
      "source": [
        "<a href=\"https://www.buymeacoffee.com/sheikmohdimran\" target=\"_blank\"><img src=\"https://cdn.buymeacoffee.com/buttons/default-orange.png\" alt=\"Buy Me A Coffee\" height=\"30\" width=\"120\"></a>\n",
        "\n",
        "You can support my work by buying me a coffee [here](https://www.buymeacoffee.com/sheikmohdimran)."
      ]
    },
    {
      "cell_type": "code",
      "metadata": {
        "id": "JH-awn42JjxQ"
      },
      "source": [
        "!pip install fastai==2.4.1 -qqq\n",
        "!pip install wandb -qqq\n",
        "!pip install kaggle -qqq"
      ],
      "execution_count": null,
      "outputs": []
    },
    {
      "cell_type": "markdown",
      "metadata": {
        "id": "OTh5PNCrGQpm"
      },
      "source": [
        ""
      ]
    },
    {
      "cell_type": "code",
      "metadata": {
        "cellView": "form",
        "id": "cSYph96eQBo3"
      },
      "source": [
        "#@title Download Dataset\n",
        "!echo '{\"username\":\"imrandude\",\"key\":\"<kaggle_key>\"}' > /root/.kaggle/kaggle.json\n",
        "!chmod 600 /root/.kaggle/kaggle.json\n",
        "!kaggle datasets download -d barelydedicated/bank-customer-churn-modeling\n",
        "!unzip -q bank-customer-churn-modeling.zip"
      ],
      "execution_count": null,
      "outputs": []
    },
    {
      "cell_type": "markdown",
      "metadata": {
        "id": "xc9rmVfGIURb"
      },
      "source": [
        "#Neural Network basics"
      ]
    },
    {
      "cell_type": "markdown",
      "metadata": {
        "id": "xQ0JDEaxOH76"
      },
      "source": [
        "## Given a Bank customer, can we build a classifier which can determine whether they will leave or not using Neural networks?\n",
        "The case study is from an open source dataset from Kaggle.\n",
        "\n",
        "Link to the Kaggle project site:\n",
        "https://www.kaggle.com/barelydedicated/bank-customer-churn-modeling"
      ]
    },
    {
      "cell_type": "code",
      "metadata": {
        "id": "ngmN7vLDIYvr"
      },
      "source": [
        "import pandas as pd\n",
        "from sklearn import model_selection\n",
        "from sklearn.model_selection import train_test_split\n",
        "from sklearn.preprocessing import LabelEncoder, OneHotEncoder\n",
        "from sklearn.metrics import confusion_matrix"
      ],
      "execution_count": null,
      "outputs": []
    },
    {
      "cell_type": "code",
      "metadata": {
        "id": "4Jgnl4T7IhAk"
      },
      "source": [
        "ds = pd.read_csv(\"Churn_Modelling.csv\")"
      ],
      "execution_count": null,
      "outputs": []
    },
    {
      "cell_type": "code",
      "metadata": {
        "id": "wCz2NivhIhkI",
        "colab": {
          "base_uri": "https://localhost:8080/",
          "height": 377
        },
        "outputId": "99f02473-5325-4549-ef41-3fbf3a8f4a20"
      },
      "source": [
        "ds.head(10)"
      ],
      "execution_count": null,
      "outputs": [
        {
          "output_type": "execute_result",
          "data": {
            "text/html": [
              "<div>\n",
              "<style scoped>\n",
              "    .dataframe tbody tr th:only-of-type {\n",
              "        vertical-align: middle;\n",
              "    }\n",
              "\n",
              "    .dataframe tbody tr th {\n",
              "        vertical-align: top;\n",
              "    }\n",
              "\n",
              "    .dataframe thead th {\n",
              "        text-align: right;\n",
              "    }\n",
              "</style>\n",
              "<table border=\"1\" class=\"dataframe\">\n",
              "  <thead>\n",
              "    <tr style=\"text-align: right;\">\n",
              "      <th></th>\n",
              "      <th>RowNumber</th>\n",
              "      <th>CustomerId</th>\n",
              "      <th>Surname</th>\n",
              "      <th>CreditScore</th>\n",
              "      <th>Geography</th>\n",
              "      <th>Gender</th>\n",
              "      <th>Age</th>\n",
              "      <th>Tenure</th>\n",
              "      <th>Balance</th>\n",
              "      <th>NumOfProducts</th>\n",
              "      <th>HasCrCard</th>\n",
              "      <th>IsActiveMember</th>\n",
              "      <th>EstimatedSalary</th>\n",
              "      <th>Exited</th>\n",
              "    </tr>\n",
              "  </thead>\n",
              "  <tbody>\n",
              "    <tr>\n",
              "      <th>0</th>\n",
              "      <td>1</td>\n",
              "      <td>15634602</td>\n",
              "      <td>Hargrave</td>\n",
              "      <td>619</td>\n",
              "      <td>France</td>\n",
              "      <td>Female</td>\n",
              "      <td>42</td>\n",
              "      <td>2</td>\n",
              "      <td>0.00</td>\n",
              "      <td>1</td>\n",
              "      <td>1</td>\n",
              "      <td>1</td>\n",
              "      <td>101348.88</td>\n",
              "      <td>1</td>\n",
              "    </tr>\n",
              "    <tr>\n",
              "      <th>1</th>\n",
              "      <td>2</td>\n",
              "      <td>15647311</td>\n",
              "      <td>Hill</td>\n",
              "      <td>608</td>\n",
              "      <td>Spain</td>\n",
              "      <td>Female</td>\n",
              "      <td>41</td>\n",
              "      <td>1</td>\n",
              "      <td>83807.86</td>\n",
              "      <td>1</td>\n",
              "      <td>0</td>\n",
              "      <td>1</td>\n",
              "      <td>112542.58</td>\n",
              "      <td>0</td>\n",
              "    </tr>\n",
              "    <tr>\n",
              "      <th>2</th>\n",
              "      <td>3</td>\n",
              "      <td>15619304</td>\n",
              "      <td>Onio</td>\n",
              "      <td>502</td>\n",
              "      <td>France</td>\n",
              "      <td>Female</td>\n",
              "      <td>42</td>\n",
              "      <td>8</td>\n",
              "      <td>159660.80</td>\n",
              "      <td>3</td>\n",
              "      <td>1</td>\n",
              "      <td>0</td>\n",
              "      <td>113931.57</td>\n",
              "      <td>1</td>\n",
              "    </tr>\n",
              "    <tr>\n",
              "      <th>3</th>\n",
              "      <td>4</td>\n",
              "      <td>15701354</td>\n",
              "      <td>Boni</td>\n",
              "      <td>699</td>\n",
              "      <td>France</td>\n",
              "      <td>Female</td>\n",
              "      <td>39</td>\n",
              "      <td>1</td>\n",
              "      <td>0.00</td>\n",
              "      <td>2</td>\n",
              "      <td>0</td>\n",
              "      <td>0</td>\n",
              "      <td>93826.63</td>\n",
              "      <td>0</td>\n",
              "    </tr>\n",
              "    <tr>\n",
              "      <th>4</th>\n",
              "      <td>5</td>\n",
              "      <td>15737888</td>\n",
              "      <td>Mitchell</td>\n",
              "      <td>850</td>\n",
              "      <td>Spain</td>\n",
              "      <td>Female</td>\n",
              "      <td>43</td>\n",
              "      <td>2</td>\n",
              "      <td>125510.82</td>\n",
              "      <td>1</td>\n",
              "      <td>1</td>\n",
              "      <td>1</td>\n",
              "      <td>79084.10</td>\n",
              "      <td>0</td>\n",
              "    </tr>\n",
              "    <tr>\n",
              "      <th>5</th>\n",
              "      <td>6</td>\n",
              "      <td>15574012</td>\n",
              "      <td>Chu</td>\n",
              "      <td>645</td>\n",
              "      <td>Spain</td>\n",
              "      <td>Male</td>\n",
              "      <td>44</td>\n",
              "      <td>8</td>\n",
              "      <td>113755.78</td>\n",
              "      <td>2</td>\n",
              "      <td>1</td>\n",
              "      <td>0</td>\n",
              "      <td>149756.71</td>\n",
              "      <td>1</td>\n",
              "    </tr>\n",
              "    <tr>\n",
              "      <th>6</th>\n",
              "      <td>7</td>\n",
              "      <td>15592531</td>\n",
              "      <td>Bartlett</td>\n",
              "      <td>822</td>\n",
              "      <td>France</td>\n",
              "      <td>Male</td>\n",
              "      <td>50</td>\n",
              "      <td>7</td>\n",
              "      <td>0.00</td>\n",
              "      <td>2</td>\n",
              "      <td>1</td>\n",
              "      <td>1</td>\n",
              "      <td>10062.80</td>\n",
              "      <td>0</td>\n",
              "    </tr>\n",
              "    <tr>\n",
              "      <th>7</th>\n",
              "      <td>8</td>\n",
              "      <td>15656148</td>\n",
              "      <td>Obinna</td>\n",
              "      <td>376</td>\n",
              "      <td>Germany</td>\n",
              "      <td>Female</td>\n",
              "      <td>29</td>\n",
              "      <td>4</td>\n",
              "      <td>115046.74</td>\n",
              "      <td>4</td>\n",
              "      <td>1</td>\n",
              "      <td>0</td>\n",
              "      <td>119346.88</td>\n",
              "      <td>1</td>\n",
              "    </tr>\n",
              "    <tr>\n",
              "      <th>8</th>\n",
              "      <td>9</td>\n",
              "      <td>15792365</td>\n",
              "      <td>He</td>\n",
              "      <td>501</td>\n",
              "      <td>France</td>\n",
              "      <td>Male</td>\n",
              "      <td>44</td>\n",
              "      <td>4</td>\n",
              "      <td>142051.07</td>\n",
              "      <td>2</td>\n",
              "      <td>0</td>\n",
              "      <td>1</td>\n",
              "      <td>74940.50</td>\n",
              "      <td>0</td>\n",
              "    </tr>\n",
              "    <tr>\n",
              "      <th>9</th>\n",
              "      <td>10</td>\n",
              "      <td>15592389</td>\n",
              "      <td>H?</td>\n",
              "      <td>684</td>\n",
              "      <td>France</td>\n",
              "      <td>Male</td>\n",
              "      <td>27</td>\n",
              "      <td>2</td>\n",
              "      <td>134603.88</td>\n",
              "      <td>1</td>\n",
              "      <td>1</td>\n",
              "      <td>1</td>\n",
              "      <td>71725.73</td>\n",
              "      <td>0</td>\n",
              "    </tr>\n",
              "  </tbody>\n",
              "</table>\n",
              "</div>"
            ],
            "text/plain": [
              "   RowNumber  CustomerId   Surname  ...  IsActiveMember EstimatedSalary Exited\n",
              "0          1    15634602  Hargrave  ...               1       101348.88      1\n",
              "1          2    15647311      Hill  ...               1       112542.58      0\n",
              "2          3    15619304      Onio  ...               0       113931.57      1\n",
              "3          4    15701354      Boni  ...               0        93826.63      0\n",
              "4          5    15737888  Mitchell  ...               1        79084.10      0\n",
              "5          6    15574012       Chu  ...               0       149756.71      1\n",
              "6          7    15592531  Bartlett  ...               1        10062.80      0\n",
              "7          8    15656148    Obinna  ...               0       119346.88      1\n",
              "8          9    15792365        He  ...               1        74940.50      0\n",
              "9         10    15592389        H?  ...               1        71725.73      0\n",
              "\n",
              "[10 rows x 14 columns]"
            ]
          },
          "metadata": {},
          "execution_count": 3
        }
      ]
    },
    {
      "cell_type": "code",
      "metadata": {
        "id": "dsYmwQoWIic9",
        "colab": {
          "base_uri": "https://localhost:8080/"
        },
        "outputId": "015ff5e2-d360-4fd3-9b97-933f488bb1f9"
      },
      "source": [
        "ds['Geography'].value_counts()"
      ],
      "execution_count": null,
      "outputs": [
        {
          "output_type": "execute_result",
          "data": {
            "text/plain": [
              "France     5014\n",
              "Germany    2509\n",
              "Spain      2477\n",
              "Name: Geography, dtype: int64"
            ]
          },
          "metadata": {},
          "execution_count": 4
        }
      ]
    },
    {
      "cell_type": "markdown",
      "metadata": {
        "id": "4glKgzvVOOv6"
      },
      "source": [
        "### RowNumber, CustomerId, and Surname are unique hence we are dropping it"
      ]
    },
    {
      "cell_type": "code",
      "metadata": {
        "id": "KS2Bz1_OIj5C"
      },
      "source": [
        "ds = ds.drop(['RowNumber', 'CustomerId', 'Surname'], axis=1)"
      ],
      "execution_count": null,
      "outputs": []
    },
    {
      "cell_type": "code",
      "metadata": {
        "id": "t6s6aQzKIlLi",
        "colab": {
          "base_uri": "https://localhost:8080/"
        },
        "outputId": "623fcd9d-d344-461b-b889-4355884387ca"
      },
      "source": [
        "ds.info()"
      ],
      "execution_count": null,
      "outputs": [
        {
          "output_type": "stream",
          "text": [
            "<class 'pandas.core.frame.DataFrame'>\n",
            "RangeIndex: 10000 entries, 0 to 9999\n",
            "Data columns (total 11 columns):\n",
            " #   Column           Non-Null Count  Dtype  \n",
            "---  ------           --------------  -----  \n",
            " 0   CreditScore      10000 non-null  int64  \n",
            " 1   Geography        10000 non-null  object \n",
            " 2   Gender           10000 non-null  object \n",
            " 3   Age              10000 non-null  int64  \n",
            " 4   Tenure           10000 non-null  int64  \n",
            " 5   Balance          10000 non-null  float64\n",
            " 6   NumOfProducts    10000 non-null  int64  \n",
            " 7   HasCrCard        10000 non-null  int64  \n",
            " 8   IsActiveMember   10000 non-null  int64  \n",
            " 9   EstimatedSalary  10000 non-null  float64\n",
            " 10  Exited           10000 non-null  int64  \n",
            "dtypes: float64(2), int64(7), object(2)\n",
            "memory usage: 859.5+ KB\n"
          ],
          "name": "stdout"
        }
      ]
    },
    {
      "cell_type": "markdown",
      "metadata": {
        "id": "F-cr5oiEOZXv"
      },
      "source": [
        "### Distinguish the feature and target set"
      ]
    },
    {
      "cell_type": "code",
      "metadata": {
        "id": "yagjWM9jIl-U"
      },
      "source": [
        "X = ds.iloc[:,0:10].values # Credit Score through Estimated Salary\n",
        "y = ds.iloc[:,10].values # Exited"
      ],
      "execution_count": null,
      "outputs": []
    },
    {
      "cell_type": "markdown",
      "metadata": {
        "id": "P3j-qX2yObrC"
      },
      "source": [
        "### Encoding categorical (string based) data. Country: there are 3 options: France, Spain and Germany. This will convert those strings into scalar values for analysis."
      ]
    },
    {
      "cell_type": "code",
      "metadata": {
        "id": "GNPo59uBInNS",
        "colab": {
          "base_uri": "https://localhost:8080/"
        },
        "outputId": "93df88b0-a9d7-45f9-9a30-e4d1fef3606a"
      },
      "source": [
        "print(X[:8,1], '... will now become: ')\n",
        "\n",
        "label_X_country_encoder = LabelEncoder()\n",
        "X[:,1] = label_X_country_encoder.fit_transform(X[:,1])\n",
        "print(X[:8,1])"
      ],
      "execution_count": null,
      "outputs": [
        {
          "output_type": "stream",
          "text": [
            "['France' 'Spain' 'France' 'France' 'Spain' 'Spain' 'France' 'Germany'] ... will now become: \n",
            "[0 2 0 0 2 2 0 1]\n"
          ],
          "name": "stdout"
        }
      ]
    },
    {
      "cell_type": "markdown",
      "metadata": {
        "id": "DSfoaTg_Oeon"
      },
      "source": [
        "### We will do the same thing for gender. this will be binary in this dataset"
      ]
    },
    {
      "cell_type": "code",
      "metadata": {
        "id": "2It80EY0IvVi",
        "colab": {
          "base_uri": "https://localhost:8080/"
        },
        "outputId": "dca65f7b-af13-47df-9d66-94aec38f77d6"
      },
      "source": [
        "print(X[:6,2], '... will now become: ')\n",
        "\n",
        "label_X_gender_encoder = LabelEncoder()\n",
        "X[:,2] = label_X_gender_encoder.fit_transform(X[:,2])\n",
        "print(X[:6,2])"
      ],
      "execution_count": null,
      "outputs": [
        {
          "output_type": "stream",
          "text": [
            "['Female' 'Female' 'Female' 'Female' 'Female' 'Male'] ... will now become: \n",
            "[0 0 0 0 0 1]\n"
          ],
          "name": "stdout"
        }
      ]
    },
    {
      "cell_type": "markdown",
      "metadata": {
        "id": "lRWTmPzGOhlh"
      },
      "source": [
        "### The Problem here is that we are treating the countries as one variable with ordinal values (0 < 1 < 2). Therefore, one way to get rid of that problem is to split the countries into respective dimensions. Gender does not need this as it is binary\n",
        "\n",
        "### Converting the string features into their own dimensions. Gender doesn't matter here because its binary"
      ]
    },
    {
      "cell_type": "code",
      "metadata": {
        "id": "EjqZFrInIwte"
      },
      "source": [
        "from sklearn.compose import ColumnTransformer \n",
        "country = ColumnTransformer([(\"transform_country\", OneHotEncoder(), [1])], remainder = 'passthrough')\n",
        "X = country.fit_transform(X)#.toarray()"
      ],
      "execution_count": null,
      "outputs": []
    },
    {
      "cell_type": "code",
      "metadata": {
        "id": "YcFNn3T-Iytx",
        "colab": {
          "base_uri": "https://localhost:8080/"
        },
        "outputId": "f537e509-d7f2-42b8-c15e-656b4188695a"
      },
      "source": [
        "X.shape"
      ],
      "execution_count": null,
      "outputs": [
        {
          "output_type": "execute_result",
          "data": {
            "text/plain": [
              "(10000, 12)"
            ]
          },
          "metadata": {},
          "execution_count": 11
        }
      ]
    },
    {
      "cell_type": "code",
      "metadata": {
        "id": "NGhxXfnYIzaG",
        "colab": {
          "base_uri": "https://localhost:8080/"
        },
        "outputId": "604d5fab-7eec-47da-df12-c87f86c33961"
      },
      "source": [
        "X"
      ],
      "execution_count": null,
      "outputs": [
        {
          "output_type": "execute_result",
          "data": {
            "text/plain": [
              "array([[1.0, 0.0, 0.0, ..., 1, 1, 101348.88],\n",
              "       [0.0, 0.0, 1.0, ..., 0, 1, 112542.58],\n",
              "       [1.0, 0.0, 0.0, ..., 1, 0, 113931.57],\n",
              "       ...,\n",
              "       [1.0, 0.0, 0.0, ..., 0, 1, 42085.58],\n",
              "       [0.0, 1.0, 0.0, ..., 1, 0, 92888.52],\n",
              "       [1.0, 0.0, 0.0, ..., 1, 0, 38190.78]], dtype=object)"
            ]
          },
          "metadata": {},
          "execution_count": 12
        }
      ]
    },
    {
      "cell_type": "code",
      "metadata": {
        "id": "ZEjIiQ1pOo53"
      },
      "source": [
        "# A 0 on two countries means that the country has to be the one variable which wasn't included \n",
        "# This will save us from the problem of using too many dimensions\n",
        "X = X[:,1:] # Got rid of Spain as a dimension."
      ],
      "execution_count": null,
      "outputs": []
    },
    {
      "cell_type": "markdown",
      "metadata": {
        "id": "gzxYaLmEOrD_"
      },
      "source": [
        "### Divide the data set into Train and test sets"
      ]
    },
    {
      "cell_type": "code",
      "metadata": {
        "id": "nYnUvBVfI0DG"
      },
      "source": [
        "X_train, X_test, y_train, y_test = train_test_split(X,y, test_size = 0.2, random_state = 0)"
      ],
      "execution_count": null,
      "outputs": []
    },
    {
      "cell_type": "markdown",
      "metadata": {
        "id": "w-MdX3rXOtOA"
      },
      "source": [
        "### Normalize the train and test data"
      ]
    },
    {
      "cell_type": "code",
      "metadata": {
        "id": "v5D4_zbOI2hS"
      },
      "source": [
        "from sklearn.preprocessing import StandardScaler\n",
        "sc=StandardScaler()\n",
        "X_train = sc.fit_transform(X_train)\n",
        "X_test = sc.transform(X_test)"
      ],
      "execution_count": null,
      "outputs": []
    },
    {
      "cell_type": "code",
      "metadata": {
        "id": "8WULNNQgRu6t",
        "colab": {
          "base_uri": "https://localhost:8080/"
        },
        "outputId": "f8e37274-4687-400b-ea1a-a56119341308"
      },
      "source": [
        "X_test.shape"
      ],
      "execution_count": null,
      "outputs": [
        {
          "output_type": "execute_result",
          "data": {
            "text/plain": [
              "(2000, 11)"
            ]
          },
          "metadata": {},
          "execution_count": 16
        }
      ]
    },
    {
      "cell_type": "markdown",
      "metadata": {
        "id": "kcece2XhOx12"
      },
      "source": [
        "### Initialize & build the model"
      ]
    },
    {
      "cell_type": "code",
      "metadata": {
        "id": "JXYEFBHVI3--"
      },
      "source": [
        "import sklearn.metrics as skm\n",
        "import numpy as np\n",
        "import torch\n",
        "from torch import nn\n",
        "from torch import sigmoid\n",
        "from torch.nn import functional as F\n",
        "from torch.utils.data import TensorDataset, DataLoader\n",
        "\n",
        "from fastai.tabular.all import *\n",
        "from fastai.callback.wandb import *\n",
        "import wandb"
      ],
      "execution_count": null,
      "outputs": []
    },
    {
      "cell_type": "code",
      "metadata": {
        "id": "S0EhEsCJaVDN",
        "colab": {
          "base_uri": "https://localhost:8080/"
        },
        "outputId": "7f3447fd-46a0-470d-b19c-c9ec723046dd"
      },
      "source": [
        "!wandb login <wandb_api_key>"
      ],
      "execution_count": null,
      "outputs": [
        {
          "output_type": "stream",
          "text": [
            "\u001b[34m\u001b[1mwandb\u001b[0m: Appending key for api.wandb.ai to your netrc file: /root/.netrc\n"
          ],
          "name": "stdout"
        }
      ]
    },
    {
      "cell_type": "code",
      "metadata": {
        "id": "DFqZXUUPBGgM"
      },
      "source": [
        "train_loader=DataLoader(TensorDataset(torch.from_numpy(X_train.astype(np.float32)),\n",
        "                                        torch.from_numpy(y_train.astype(np.float32))), \n",
        "                          batch_size=16)\n",
        "test_loader=DataLoader(TensorDataset(torch.from_numpy(X_test.astype(np.float32)),\n",
        "                                        torch.from_numpy(y_test.astype(np.float32))), \n",
        "                          batch_size=64)"
      ],
      "execution_count": null,
      "outputs": []
    },
    {
      "cell_type": "code",
      "metadata": {
        "id": "KsPvGMgw6VG1"
      },
      "source": [
        "hidden = 6\n",
        "input_dim = 11\n",
        "model=nn.Sequential(\n",
        "        nn.Flatten(),\n",
        "        nn.Linear(input_dim, hidden),\n",
        "        nn.ReLU(),\n",
        "        nn.Linear(hidden, hidden),\n",
        "        nn.Sigmoid(),\n",
        "        nn.Linear(hidden, 1),\n",
        "        nn.Sigmoid()\n",
        "    )"
      ],
      "execution_count": null,
      "outputs": []
    },
    {
      "cell_type": "code",
      "metadata": {
        "id": "VF0H_DvGDgYi"
      },
      "source": [
        "\n",
        "\n",
        "def _accumulate(self, learn):\n",
        "    pred = to_detach(torch.round(learn.pred))\n",
        "    targ = to_detach(learn.y)\n",
        "    self.preds.append(pred)\n",
        "    self.targs.append(targ)\n",
        "\n",
        "AccumMetric.accumulate = _accumulate\n",
        "\n",
        "def BinAccu():\n",
        "    return skm_to_fastai(skm.accuracy_score)"
      ],
      "execution_count": null,
      "outputs": []
    },
    {
      "cell_type": "markdown",
      "metadata": {
        "id": "Qj1R2wGmzsWk"
      },
      "source": [
        "## Training the model"
      ]
    },
    {
      "cell_type": "code",
      "metadata": {
        "colab": {
          "base_uri": "https://localhost:8080/",
          "height": 596
        },
        "id": "sVffKKT_ILZl",
        "outputId": "8d2da947-5b3d-4bab-f5af-3674dfe93962"
      },
      "source": [
        "wandb.init(name='Intro-to-NN-1', project='pytorch-basics',entity='sheikmohdimran')"
      ],
      "execution_count": null,
      "outputs": [
        {
          "output_type": "stream",
          "text": [
            "\u001b[34m\u001b[1mwandb\u001b[0m: Currently logged in as: \u001b[33msheikmohdimran\u001b[0m (use `wandb login --relogin` to force relogin)\n"
          ],
          "name": "stderr"
        },
        {
          "output_type": "display_data",
          "data": {
            "text/html": [
              "\n",
              "                Tracking run with wandb version 0.12.0<br/>\n",
              "                Syncing run <strong style=\"color:#cdcd00\">Intro-to-NN-1</strong> to <a href=\"https://wandb.ai\" target=\"_blank\">Weights & Biases</a> <a href=\"https://docs.wandb.com/integrations/jupyter.html\" target=\"_blank\">(Documentation)</a>.<br/>\n",
              "                Project page: <a href=\"https://wandb.ai/sheikmohdimran/pytorch-basics\" target=\"_blank\">https://wandb.ai/sheikmohdimran/pytorch-basics</a><br/>\n",
              "                Run page: <a href=\"https://wandb.ai/sheikmohdimran/pytorch-basics/runs/1ixx1dom\" target=\"_blank\">https://wandb.ai/sheikmohdimran/pytorch-basics/runs/1ixx1dom</a><br/>\n",
              "                Run data is saved locally in <code>/content/wandb/run-20210822_100157-1ixx1dom</code><br/><br/>\n",
              "            "
            ],
            "text/plain": [
              "<IPython.core.display.HTML object>"
            ]
          },
          "metadata": {}
        },
        {
          "output_type": "execute_result",
          "data": {
            "text/plain": [
              "<wandb.sdk.wandb_run.Run at 0x7fcd6736cb10>"
            ],
            "text/html": [
              "<h1>Run(1ixx1dom)</h1><iframe src=\"https://wandb.ai/sheikmohdimran/pytorch-basics/runs/1ixx1dom\" style=\"border:none;width:100%;height:400px\"></iframe>"
            ]
          },
          "metadata": {},
          "execution_count": 24
        }
      ]
    },
    {
      "cell_type": "code",
      "metadata": {
        "id": "0xZRgkbk6ODL"
      },
      "source": [
        "data = DataLoaders(train_loader, test_loader)\n",
        "\n",
        "learn = Learner(data, \n",
        "                model, \n",
        "                loss_func=BCELossFlat(),                               #https://docs.fast.ai/losses.html#BCELossFlat\n",
        "                opt_func=partial(OptimWrapper, opt=torch.optim.Adam),  #https://docs.fast.ai/migrating_pytorch_verbose.html#Optimizer\n",
        "                metrics=BinAccu(),                                     #https://lschmiddey.github.io/fastpages_/2020/10/01/Tabular-Data-with-custom-metric.html\n",
        "                cbs=WandbCallback())                                   #https://docs.fast.ai/callback.wandb.html"
      ],
      "execution_count": null,
      "outputs": []
    },
    {
      "cell_type": "code",
      "metadata": {
        "colab": {
          "base_uri": "https://localhost:8080/",
          "height": 715
        },
        "id": "TXujCf2z6scH",
        "outputId": "e02d4d9a-20ad-41b8-b77e-993b430c03ac"
      },
      "source": [
        "learn.fit(20)"
      ],
      "execution_count": null,
      "outputs": [
        {
          "output_type": "stream",
          "text": [
            "Could not gather input dimensions\n",
            "WandbCallback requires use of \"SaveModelCallback\" to log best model\n",
            "WandbCallback was not able to prepare a DataLoader for logging prediction samples -> 'TensorDataset' object has no attribute 'items'\n"
          ],
          "name": "stdout"
        },
        {
          "output_type": "display_data",
          "data": {
            "text/html": [
              "<table border=\"1\" class=\"dataframe\">\n",
              "  <thead>\n",
              "    <tr style=\"text-align: left;\">\n",
              "      <th>epoch</th>\n",
              "      <th>train_loss</th>\n",
              "      <th>valid_loss</th>\n",
              "      <th>accuracy_score</th>\n",
              "      <th>time</th>\n",
              "    </tr>\n",
              "  </thead>\n",
              "  <tbody>\n",
              "    <tr>\n",
              "      <td>0</td>\n",
              "      <td>0.473573</td>\n",
              "      <td>0.461772</td>\n",
              "      <td>0.797500</td>\n",
              "      <td>00:02</td>\n",
              "    </tr>\n",
              "    <tr>\n",
              "      <td>1</td>\n",
              "      <td>0.439052</td>\n",
              "      <td>0.427519</td>\n",
              "      <td>0.797500</td>\n",
              "      <td>00:02</td>\n",
              "    </tr>\n",
              "    <tr>\n",
              "      <td>2</td>\n",
              "      <td>0.424387</td>\n",
              "      <td>0.413846</td>\n",
              "      <td>0.807500</td>\n",
              "      <td>00:02</td>\n",
              "    </tr>\n",
              "    <tr>\n",
              "      <td>3</td>\n",
              "      <td>0.413220</td>\n",
              "      <td>0.403001</td>\n",
              "      <td>0.823500</td>\n",
              "      <td>00:02</td>\n",
              "    </tr>\n",
              "    <tr>\n",
              "      <td>4</td>\n",
              "      <td>0.400715</td>\n",
              "      <td>0.390259</td>\n",
              "      <td>0.834500</td>\n",
              "      <td>00:02</td>\n",
              "    </tr>\n",
              "    <tr>\n",
              "      <td>5</td>\n",
              "      <td>0.389087</td>\n",
              "      <td>0.378317</td>\n",
              "      <td>0.846500</td>\n",
              "      <td>00:02</td>\n",
              "    </tr>\n",
              "    <tr>\n",
              "      <td>6</td>\n",
              "      <td>0.379213</td>\n",
              "      <td>0.368800</td>\n",
              "      <td>0.856000</td>\n",
              "      <td>00:02</td>\n",
              "    </tr>\n",
              "    <tr>\n",
              "      <td>7</td>\n",
              "      <td>0.371727</td>\n",
              "      <td>0.361920</td>\n",
              "      <td>0.858500</td>\n",
              "      <td>00:03</td>\n",
              "    </tr>\n",
              "    <tr>\n",
              "      <td>8</td>\n",
              "      <td>0.366693</td>\n",
              "      <td>0.357786</td>\n",
              "      <td>0.856500</td>\n",
              "      <td>00:02</td>\n",
              "    </tr>\n",
              "    <tr>\n",
              "      <td>9</td>\n",
              "      <td>0.363363</td>\n",
              "      <td>0.354900</td>\n",
              "      <td>0.857500</td>\n",
              "      <td>00:02</td>\n",
              "    </tr>\n",
              "    <tr>\n",
              "      <td>10</td>\n",
              "      <td>0.361080</td>\n",
              "      <td>0.352822</td>\n",
              "      <td>0.856500</td>\n",
              "      <td>00:02</td>\n",
              "    </tr>\n",
              "    <tr>\n",
              "      <td>11</td>\n",
              "      <td>0.359299</td>\n",
              "      <td>0.351117</td>\n",
              "      <td>0.855000</td>\n",
              "      <td>00:02</td>\n",
              "    </tr>\n",
              "    <tr>\n",
              "      <td>12</td>\n",
              "      <td>0.357825</td>\n",
              "      <td>0.349792</td>\n",
              "      <td>0.854500</td>\n",
              "      <td>00:02</td>\n",
              "    </tr>\n",
              "    <tr>\n",
              "      <td>13</td>\n",
              "      <td>0.356387</td>\n",
              "      <td>0.348405</td>\n",
              "      <td>0.853000</td>\n",
              "      <td>00:02</td>\n",
              "    </tr>\n",
              "    <tr>\n",
              "      <td>14</td>\n",
              "      <td>0.355112</td>\n",
              "      <td>0.347123</td>\n",
              "      <td>0.853000</td>\n",
              "      <td>00:02</td>\n",
              "    </tr>\n",
              "    <tr>\n",
              "      <td>15</td>\n",
              "      <td>0.354002</td>\n",
              "      <td>0.345968</td>\n",
              "      <td>0.854000</td>\n",
              "      <td>00:02</td>\n",
              "    </tr>\n",
              "    <tr>\n",
              "      <td>16</td>\n",
              "      <td>0.353133</td>\n",
              "      <td>0.344938</td>\n",
              "      <td>0.857000</td>\n",
              "      <td>00:02</td>\n",
              "    </tr>\n",
              "    <tr>\n",
              "      <td>17</td>\n",
              "      <td>0.352366</td>\n",
              "      <td>0.344001</td>\n",
              "      <td>0.859000</td>\n",
              "      <td>00:03</td>\n",
              "    </tr>\n",
              "    <tr>\n",
              "      <td>18</td>\n",
              "      <td>0.351490</td>\n",
              "      <td>0.343047</td>\n",
              "      <td>0.859000</td>\n",
              "      <td>00:03</td>\n",
              "    </tr>\n",
              "    <tr>\n",
              "      <td>19</td>\n",
              "      <td>0.350666</td>\n",
              "      <td>0.342318</td>\n",
              "      <td>0.859000</td>\n",
              "      <td>00:02</td>\n",
              "    </tr>\n",
              "  </tbody>\n",
              "</table>"
            ],
            "text/plain": [
              "<IPython.core.display.HTML object>"
            ]
          },
          "metadata": {}
        }
      ]
    },
    {
      "cell_type": "code",
      "metadata": {
        "colab": {
          "base_uri": "https://localhost:8080/"
        },
        "id": "H7BwQ7SFEhOq",
        "outputId": "1eacbb4f-f2d7-46bb-e490-327d47aeba5f"
      },
      "source": [
        "learn.save('myModel', with_opt=False)"
      ],
      "execution_count": null,
      "outputs": [
        {
          "output_type": "execute_result",
          "data": {
            "text/plain": [
              "Path('models/myModel.pth')"
            ]
          },
          "metadata": {},
          "execution_count": 27
        }
      ]
    },
    {
      "cell_type": "markdown",
      "metadata": {
        "id": "YDj0gtn9SmYJ"
      },
      "source": [
        "### Optimize the model\n",
        "Some important parameters to look out for while optimizing neural networks are:\n",
        "\n",
        "-Type of architecture\n",
        "\n",
        "-Number of Layers\n",
        "\n",
        "-Number of Neurons in a layer\n",
        "\n",
        "-Regularization parameters\n",
        "\n",
        "-Learning Rate\n",
        "\n",
        "-Type of optimization / backpropagation technique to use\n",
        "\n",
        "-Dropout rate\n",
        "\n",
        "-Weight sharing"
      ]
    },
    {
      "cell_type": "markdown",
      "metadata": {
        "id": "dmR1OaOQSvGa"
      },
      "source": [
        "#### Number of Layers:\n",
        "We will keep it similar to the above model so that we can compare the accuracy.\n",
        "1 hidden layer.\n",
        "\n",
        "#### Activation:\n",
        "input layer: relu becasue we are in an input layer. uses the ReLu activation function for  ϕ\n",
        "\n",
        "output layer: sigmoid becasue we are in an output layer. uses the Sigmoid activation function for  ϕ . This is used instead of the ReLu function becasue it generates probabilities for the outcome. We want the probability that each customer leaves the bank.\n",
        "\n",
        "#### Type of optimization / backpropagation technique to use: \n",
        "We will use Adam. Adam is a very efficient variation of Stochastic Gradient Descent. For Adam and its variant, learning rate or the decay rate does not really matter too much.\n",
        "\n",
        "#### Learning Rate:\n",
        "default learning rate 0.001.\n",
        "\n",
        "#### Number of Neurons in a layer:\n",
        "We will keep it 6 as per our initial calculation above.\n",
        "\n",
        "#### Weight sharing / kernel_initializer: \n",
        "Normal distribution with which we randomly initialize weights for the nodes in this layer.\n",
        "\n",
        "#### Loss:\n",
        "loss: binary_crossentropy This is the loss function used within adam. This should be the logarthmic loss. If our dependent (output variable) is Binary, it is binary_crossentropy. If Categorical, then it is called categorical_crossentropy\n",
        "\n",
        "### Rebuilding the model using these optimised parameters"
      ]
    },
    {
      "cell_type": "code",
      "metadata": {
        "id": "rHnBy54FU_Lr"
      },
      "source": [
        "import base64\n",
        "encoded = base64.b64encode(open(\"metrics.png\", \"rb\").read())\n",
        "encoded"
      ],
      "execution_count": null,
      "outputs": []
    },
    {
      "cell_type": "markdown",
      "metadata": {
        "id": "HtOrsk1PSJys"
      },
      "source": [
        "### Sample output from Weights & Biases"
      ]
    },
    {
      "cell_type": "markdown",
      "metadata": {
        "id": "0t3VKPqcR8d9"
      },
      "source": [
        "![image.png](data:image/png;base64,iVBORw0KGgoAAAANSUhEUgAAA34AAAG+CAIAAABDPEHeAAAAAXNSR0IArs4c6QAAAARnQU1BAACxjwv8YQUAAAAJcEhZcwAAEnQAABJ0Ad5mH3gAAGGRSURBVHhe7d2Hf1vV/f/x/k8tLVD2KNAChbbQlgIFWugIbSlNaWkDLf0Sfh0kZNmZznYC2QlxJtl779jWliVLlveS5Zn+PspRb2917WvpWuPeq9fzcR/3cXV0Ne3z0fseXd37pRgAAABQEl9qBwAAAEriSz0AAABASXwpCQAAAJTEl1IAAABASXxpEAAAACiJLw0BAAAAJUH0BAAAQIkQPQEAAFAiRE8AAACUCNETAAAAJUL0BAAAQIkQPQEAAFAiRE8AAACUCNETAAAAJUL0nKpUKpU5PP/EZJ3M2gAAABWM6GmFRMmBgYH+/MmtiKEAAKBiET3zMzg4mEwmM0HSKrkHuZ/MPQIAAFQMomceUqlUJjwWAsOfAACg0hA9c1XY3KmQPgEAQEUpf/Ts6en583t/kUkWMk32U4zcqZA+AQBA5Shd9NyyddtX775Xm06fOavaixQ9E62tr/zkDe1Rpmjq+3dORO458xgAAABuV4roqVKgTLKgWiQRSvqUMCrL9o+e1n7Mnju5/8wjAQAAuFrRo+ekybJI0dPj8T717PcKEj0zCdHUiZOnJEx/Mnde5vJtzbHYj197XSZZyDRNIPNIAAAArlb06KkGOE0ioBY9E62tMldfx2clUTWEqa6Sae78BZkrbtuydZv+5jKf9ckcbWWZtAFXlUdVoyzIRXUPJnLZy1NFTLlPffTcuGmzeqBcoid7fAIAgEowSfRMJCSztZp8I5xMJuPxeG9vb+aygcRE/VftRip6vvKT12VSWVD/dbxQuVO7qOKjPn3KVdLyq7fe1kdJtZo+8qoW7X7kqqyAO65c9vKUxPnun9/78KO/Z416CgmguURP9vgEAACVYJLoefny5VOnTkWj0XHTpwQmn8939OhRSZ/jjttpI5omCc+4zqS3yoqzkiYlqmYNrBqjp0qo+niai0w2nNiJk6fkbm/erJfcaTl6iszjAQAAuNck0dPj8ezdu1fCpTF9qty5f//+w4cPt7W1jXt6HjVgmW/0FOZjpVkhctxMaYyesiwJNevL+kllguEEJHHKo0i+lGWiJwAAgLlJoqfky4aGhj179mSlT33ubGpqmuj74knHL0Xu0VONbqrJQvQU2j2YPyW9TDAcT3t7+7t/fk+Lm0RPAAAAc5P/zMiYPnPMnYr5+KXIJXrKRcmLWou1UU+NFkBzGQGVV5fJhgZZsXIq0dP8PQQAAHCHyaOn0NLnkSNHJH02NjbmmDuFynnjRkBl0uipviiX+1FXiSlGT0Uewngro4mipxryVBE2azpx8lRmJaInAACATk7RU6j0uXfvXkmfkkFzzJ1C4qOESJMvuCeNnsZkmXv0lKsylw0klU4lehox6gkAAGAu1+gpVPrMfbxTo1Kg/gt0NZCpvu/Od9RTrpKLk0ZPY+SVG2oXx33QcQ0ODmbi4WSmEj3H/ZEWAACAy+QRPYXEzVAoFIvFLIzSqcioTRIoJR1K8hs3Beqjp5Bwqb9h1oDluNFTqMirbvXFwUNXrl6VR9HuJ5fcqciLzSREU/roKVlTEqf2WGrSfxGvZ+HNBAAAcKL8omdlyuWERlPBqYwAAECFIHrmZGBgIJMTC23cY/UDAAC4EtEzVzl+7Z4XvmoHAAAVheiZh8KOfTLeCQAAKg3RMz+FSp/kTgAAUIGInnkbHBycypfvclsOpQQAACoT0dO6VCo1cPu0ormQNfklOwAAqHBETwAAAJQI0RMAAAAlQvQEAABAiRA9AQAAUCJETwAAAJQI0RMAAAAlQvQEAABAiRA9AQAAUCJETwAAAJQI0RMAAAAlQvQEAABAiRA9AQAAUCJETwAAAJQI0RMAAAAlQvQEAABAiRQ9enZ0dHi93qsA4ApS0KSsZQrcFPT19QWDwevXr2fuFwCcrL6+vqWlJVPgTBU3ekqBvnHjRnd3978BwBWkoElZm2L6HBgYkDLd2to6NjaWuV8AcDIpaz6fLxaL9ff3ZyrdBIobPb1eL7kTgMtIWZPililzliQSCSnQmbsDAFcYHh6+evVqV1dXptJNoLjRU55B5ukAgItIccuUOUsikUhfX1/mvgDALXw+X09PT6bSTYDoCQB5m2L0jEajRE8A7kP0BICiIHoCgBHREwCKgugJAEZETwAoCqInABgRPQGgKIieAGBE9ASAoiB6AoAR0RMAioLoCQBGRE8AKAqiJwAYET0BoCiIngBgRPQEgKIgegKAEdETAIqC6AkARkRPACgKoicAGBE9AaAoiJ4AYET0BICiIHoCgBHREwCKgugJAEZETwAoCqInABgRPQGgKIieAGBE9ASAoiB6AoAR0RMAioLoCQBGRE8AKAqiJwAYET0BoCiIngBgRPQEgKIgegKAEdETAIqC6AkARkRPACgKoicAGBE9AaAoiJ4AYET0BICiIHoCgBHREwCKgugJAEZETwAoCqInABgRPQGgKIieKL0F1Qu/eve9Fy5ekuVUKvXeXz6Qi9Kors2iX9lEMBh6+jvPyV3JHWaagCkgegJAURA9UXrjRs8dn+9U12YheqIsiJ4AUBRET5RejmlSIXqiLIieAFAURE+UHtET9kf0RGHs+HynlDA1STnLtN6mypbxKv1NVO3r6u5+9ac/k5XlJvp11LdF6ssjmeItLbKadm8mD63uUF2l6qZaWV9D1dOT1WRl1TIu/V1lrWx8IYq+Xb0ERZ6k3IO8CnkacpX2ZKRdWz/HTw7YGdETlkkFkDqgLzWqBGnlcaK6p8qIVkCyLgqtzsiC8dpxjRs9tfvJuoeJSqX+gyDrrlBpiJ6YKn2h0SYtaakCqp+kYEm7vmypSdbMqq1ClVd1b1KqpGDdjolvqJscOXbc5KH1lU5NcvOuri51J9pDqGeo3Wpc6qH1d6WV1HFfiHF9mdQLVzfRvwp56HHX11dzOBHRE5ZpNUGrA6qgSfUwL7mqImm30l8ct87INGmpUQ8tt5V7kIsmT8D4EKpUGm+i3RsqENETBSCVSyt8sqyVFa3c6K/V1tHyn6wWDIXVgqyvz4VyQ+3mWlFTtUytMNFDaytrge9mfb00yoL+PoUKgtojjiur8spdqfUneiGqXXue6ubaaurDQP+gWeuri9ozh0MRPTEVWZVKXZTiIMsy19pVudCqkz5rZl1Ua2qVR9Ul/coTUWtqD6GeiXZR3a0qX1lrZpVKraadOHlKq+GoQERPFIyqcWpSZUiVG60MadSaWunUyE3khvpMpmqcWlPuRO5KLhoLpfGhVQXUwpyevjiqRzQ+wyzaQ2etOdELMbbrWya6Vntd6uHGffJwEKInpkJfqcatCapuqEm7KquY6C9OWnkmYnwm+lvpW7RltbJaQahKK+3yiJkmVDCiJwpA1S9Va/SZT2qcsdYYK5dGlSe5udyJalH3oGqluqH+WjHRQ8uda+2ZVXXkVup+1Gr6WjwR7WmrSV9ks17IuO36t0I9Z+3arHvWJu2zBA5F9MQUaZVKFTdVQFS7lAhV3/R1T7tKKy/6i2pZX+6yVp6Iegj1cMYqLfT3nFXQtDtXN1SNWTdHpSF6YqqyaqK+DkrRkSqjCpa6VjFWQMVY1FRi01c0/bUmD61fVtfqqScmdyuT/g5zoW6r7nmiF2Js17eoZX25N7bABYiemCJ9pdJKhEndk4tZxUR/US0b69KklUc9hKrkqg7rb2VsUeSiNBqLsHotxs8FVA6iJ6ZK1ZesqqTKjUyyIBe1Yqd28VE30TKf3OqLAwfVgr6EqdW0m6tr9UnR5KG1i1qB1vY6EuqJvfW738ukbq7aJyLry5ras9WexkQvRLVrNVeulXW01YzlPut+RDAUVreFcxE9MUWqUknFkEmrJyZ1T67NKi/6iyrzZd2PfuWJqAqmlcqs7KjuR92tTOOWSpmkXT2uzGVl7WmgAhE9MVWqKqkSpk1aWVFFSj9JKdTKpX5S5U8Vyqxpouhp/tBaYdUmrVYK7YHUnZszvgr1KBO9kHHb5RHVvek/DJRx18/licHOiJ6YOq1SaQUkl5Kr1Ul9tZEVZDXtJtqkr0Xj0m6onsO496Pq1USlUnsV2qSvxqg0RE8UgBbypMqow1WqcpN1rUxa9RT6YqTVPn0IkyqmiqwqauoqffQU5g+tr9FZlU5dlXVvJvR3pX8IMe4LEfp29RIU1a5fU9FXbVmOx+OZK+BMRE9MnVbi9BXDpO5plUrVnKxqI+vImuq2soKqOcZaZKTuR3uUrK1l/T1MVCq15yxTVjVGpSF6okKp+kgFRPEQPQHAiOiJCqU24tXAgMjaiNdPxFNYQ/SEU+iHJLOmXMZEgbwQPVFxtO/B9V8GET1RcERPOAXRE6VE9ERl0XZ10udOoBiIngBgRPQEgKIgegKAEdETAIqC6AkARkRPACgKoicAGBE9AaAoiJ4AYOTI6Hnr1q3MEsv/wbLCssKyUuxlc6WPnlN5LSwrLCssKywr+S6bc1L0VK+KOXPmzO0wn1SJo6f5s2XOnDnz0swnxRfuAFAUpR/1BAD7c1701GfqQi2PjY1llqZ2PywrLCssK3ZbNu/v+rky0fqTKsuop1Ls5VxqplpHtUy0DssKywrLit2W862Zk2LUEwCKwt2jnnl90gCAhugJoLIYM5O+pYCJysXRM5d3Sa1TwPcTQFkYe7G+xUIfJ3oC7tQ3OHopOrDxctf/+6LltfXhh6q9X57VoJ/umN3wTI1/0cl2T2uJzlA/OnYr1j181Ne37HTbH3c2f29l8I7ZjVnPysJ015zG93bHTgT7Mw9jG+4e9bRm8cn26dujl5sHMpcBVB6iZxrb5XC6wZExf/vgvobequNtb22NPLXMn5XP7pnX+OLa4F92x1af69xV31t9vO17KwPqqjvnNL5YG15zviPSNZy5u0KQTpUcHrsSS226HX9/8mnTQ1Ue7fmo6etzPS+tDb+/K7b8TPsBT+/5pmTu05lQUl7LK+vC6q6+Mqvh4SrvrMOJhsQkSdq8v5tv3+eFUU9trpm5v+W5lYFjfrdFasDFzPu7hQpJ9ATsoiM5WnejZ8au2BsbmvKaXlgTvGfe/6Q6uSiN7+2OrzzbcdTfH+0aMlaHodFb12IDHx9sefo/OVVu9bMNTVuvdrcnRzMr5UPi782WlLyE+cfafrst+tTS/4m/Eg3vm++RpPjBHom/HccDfc3dBUi6Y7duSWKWl/lSbSaD3jG78bsrApJluwb+51U09wzHegqZrSfl7lFPC583QqLng1WeHde7R8es3ByACxA9gTLrTo3ub+z5/Y7og1XZ34nnOH19buMPVgX/tLO55nT7IW9fuGtoJJ/P9YHhsXNNAx/ub3l8sU/d4f0LvNO3R7/w9CaH//vDxiyDI7dutgzuvNEz72h6nFXLr2q6Y3bDw9Xen3walqix7mLX6XCypXckc8vikChTn0jVnGqXzK2ew1c/aZQnUHezJ9o9/Nr6dDD92ieNv9kSTfRmB1B9irKWqMbFqKc218zcF5c/RPXxNvm3zzQBsDdjf9e35FINshA9gfLoGRw77OubsSv+jYWZxPnEEv8/DiaulG83uP6hsaO+vj/XxR5YkBlDlTT81z3x06H+1PDYjZbU59e75x5pfWtr9OllmS/rtekuib+rg+/tjq0623Ey2N/aV9ygaUJi9/mmZNWJNonj6rl9ZXZ6+vKsRomeEoj/8Hkss2qRuXvU0xrZOnqk2vt/e2OF3bsDgIMQPdMsZHbAGol3p0LJD/e1PPmf76MfXeh9f3f8eLA/NTLhEGOJ9Q6O7anveXtb9O654/8M6KufNHxzie83W6Pzj7Xuqe/1tQ0Oj9quEw2N3jrq7/vL3riETu2Z37+g8bFF3o6J9ygw377PC6Oe2lyz62bP91YE3toaudlSoh+3AZgi8/5uoUISPYFSSA6NXYwM/Otg4tnlmfHCR9LDb82S8LpTdkmcRj2p0W3Xu3+xMXLPPM8r60If7o1/drHzQiTZ+b+7UdpZpHv4y7Pq1Xt+x+zG+xd4Hl/sK83zd/eop4XPG3EpOvD6Z00v14bOhG13RAIApUH0BIpoaOTW9Xhq/tHW5//z5e9DVd7fbotuvdZd7H0foZGs87U56YHPr32SHmP+087mzBX/oU9R1hLVuBj11OYa+bf//Y7ok0v9Bzy9mSYA9mbs7/qWXKpBFqInUEh9g2OSNbdf6551KDFtc0T74c6DVd5fbY58erEz3DmUWRWlkugd+cXGyO3o2fiHz2NZv3wvHnePelo2c3/LXXMb15zvGJj4R2wAXIzomWYhswNiaGRMouRBT++yU+3v7mz+wergvbqDHN0xu+HRRd5fbYmsvdDpbx/M3AZl0pEcVbt4mvd38+37vDDqqc315h1tvXe+Z9bhRGs/A/+AA5j3dwsVkugJ5KF7YPTi7VME/fNA4ucbI99YmBnUVNM989IHOXr38+YlJ9sOeHoDHYODI3n3SbiGu0c9LXzeKNJ9nlrq//OuWKCDbwCASkT0BHJ1MpR8qTakBc075zR+a4lv2qamfx1s2XS5y1k/vqlkxsykb7GcqIwY9dTmesf8fS/Xhn6xMVLG44gByJ2xF+tbcqkGWYieQE7kY/LNzekDp7+/O7bibMchb18wPajJzmqYkLtHPS3ztQ/9ekv0uZWB4wF+5A5UIqJnmoXMDrtp6RvZ3dB7uTjjKP72wXd3Nj+7PLCdEwA6n3l/N9++zwujntpcr39o7P3d8YervbvrezJNAGzMvL9bqJBET7jEyrMdD1R5f7Mlcj1e4ENVS6j9+xeJxxb5lpzKPi04YMLdo54WPm800qHumN2w8ERbD6fTBCoP0RNuEOoc+uPOZrUL5vTt0YZEwdJn/+DoqrMdTyz2f7C3pYlT/7mCMTPpW6aSqLIw6qnNs6w82/6Nhd6Z++PRbvoUYHfGXqxvyaUaZHFP9KypqZ027R2ZLl0a5w6lUV07Y8ZHXV3dmdbbdu3aP336+8FgOHMZDrTkVPvdcxv/XBf73faopE+Job62whzMaF9j7zM1gV9tid5o4ehIyI+7Rz2nYk997/Orgm9vi9ZzOk2g8rgkekp8nDWrOpVKSYKUcJmVIyVrzpw5WzVKBlVr6q/68MNZRE/namwd/O226AtrQkf8fQ2J9LKkT4mhoSkfvP1EsP+l2tBr68NnwslME5zPfBvdfPs+L4x6avMsV2IDP9vQ9Mq60Fl6FmB75v3dQoV0Q/SUHClpUhvsrKmplSSqlhWJlZIv1WCnLFdV1WjRU1besmWntBA9nav6RPvXPmn818GEOmD4jZbUrzZHvjK74YO9U/o6T/2k/Qergl80csY/WOHuUU8LnzeaRN/IHz5vfmqZ/4CXzgVUHDdET/2gppDcKYFSLWukcdq0dyRlSkjVgqkaAY3HE/qb52sMZXUx0v/zDeGXasPHA/2ZprGxy5H+X24M3zmn8f/tjzd3DWZa8+FpHfjD5+kzTa8939E/OJpphcOpPmvMTPqWqSSqLIx6anOjj75o+fo8z6cXO4dGC/aGAygGYy/Wt+RSDbK4JHpKglSDmmLc6KntCart66kF1qzkmq+enj6mMk4ffxH9yuyGv+9rjrT26tuPNbb/dF3wnnmN/9ofDbbIP/l/r5p08se6/1oXuWdu44d7or5Yd9a1TM6dMp22VNw96jlFVcfb7p3vmX040drHL42AylIRo56XLl3VWuRalT6lRTVOMXqijE6F+l9dH351Xeh0aJw9xs41JV//rOnBKu/ik3kcFKl/aGzF2Y4HFninb4/62znRnwuZb6Obb9/nhVFPbW605Wr308v8M3bF/O38gA+wNfP+bqFCVsS+nvoWWbmqqubq1RsSQNU4qDZp9wCnmHu09SuzG+Yfbe0dHP+sQqfDyZ98Gn50oW/lmfa+wZzS566bPU8t9f1iYxNn+cMUuXvU08Lnjd7JYP+P14XoaEAFckP0FJIsJX1KrAzqfuEuiVM1SqbUvmfXLyuMejrUQW/vC2uCP/00fK7J7EeyJwL9r6wLP7HY9+nFzsGRST4sjwX6Xlwberk2dNTn2i86YcxM+pYpJio9Rj21uVGwc+itrdHvrwpyOk3A5oy9WN+SSzXI4pLoKSRo6gcv1VCoip5yUbKputZ4CE+ip0PNOdJ61xzP4pNt/UOTnEj9qL9P0uRTy/y3T4OZaTS6FE3+clNEVttytZtfPmDq3D3qOUXSbf+yJ/7IQk6nCVQc90TPqbCQ2VFeu+t7v7ci+PONkQuRnL6tO+zre2FN8NnlgT314x/Mxdc2+MedzffO88w72to9MJJphRuZ93fz7fu8MOqpzcf1z4MtX/2kcUkOW48Aysi8v1uokERPOM/gyK1/HGi5Z55n1dmOSb9D1xz09P1gdfC5lYH9huN0JnpHZu6L3z4QfXO0i58WoTDsHD27urrV/u5ZOyBpsr44EsFgePr099XXRzJdvHhFtVu2+lzHY4t8M/e3NHM6TaCSED3hPDtv9Dy7PDBtU+Rynj9Q2NfY+72VgRfWBA/pDmSdHB6rOd1+33zPr7dEbnJavwpg3EbXt1jYgp+IbaOnipXqx5fajvLqKkULplnRUzsfRy7vklrHZE3ZCJStwd9tizYk6HeAfRl7sb4ll2qQhegJh+lOjf1tb/z++Z71FzqH898lc3d9Ora+XBs6Fsh8qEuQfWqZ/8frQsf/0wIUhG2jp4TImf85wZvJzu6X/ve0w3JRHZCuUK7FBn6+MX06TfNfCgJwGaJnmoXMjnLZdq372zX+X2+JXI9bGSkZHfv39uvpAwq+tj58Mth/2Nv7w9XBb9cEPr8+zneOcCXz/m6+fZ8X20ZPfaaUuSyrX2dmMUZP7dv2XDKoet9M3r3W/tF3d8ak9x30stUH2Fe+NXNSRE84Sbx3+M+7Yg9Xezdf6R6zmAfSu4puvNz15FL/6581/Xxj5P4FnqWn21Mj/NABBWbn6Kllx9yjZ/D2ud9kQd2krm6fas/L6OhoKjWoTR/ubb53vuezC+39A3Kv/21nYmIq5TQykutZVwqC6Akn2Xy166ll/re3Rae4U2ZyeKz2fMcTi31fntXwwZ54oo+ftFcQ4za6vsXCFvxEXDbqqXfx4pWJrtKodzLr/cyKnguOtMi23+yD8VhnUt/OxMRUysk8eha8ZhI94RiBjqHp26OPLfLtvFGAAwH2Do6tPNvx4b6WhgTn8UNR2DZ6WtvXU2+X4XzF1my71v1Mjf+93bFAB90QqBREzzQLmR2lt+Fy1zeX+H6/o7mxtTCfUl0Do51Jxjsrjnl/N9++z4tto6ca6cz6hbtk0BkzPlKNij56yrWyrKVVWXPcgVI99b6Zv3tnwslX14enbYpwOk3AtvKtmZMiesIZbrSk3twckejJuU/gFLaNnkLFx2m643oGbx+2U0VPiZXaL4rUj4pknfp6j3ZcT1nNciLXC3UO/3Zb9IergyeCnE4TqBRETzjD+oudjy/yvVsX87XzxRymxJiZ9C0FSVSKnaPnFOXyLql1zNdMDt/6YG/8Gwu9E51mDEDZGXuxviWXapCF6AkHuBZL/XJT5Oll/n2GExEBtuXi6FlAsw4n7prTuOJsRyrnM5MBcDSiZ5qFzI5SWnO+49GF3vd3x4L8FgFTZt7fzbfv88KopzY3UXuh84nF/n8cTMR7OJ0mYEfmvdhChSR6wu4uN6dPefKdFYEDHvePAMFN3D3qaeHzZlwHvX0/XB2cvj1aqJ8PArA5oifsbtXZjoervR/sjTd1DWWagCkwZiZ9S6ESlWDUU5ubuBFP/WJj02vrw5xOE7AnYy/Wt+RSDbIQPWFrFyLJ1z9ren5l4IiPIU84jLtHPQultW/k3Z3N367xczpNoEIQPdMsZHaUxrLT7Q8u8MzcF491sx8YCsO8v5tv3+eFUU9tbu7vBxL3zmvcdi19jCcAdmPeiy1USKIn7OtMqP+19eEfrg4eD3DMPziPu0c9LXzeTGTp6Y4Hq7xVx9u6UyU9kTSAsiB6wqZSI7cWHGu9f4H3HwcSnGMdBWTMTPqWAiYqRj21ubkd17ufXe7/6554uJP9uQHbMfZifUsufTwL0RM2dTLY/+r68EtrQ6dCDHnCkdw96llAZ8PJ19aH39wcuRrjdJqA+xE90yxkdhRV/9DY7MOJe+Z7Zh1KtDHkiYIy7+/m2/d5YdRTm5sLdQ69vS36wpoQp9MEbMi8F1uokERP2JF8Av24NvTa+vDZMMdbgVO5e9TTwufNRJJDYx/sjT++2LenvifTBMC9iJ6wndTIrXlHW++d3/jJ4URHP0OeKDBjZtK3FDBRMeqpzSc150jrPfM8a893DI8W7P0HUBDGXqxvybGP6xE9YTtnwsnXPg3/eF3oNHt5wsncPepZWOsvdn5ziW/W4dZWdrAB3I7omWYhs6NIRsZuLTnV/mCV9+ODLXwIoRjM+7v59n1eGPXU5pM67Ov70Zrguztj3jZOpwnYi3kvtlAhiZ6wlwuRgZ9+Gn5xbegkPziAw7l71NPC542JGy2paZsiP/206Tyn0wTcjugJe1l5tuORhd5/Hki09DLkiaIwZiZ9SwETFaOe2nxSbf0jf6prfnZ54BCn0wRsxtiL9S059nE9oids5Gos9fONTT9cHTrB6YvgfO4e9Sy4fxxIPLDAu+M6p9MEXI7omWYhs6MY1pzveGyx76MvWpp7OGM7isW8v5tv3+eFUU9tnovlZzoeqvIuPtnWPzSWaQJgA+a92EKFJHrCLm62pH65KfLcyuARH9+4wQ3cPepp4fPGXN3Nnu+tDM7c39LczZYn4GZET9jF+oudTyzx/d++eKSLDx4UkTEz6VsKmKgY9dTmuTjXlPzJp+G3tkZvxFOZJgA2YOzF+pbc+7iG6AlbaGwdfHNz5DsrAocZ8oRbuHvUs+BCnUO/2x79EafTBNyO6JlmIbOjsDZc6npqmf+DvXH5+Mk0AcVh3t/Nt+/zwqinNs/FwPDY/+1reYLTaQI2Y96LLVRIoifKz98+9NbW6NPL/Ac8vZkmwPncPepp4fNmUvOPtd433/Ppxc6xwt83ALsgeqL8tlztltw5Y1cs0M6JTFB0xsykbylgomLUU5vnaMOlrieX+ucebe0cGM00ASg3Yy/Wt+TVxxWiJ8os3Dn0262Rby3xf+FhL0+4irtHPYvhiK/vxbWh9FZoBzveAK5F9EyzkNlRKDuu9zy7PPCnupi/nQ8blIJ5fzffvs8Lo57aPEc3W1Jvbo78bEPTxQin0wTswrwXW6iQRE+UU3P38PQd0ccX+3bX97B3F1zG3aOeFj5vJtXePzpjV+y7HOkCcDWiJ8opfRDpFYE/fN7saWUvT5SIMTPpWwqYqBj11Oa5++fBxENV3h3X+ZE7YBfGXqxvybePC6Inyqa1b0RC5yPV3h3XukcY84TruHvUs0hWnmmXmlBzuiM1zOk0AXcieqZZyOyYuj0NPc+vCv5uW7QhwclLUDrm/d18+z4vjHpq89ztutnz3MrgPw60tPSOZJoAlJV5L7ZQIYmeKI+ugdF3dzY/sMC76XLXIMMbcCN3j3pa+LzJxfnIwE8/DU/f3tyQYCccwJ2IniiPA96+H6wOvrWN8zWj1IyZSd9SwERlk+jZ1dU9Y8ZH06a9I3NZzrTqpFKpWbOqZZKFTNNtWe3BYHj69PflftR06dIkpVu9k/m+n+Gu4d/vaP7xutDpEKfTBGyh4DWT6Iky6Bsc++ue+P3zPesudA4M5/1fCziCHaKnio+7du2XZZkb86UWTI1XSbiUq6qqarToqS0Xz8Dw2If74t9a4t/bwLnNAHcieqZZyOyYiiO+vh+tCf56S/Q6Q54oOfP+br59nxc7RE/JizNnzlaDnTKXZWlRV+lJysyKnmrlQ4eOaXFT1qmpqVXX5vKeqHUsvHvVx9serPJuvNyVuQygrMx7sYU+TvREqaWGb320v+X+Bd5V5zr6h9jLE65lh+ipz5Qyl+Vxvyg3Rk9Jmbt27de3y7L2bbtca+HzRozlYOPlzqeW+hcca+0aGMk0ASiyTBctCaInSu14oO+l2tAvNjZdaR7INAElZMxM+hZriWpcNome2lBl7tFTu6hvDwbDavRU3Y/6Et+Eeiez3s/R0dGenj7zac+19hdWBf78efh6U1fWVUxMTMWYRkZGM110PAWvmURPlNTo2L8/Ptx633zP0lNtvYNm/+uA0zl01FPt/alW07frTdReEPWJwV9tjkzbFLkSK8r9Aygv90RP2bJX3wRNVFjVtfrfeGo3KV4NRZbT4eQr68JvbAhfZsgTZWK+jW6+fZ8XO0RPC/t6atVSm4w/ja+r26cNpk5EvW8W3r32/pEZu2LfXx084p/qywcwdfnWzEm5JHpqv9yUqipVMqu26guuVmHlJlrplIVJyygKYt7R9JBn9Ym2rgGGPOFydoieUuuk4qkvx7U6KSVR6qT+G3N99NTT2uUmsqACqLr5xYtX1DrF8K+DiYervduv/U/eBeAOboieqrZKiVQXJUTqS6rQb/fLsvH4IBOVXRTW+abka+vDP/k0fCGSzDQBJWfcRte3WNiCn4gdoqdQSVE/eCllcPr091WdlOqnH+DM2gjXR8/6eo92XM+6un2ZNSam3klr7+fqc52PLvSuPNc5wg8RgXIreM10Q/SUmqj/FknqqXEIUxqlXG7ZslPKaFYwzUquKJ7qE+0PLPDOP9bakeQUeXA/m0RPJ9pd3/PcquDHhxJt/dQKwG1cEj0lO6qteTFu9JQWtbGubfcLWVCDAVP55qi/P8mUy3Ta3/nautBLawPHvZ1ZVzExlWZSfdZ8G918+z4vLo6eubwnah1r796F26fT/OPOmLeN02kCZWbeiy308YoY9bykO7yIXKtPn4pca/kL9+HhEaZcpupjiYeqvbMPtcS6UllXMTGVZsp02lJx96intUyZo6bbp9P8yafhc03snAO4TUXs66lvkZWrqmq0nKrIRW1nUBTDtXjqjc+aXqoNnQnzQYIyM2YmfUsBExWjnto8X6mR9Iknnl7m39/I6TSBMjP2Yn2LhT7uhugpJFmqYUsJkTP+8wt3bSxTUqk20qkt6/OoLEj0jMcT6iIK60yo/9dbIvfMa/z4UKKljz23UCncPepZbAtPtD260LfpCqfTBNzGJdFTSJRUe3Oq4U81FKp9jS7hUl07ffr7EkylMR5vkWtVo/EreBTEhUjync9j9y/wfHlWw2ufNl2IcCxPlJ/5Nrr59n1eGPXU5hZsvtr91DL/4pPtSU63C5SVeS+20MfdEz1hK1djA+/vjj9U5ZXQ+cPVwe3Xu7tTHMgTlcXdo56WM2WOjvrTZ9z9cF+8uXs40wTAFYieKLD6ltT/+6Ll0YXp0PntGv/a850cHgW2YsxM+pYCJipGPbW5BQ2JwV9vif5mS+RGC0dcBsrJ2Iv1LRb6ONETBeNrS8050vrNJX4JnU8u9S860R7rIXSicrl71LPY2pOj7++O/2hN6Higct8EwJWInmmWt8uhhDqHFp1sf2ppOnQ+vtj38aFEuIvvyGBT5v3dfPs+L4x6anNrZh9OPLbI9/kNdsQHysm8F1vo40RPTEmsZ3jVuY5v16RD50NVnr/tjfvbhzLXAZXN3aOeU8mUOVp7vvMbC31rzncU/6EAlA7RExa1949suNT53IrAHbMb7pvv+VNdrD6RGuMTArZnzEz6lgImKkY9tbk1exp6n1sZnHOktXOAHykCZWPsxfoWC32c6Akr9jX2vlwbunNO491zG3+3PXquKTk4wgFQgP/h7lHPErgQSb7+WXjGrligg+9SAPcgeqZNZbu8Am271v1MTeDLsxqmbWo67Ovr56h7cBTz/m6+fZ8XRj21uTVNXUPvfN78xmdN5zmdJlA+5r3YQh8neiI/R/19P1wdvH++Z+35zp5BQicwIXePek4lU+ZIHuFfBxPfXOLbXc/pNAH3IHoiDzfiqdfWh788q2H+sba2fva+giMZM5O+pYCJilFPbW5Z7YXOxxb5Vp5tH2VHcqBMjL1Y32KhjxM9kat47/D0HdE75zR+sCcW7mTXK2AS7h71LI0jvr4X14Zm7m+J9XC8NsAliJ5pU9wurwRDI2NzDrc+uMDzm62RhtbBTCvgQOb93Xz7Pi+Mempzy7xtg7/dGvnlpqYrzQOZJgClZd6LLfRxoidyUnu+85tL/C/Vhi7zAQDkxt2jnlPMlDkaGL710Rctz9T49zeyuyfgEkRPTG53fc93VwSeWOz7wtM7PFqKzxugeIyZSd9SwETFqKc2n4oVZzoervbWXujIXAZQWsZerG+x0MeJnpjEuXDyxbWhL89qWHm2g5+0A7lz96hnyext6Pn+quC/Dra09Y9kmgA4GdEzberb5W7lbx/6+cbIHbMbZx9pbellN3+4gXl/N9++zwujntp8Kq7HB97cHHlra1QWMk0ASsi8F1vo40RPTKhrYORv++L3zvfMqIuF+Ek7kCd3j3pOPVPmqGtg9IO98edWBg552d0TcAOiJya09FT7NxZ6f7ah6WZLKtMEOJ8xM+lbCpioGPXU5lO06GT7w9XeDZc6M5cBlJCxF+tbLPRxoifGt/lq19M1ge8uD3AKO8Aad496ltLnN7qfqfHPPdraneJMFoDjET3TCrJd7iaHvL3PrwreM69x+7Xu1DA/LYKrmPd38+37vDDqqc2n6EIk+caGpt/viDZyUGGg5Mx7sYU+TvREtivNAy/Xpn/SvuxUe9cAYwyARe4e9SxIpsxRS+/wn+uaf7QmdDzQn2kC4FhET/yP5p6R6dujd81t/PsXLc3d/KQdLmTMTPqWAiYqRj21+dTNPdL6SLVvy9XuzGUApWLsxfoWC32c6In/Ghy9Nedo64NV3t9ui3jb+GILmBJ3j3qW2MbLXU8u9S841trH0YUBhyN6phVqu9zp1l7ofGKx70drgpwuGS5m3t/Nt+/zwqinNp+6U6Hkq+vDf66LBTo40BtQUua92EIfJ3oiY3d9z7PL/Y8u9B0P9BfowwKoaO4e9SxUpsxRuHP4nR3Nr6wLnwlzzA3A2YieSJNq/sPVwS/PavjsUldyiO+z4GbGzKRvKWCisnP07OrqnjHjo2nT3pG5LGdadVKp1KxZ1TLJQqbptonajdQ7Waj3c2jk1j8OtHxjkW/HdXb3BEqq4DWT6Il/e9sGf76h6aufNM472trax1mSgcKwbfRU8XHXrv2yLHNjjtSCqfGqS5euylVVVTWTRs+CW3ehU6Ln4pNtqZHCxFkAZUH0TCvUdrkTySv/+FDi/gWe93bHwpwtExXAvL+bb9/nxbbRMxgMz5w5Ww12ylyWpUVdpScpMyt6qpUPHTqWS/RU71sBq+thb9+La0N/3ROPcPANoITyrZmTInpWuqP+vudXBX+wip8WAQVm2+ipz5Qyl2VpUVfpGaNnTU3trl37VfvAQKkrhqd18O1t0Tc+a7oQYXdPwMGInhVtaOTWh/ta7p3vWX2uo4cz1KEyGLfR9S0FHKWzc/SUEKmWc4+e2sWs9omodzLr/RwdHe3t7bc2xdr7/loX+eZi39ZLbVlXMTExTWUaGTELAAWvmUTPinbQ2/e9FYFXakM34pN8igDIl5tGPdXen2q1HKPnuCR6TkXNqdYHFniWnGhNDY1kmgAUQqaLlgTRM81CZneB5NDY+7vjX5/buPFyVz+/akfFMO/v5tv3ebFt9LSwr6csT5v2jn6a6KfxGvW+Fba67m3ofX5V8MN9LbEedvcESiTfmjkpomfl2tfQ+50VgV9sbGpIMOQJFJ5to6ca6cz6hbsa11SNykSjm6q99Pt6iuvx1JubIzKxbzrgXETPCtU9MPqHz5vvmtu443r3IEcqQSUxbqPrWwo4Smfb6ClU0NQPXgaD4enT31fRM2uMU9sxVJkokmZR72QB30/R1j/yl92xZ5cH9jf2ZpoAFFnBaybRs0LtvN79TE3grW1RXzvnageKws7R07kWn2y/b75nzbmOgmZaAKVD9Ewr7Ha5/bUnR3+7LXrnnMb9DT2jY9RvVBbz/m6+fZ8XF0fPXN4TtY7ld28iO653P7s88PcDLa39nP8CKAXzXmyhjxM9K9G2a91PLfP/cWdzqINjyAPF4u5Rz4JnyhxdiCTf2ND01tbojRZ2UgcciehZceI9w7/cFLlzTuPxQH+mCagkxsykbylgomLUU5sXUHPP8J/qYt9fFTzsY28EoBSMvVjfYqGPEz0rzoZLXU8u9f9tbzzKyeiAYnL3qGe5jI79+5PDifsWeKSUZZoAOArRM63g2+W21dQ19JNPm+6b7z0dYsgTFcq8v5tv3+eFUU9tXlibLnd9a4n/40OJjiTnYAOKzrwXW+jjRM/KUnuh84klvn8ebIlzQGagyNw96lmMTJmjk8H+V9aFp2+PNrZygA7AeYieFSTQPvjjdeFvLPSdb0pmmoDKY8xM+pYCJipGPbV5YfnbB6fviL60NsQO60AJGHuxvsVCHyd6VpBVZzseX+ybd6y1tY+DkgBF5+5RzzJKDo3940DioWrv5qvs7gk4D9EzrRjb5XbTkBh8cW3oqaX+y1FOQIeKZt7fzbfv88KopzYvuNrzHY9Ue+ccae1JsbsnUFzmvdhCHyd6Voplp9sfXehdcrKtc4BKDZSCu0c9i5Qpc3TY1/ejNaF362J+Dk4MOA3RsyJcjw+8sCb43MrA9TgHYUalM2YmfUsBExWjntq84OpbBn+zJfrq+vDpMHuuA8Vl7MX6Fgt9nOhZEaqPtz1S7V1zvoMvp4CScfeoZ3l1JEf+tjf++GLfjuvdmSYADkH0TCvSdrlNXIomf7g6+HJtqD7BkCcwSX83377PC6Oe2rwYVpxpv3+BZ8Hxtv6hsUwTgCIw78UW+jjR0/3mHkk8WOXZeKkzSYEGSsjdo57Fy5Q52lPf89zK4Hu7Y6FOdvcEnMQ90bOmpnbatHdkunRpnDuURnXtjBkfdXVlvqDRbjJrVnUq5c4RwbNNye+vCv5sQ5O3jeoMpBkzk76lgImKUU9tXgyXowO/2Nj0xoYmDlQMFJWxF+tbLPRxl0TPXbv2q/gYDIYlXMo8c8VtkjVnzpytGiWDqjUld8okLbIsLXIPt9d1m1mHEg8s8Oy80T04UqwPAADjcveoZ9nFe4ff2x17epl/182eTBMAJ3BD9FTZURvslECZlSMldEr0VIOdslxVVZM1xnnx4hUVQ13mRLD/eyuDv9kSCXD8EeA/zLfRzbfv88KopzYvBrnjxSfb757buOhkG5vWQPGY92ILfdwN0VM/qCkkdxpzpDROm/bOli07xx3gNKbV3I3a2Ef74/fN9+xv6BkczrQAlSzTaUvF3aOexcuUudtxvfvby/wf7I1Hu9i6BhzDJdFTAqW2B+e40VNajPt6KpJZjd/R5663t9+e055rbc8s803fGq6P9GRdxcRUmZPqs8bMpG8pYKJi1FObF8nZpuRPPwv/clPkEidpA4rG2Iv1LRb6eEWMel66dFVrkWv16VMW5KLlIU/bGh679cHe2L3zPSdDySIWfgATc/eopx2EOof+uLP5O8v9+xrY3RNwjIrY11PfIitXVdWonKrlzqJul5fF/saeZ5cHPtgbb+4ezjQBuM28v5tv3+eFUU9tXiSp4bGPDyXumtu48mzHaBEfB6ho5r3YQh93Q/QUEh8lfUqs1H97LolTNUoq1UY6tWWVO7PGR90hOTz27s7mh6o8HHMEKCN3j3oWNVPmbtOVrm8u9X+4P97SO5JpAmBvLomeQkKk2ptTDX+qoVAVPeWiZFN17fTp72vBVLVktbvArpvdTy/z/+NAS0svQ55ANmNm0rcUMFEx6qnNi+eYv//l2vCvNkeuxdjdEygKYy/Wt1jo4+6JnlB6UmO/2xZ9YrGP/e6B8nL3qKdNNLYOvr0t+v1VwUNe3ivAGYieacXeLi+l803J51cF5x5tbevn6ydgHOb93Xz7Pi+Memrz4pGN7Y++aLlvvuezS52ZJgAFZd6LLfRxoqfb7K7v/XZNYPu1bs7YDpSXu0c9i50pc1d7ofORau8/DiTa2d4GnIDo6TarznU8tsh3NswPjIDxGTOTvqWAiYpRT21eVF94en+4Ovj2tub6xGCmCUDhGHuxvsVCHyd6us3Hh1ofWOAhegJl5+5RT/u4Fhv41ebIj9aGjvozZw0AYGdEz7QSbJeXzB93xp5a5r/SzG+MgPGZ93fz7fu8MOqpzYsq0Tv8wZ74I9XezVf/50x1AArCvBdb6ONET1fpHhh9dX34tfVhbxtfPAFl5u5RzxJkytytPNtx33zvx4cSXQOlPlM/gHwRPV3F0zr4wprgjF2xKCcxAiZgzEz6lgImKptET3X6jGnT3tHOrJEl6yjIQruJTNqp4ILB8PTp76tGmbQTyE1EvZOlSai7bnZ/Z7n/9zuiUgMzTQAKpOA1k+jpKieC/d9dEVh4oq0jyaY/UGZ2iJ4qVqr4qJ31TV2laClTu0rdRCVLda1aluhZVVWTdXObuBBJvrEh/ON1IamBmSYAdkX0TCvNdnkJbL3W/eRS/47rPQPDHFkJGJ95fzffvs+LHaKn5MWZM2erwU6Zy/K4p22TcGlMpUpNTa1KrrKOdubhXN4TtY7ldy8v0e7hP9fFHl/k3X6N3T2BAjPvxRb6ONHTVZaean9koZeftwN2YIfoqc+U+uHMLBNFT31ylXW0b9slg5YmU+ZoeOzWguNtd85pnHMk0TfIdz6ArRE9XeWj/S33zufISoAZY2bStxQwUdkkempDlXlFTxU09buHSgxVy+p+tH1AJ6Leyaz3c3R0dHBwqBjTxkvt31ri+8OOaEO8P+sqJiYm82lkxGyDreA1k+jpHvLXf2tr9KllgasxjqwElJ8LRj0la0r6NKbMidaflETPgYFUMabDjZ2v1AZfXRc66unKuoqJicl8Mo+eBUf0TLOQ2W0o0Tfy43Xhn3wa9vIbT2Bi5v3dfPs+L3aInlPf11NypzZuqqmr22dszKLet5JVV1/74O93ND+1zF93syfTBKAQ8q2ZkyJ6use1eOoHq4N/2RNr5shKgA3YIXqqkU41bClzlS+NY5n66KlPqOrm69ZtamlJyIIWYeXmFy9eSd/SNvoGx/55oOWO2Q3VJ9pSIyXKuwAsIHq6xyFv3zM1gSUn2zo5qDIwMeM2ur6lgKN0doieQiVF/Y6bEiunT39fRU8JndqPh2SqqamVderrPdohPNXoZlZjXd2+9F2bUu9kAd/PSW243PXYIt97u2PhzqFME4ApK3jNJHq6x4bL3U8s9tXd6ElxZCXABmwSPSvHYW/vj9YEf7ah6UKEn1oC9kX0TCvldnnxVB1re6jKe66JmguYMe/v5tv3eXFx9MzlPVHrWH73LLjZknpra/TZ5YE99b2ZJgBTZt6LLfRxoqd7/GV3/P4FngsRft4O2IK7Rz1LmSlzlBwaXXqq/YEFnj983uxr49eWgE0RPV1icOTfP98QeWqp/3o878OdABXFmJn0LQVMVIx6avOSuRIbmLY58vhi35arXaV9ZMC1jL1Y32KhjxM9XSLSPfzi2tAbG5r87exfD9iCu0c9bWvz1fRe77/aHOEIx4A9ET3TSrxdXgwXIgPPrQz8bW+cIysB5sz7u/n2fV4Y9dTmpeRrG5y+PXr/Au+y0+39Q/zmEpgq815soY8TPV1id33P08v8y061d3FkJcAe3D3qWfpMmbs99T3fXRF4bX34DGcVBuyH6OkSa853Pr7Yt+tm9yDHUgZMGTOTvqWAiYpRT21eYrGekb/siX9ldsPfDyTa+tkaB6bE2Iv1LRb6ONHTJWYfan2wynueIysBtuHuUU+bO+rve2lt6Iergwe9HGgJsBeiZ1pZtssL64+fN0v0vBglegKTMO/v5tv3eWHUU5uXXndq9JMjrXfPbfxzXXOIkxsBU2Deiy30caKnG/SkRl9ZF/r2ssCNFo6sBNiFu0c9y5Upc3e+KfnGhqanl/nrbvZkmgDYANHTDXztQy+sCf0sfWQljqIMTMKYmfQtBUxUjHpq87IYGr219nznI9Xe326L1rNZDlhl7MX6Fgt9nOjpBqdCye+uCPzfvpZ470imCUC5uXvU0xFun1oz8shCX+2FriF+ggnYA9EzrYzb5QWx43rPk0v9y0+3d6f4LScwCfP+br59nxdGPbV5GX1+PX3guZ9taLoQYVd4wArzXmyhjxM93WDZqfZHq717G3rZrAfsw92jnmXPlDkKdQy9u7P57rmNc460drFxDtgA0dMNPtrfct98D0dWAnJhzEz6lgImKkY9tXl5HfD0/mB18OXa0LEAOzAAeTP2Yn2LhT5O9HSDt7c1P1TludzMCYsBG3H3qKeDtPaNzNzf8pXZDX/dE4/1cKphoMyInml22C63rD05Klvz31keuMlPOIEcmPd38+37vDDqqc3L7lSo/9X14e+uCOxt4AjzQH7Me7GFPk70dLz6xOD3VwV/uSkS6OCwyYCNuHvU0yaZMkf9Q2OLT7bdN9/z+x3NPg5CB5QV0dPxjvj6nl0emLkvHueLJCAHxsykbylgomLUU5vbweXmgWmbIt9c4ttytTvTBCAHxl6sb7HQx4mejrfxctcTi30rz3Z0D/DjTcBG3D3q6Thjt/696UrX44t90zY1XWHPeKB8iJ5p9tkut6D6eOvD1d79nr6hUQe/CqBkzPu7+fZ9Xhj11OY24Wkd/P2O5gcWeJecbBsYHsu0AjBl3ost9HGip+N9sDd+zzwPR0sG7Mbdo562ypS521Pf82yN/7VPm06F+jNNAEqL6Olsw6O3fr4h/HC190qM74+AnBgzk76lgImKUU9tbh/NPSN/3RP/6ieNH33R0tbPmYeByRl7sb7FQh8nejpbc/fQi2uDz68KNrbym03AXtw96ulcR/19L64N/WBV8ICHAy0BZUD0TLPbdnnuLjcPPL8y+ObmSJAjKwG5Me/v5tv3eWHUU5vbSufA6CeHE3fOaXx3ZyzcxYFBgEmY92ILfZzo6Wx7G3qeXub/f1+0tPRSQAF7cfeopw0zZe7ORwZe/ywsxXPHdQ60BJQa0dPZai90Pr7Yt/pcR3eKIysBOTFmJn1LARMVo57a3G5Sw2Orz3U+VO19a2uU88AB5oy9WN9ioY8TPZ1t9uHEg1WeA16OrATYjrtHPZ1OEudbWyOPVnvXnu8YGaN+AqVD9Eyz53Z5Lv64s/nuuRxZCciDeX83377PC6Oe2tyedt7ofnKp740NTeebKKHAhMx7sYU+TvR0sP6h0VfXhx9Z6L3GkZUA+3H3qKedM2WOgh1Df6qLfXlWw2+3RTlICFAyRE8HC3QM/nBN8IU1IU8bRRPIlTEz6VsKmKgY9dTmtnUlfWL3Jkmfv94SYadPYFzGXqxvsdDH3RM9a2pqp017R6ZLl8a5Q2lU186Y8VFX139/0rhr1/7p098PBsOZy45yJtT/3RWB32yJhjo5shJgO3aOnlIGpRgaS6ImlUrNmlUtkyyoFu0mMknlVI0uIInzt9uikj5/uamJc3MAJeCS6Cl1UJVICZFSHLOipFTMmTNnq0bJoFoxVWlVomcgELq9osN8nt5Ryf+PA4kER1YCcma+jW6+fZ8X20ZPFStVfNSKp7pK0VKmdpW6idqwV9eOu5Gvp943y+9eKfnaBv/webOkz59taGLXeSBLvjVzUm6InvqaKCRQZm2RS+iU6Km27GW5qqpGq7P6VOo4NafbH13oW3u+s4cjKwH2Y9voqS+JJjVQv6GeRcpsXd2+zAVXaOoa/mBv/GufNPz00/BZfnUEFJMbomdW6ZTcKWVRLWukUbbgt2zZKZVUH0wdHT3/fqDlvvmeg97eYY6sBOTMuI2ubyngKJ1to6c+U2ZtuutNFD31ydWEeiez3s+xsVu2naJdQ/86mLh3vueV9eHjgb6sa5mY3D1luuh4Cl4zXRI9pT5qdXDc6Km+W5cpa8emqUfPvr7+ck2/2hi6c07jcU9HVjsTE9O4U6bTloqdo6dWJPOKntJirKJ5GR0d7e7ute3kb+6aezD2cLX3hdWB3Vfbsq5lYnLrNDJS0u9OK2LUU19n5Vp93VS3ncq+nvIHK8vU2jP44trgE0v8V5uTWVcxMTGNO6k+a76Nbr59nxe3jnpK2ZQqqv/6aFzqfbP87pVL98DomnOd31zse2FN6KC3KO8/4Cz51sxJVcS+nvoWWbmqqkbLqVmx1UEaEqnvrwq+VBvycmQlwJZsGz3135ib1MCJoqcwbuG7SXL41par3d9e5n9+ZWBfY2+mFUCBuCF6CqmDqkRKAZXNcVVGpTKqRimg2kinflk4N3oe8fU+U+N/e1s0zJGVgHwYt9H1LQUcpbNt9FSb62qDXCueUgyzxjL10VNfKtXN163bpK6aiHonC/h+ltLw2K29Db3PrQx8d0Vg182eTCtQkQpeM10SPYUETbU3pxr+VMVRq5tST9W12lE8VZ1VjTLp86gjbL7S9cQS378OJRJ9I5kmAHZi2+gptAKolT4pjFIeVfSUKqrVRpmkuso69fUeWUFrcWimzMuxQN+La4Oykb/1avfoWKYRwBS5J3pWmoUn2h6u9tZe6OgdpCICeSj4FvxE7Bw9pyiXd0mtU8D3syzOhJOvrgs9tcy//mLn4IizXwtgjbEX61ss9HGip1P9dU/s3vmew76+EZInYEsujp4V5WJ04Ocbmr65xL/qXEf/EAUXmCqiZ5rjtsvHxm5N2xS5a27j5WZO+wbkx7y/m2/f54VRT23udNdiA7/eEnlskW/pqfbuAU7hgcpi3ost9HGipyPFe4dfXBt6cqn/ZovZbv4Aysjdo57uyJS5a2wdnL49+shC74Ljbe1J0idgHdHTka40J59bGXhlXcjfzpGVgPwYM5O+pYCJilFPbe4OvvbBP9XF7prT+NbW6OUo3zihUhh7sb7FQh8nejrS/sbep5f539nRHOniyEqATbl71LMyRbqG5x5pfXyx75mawJrznZ18+Q7kj+iZ5rjt8toLnVL7Zh1KtHJkJSBP5v3dfPs+L4x6anM3GRy5dcTf/9r68J1zGqdtjlxk+BNuZ96LLfRxoqcjzTnS+sACz6cXO/s4shJgV+4e9XRfpsxLsGPw7wdaHqr2Pr0ssPJsZ1s/owBAroiejvSnutjdcxuPB/pHK7r4A1YYM5O+pYCJilFPbe5K/UNjexp6X64NfXV2wy82Np2PJDNXAO5i7MX6Fgt9nOjpPMmh0VfXh78+z3Mlxhc9gH25e9QTiq9t8K+7Y/fO8zy1zL/0VHtLL8OfwCSInmnO2i4PdQ7+cHXw28v8DQmOrATkzby/m2/f54VRT23ubt2p0W3XuqUsf3V2w+ufNZ0JM/wJVzHvxRb6ONHTec6Gk99ZHnj9s3CAIysBNubuUc9KyJR5aUwM/uHz6Nc+afjWEv/CE+3N3cOZKwD8L6Kn8+y80f3kUv+f6mKUNsACY2bStxQwUTHqqc0rREdydP3Fzu8uD9wxu/GVdeHjgf7MFYCTGXuxvsVCHyd6Os/y0+2PLvTNOdLKGTUAO3P3qCcmciOeemtr9MuzGh5f7Jt7tDXM0ZeB/0X0THPWdvnfD7Tcv8C74XJX/xBHVgLyZt7fzbfv88KopzavNInekeVn2p9e5pcA+uLa0P7G3uQw5RpOZd6LLfRxoqfzvL0tcuechhPB/tGxSqzpgFO4e9SzMjNl7qQ+X4wOTNsUkfR53wLvW9uip0L9vGeAIHo6THdq9KW1ofvmNV7lyEqAJcbMpG8pYKJi1FObV6xYz/CKs+3PrQpKAH2oyjOjrvkSZz+C0xh7sb7FQh8nejpMY2vq+ZXB764INHJkJcDe3D3qidw1dQ3PP9r61O3v3x9b5PvHgcTNFgo4KhfRM81B2+XHA/3P1Ph/sbEp1Mmu64AV5v3dfPs+L4x6anMIf/vQ3w8kvrHIJwH0W0t8VcfaAh2UcTiAeS+20MeJng6z5Wr3E0t87++Ox3o4shJga+4e9SRTWjA8eutKbODPdc33zW+UAPpMTWDVuc5mijkqDNHTYRadaHu42rvgWFtHktO1AVYYM5O+pYCJilFPbQ695NDYyWD/W1ujX/uk8SuzGp5fFdx0uauDg+XBroy9WN9ioY8TPR3mb/vi98zzbL7S1T9InQJszd2jnpiinsGxfY29r38W/vKshjvnNL66LrynoXeAYzChAhA90xy0Xf7mpqavftJ4KtTPgZUAa8z7u/n2fV4Y9dTmmEh7/8jmK10v14YkgN473/urLZHjgf4x6jvsxLwXW+jjRE8naekb/tHa0INV3htxfh0J2J27Rz3JlAXU0jey+nzH91enj8EkFf4PnzcfD/QNjTACCnciejrJtVjquZXB768KetsGM00A8mTMTPqWAiYqRj21OXIR7R6uPt727Zr0MZjuW+B9c3NkX0Nv3yABFGVm7MX6Fgt9nOjpJAe8fU8v87+5JRLu4heRgN25e9QTRRLtHlp0su25lekR0LvnNr72aXjrtW5+hAQ3IXqmOWW7fP3FzscX+/62N97Sy8/bAYvM+7v59n1eGPXU5shXond47fmOl27vA/rVTxp+sDpYe76TY+qhLMx7sYU+TvR0kjlHWh+s8lYfb+scYAsYsDt3j3qSKUugIzm643q3+hW8TE8t9S851c6B6OF0RE8n+VNd89fnebZc7eofYu8fwCJjZtK3FDBRMeqpzTEVvYNjh7y9v9sevWeeRwLo44t9nxxO1CfY4x8lYuzF+hYLfZzo6RiDI2M/+TR8x+zGs01JjrwB2J+7Rz1RYgPDY+eakh/saXl0YfpUnN9Y6Ju5v+VyM0c7gfMQPdMcsV3e1DX0w9WhRxZ6b7ZQawDrzPu7+fZ9Xhj11OYolJGxW42tqY8PtTy1LP1D+AerPO/ubD4R6B8c4X1GsZj3Ygt9nOjpGLK9+50VgR+tDfnb2dEHcACbRM+uru4ZMz6aNu0dmctyplUnlUrNmlUtkyyoFu0mMu3atV81BoPh6dPfV40yXbx4RbWjLGI9w0tOtT+/Kv1D+LvmNL60NlRzur2xlW/h4QBET8fYVd/z5FL/W1ubIxxZCZgC4za6vqWAo3R2iJ4qVqr4KHN9vlS0lKldpVouXUpXZombsixztVxVVaPWyeVdUusU8P2EUVv/yGeXOl//rOnOOY2SQR9Y4Pnttuj2692JPo6CgoIx9mJ9i4U+TvR0jBVnOx69vXNPSy/RE3AAO0RPyYszZ85Wg50yl2WVI7NI0DSmUqWmplbFUJnLsmqEraSGx67GUvOPtv7g9vmQ0nuCLvJ9tL/lZJAv4mFHRM80R2yX//NAy/0LPEtPtXdxZCVgCsz7u/n2fV7sED31mVLmsqxyZJaJoqc+rco62rftuWRQ9b45orq6Ru/g2GFv7wd74t9ckv4p0t1zG3+0JiSfGg18EY8pyLdmToro6RjTtzffNadx27Xu5DBHVgIcwCbRU4uJFqKn/jt6CaBq9FTdT13dvtur5Gd0dLS/P8lU7CnS1rv+XOubm8L3zEt/EX/f/MZfbQpvON8aaOnNWpOJSaaRkZIOaRE9nUG2ZV9cmz6txfkIR1YCpsS4ja5vKeAondNHPaVx+vT3x/2C/uLFK8b1s6h3Muv9lOg5jFJJpoYaWvoXn0iosyLJ9OhC74d740c83d3JwcxKwPCwefQseM0kejqDtzX13MrAE4t99QmzWg/APuwQPS3v62mSO8WuXfvZ79NB+ofGzoST/zyYeHZ5QALo1z5p+O6KwCeHE+eakkPswIWSI3qmWcjsJXYi2P9MTeDlWo6sBEyVeX83377Pix2ipxrpzPqFu2TQGTM+Uo1KVvSUi9OmvSNzdVHITWQFLcJqP4E3od43+1fXitI9MLqnvudPdbHHFqV3Br1rTuMPVgUXHGu73DzAHwoTybdmToro6Qxbr3Z9c4lv+vbmaDc/bwecwQ7RU6ikKFFS5io7Bm8foVNFT5UytammplZbX5skdLa0JOrrPdpxPeW2ZErnkj9dR3J0+7Xu3++IPlztlQx691zPS7Whxafab8T5Yg1FR/R0hiUn26VA/ONASytHawOmxpiZ9C0FTFQ2iZ7FkMu7pNYp4PuJghu9daulb2TT5a63tkbuX5A+QfzX5za+tj68/ExHA+eIx38Ye7G+xUIfJ3o6w//ti98337PiTEdPip+3A87g4ugJlxkd+3dT59D6i53TNjXdMy+dQe+Z1/jGhqY15zq8bWRQFBjRM83+2+W/2hz52ieNO292pzg+MDA15v3dfPs+L4x6anM4xfDorUD74Oqz7T/b0PS1T9I/ipcM+ouNTYtPtp0J9/fxo6SKZN6LLfRxoqcDtPWPvLAm9LU5jZebU1RxwCncPepJpnS3odFbDa2Dy063v7o+LAFUpjtmNzyy0Pu77dHV5zquxwYy6wH5I3o6wPV46nsrAk8t8zdyZCVgyoyZSd9SwETFqKc2h3NJBvW1DW6+0v3+7vgzNeljM8n01U8an1zq/3NdTNpDnRx3xeWMvVjfYqGPEz0d4KC3V3Lna+vDwQ56OOAY7h71RAUaHBm7FhtYfbbj7W3N6vBMMt05p/F7K4IffdFywNvXkeQbeUyO6Jlm8+3yzy51Pb7Y98fPm5t7OLISMFXm/d18+z4vjHpqc7hPauTWxUhy8cm2NzaE75uf/mWSTHfNbfzxuvCCY22HvH1xPrDcwrwXW+jjRE8HmHsk8VCVd9ahRDsblIBzuHvUk0wJzcDw2OlQ//yjrT9eH75jdvqs8TJ95fa+ob/aEqk+0S5JNMZBqfEfRE8HmLEr9vV5jWsvdPakiJ7AVBkzk76lgImKUU9tjsqRHB477u9bdqr9d9uj31rqVzFUJdGHq71vbo5UHW87KEmUMVHnMPZifYuFPu7y6FlTU6vOvTHuOd+003hoJ/mwoZGxf7/+WdMdsxv21PcMcmQlwDncPeoJTGrs9mmTTgQkibb9bnvkyawkutD75pZo1Yn2A56+pi5+yVBB3Bw9tRMWB4NhCZcyz1xxm2TNmTNnq8aLF6/oz19sK5GuoR+sDt49t/FaLMX4ATB15v3IfPs+L4x6anNASBLtHBg9GeivOdU+fXtUn0Rlko+5l2pDf90TX32u42Swn11F7cO8F1vo466NnpIjJU1qg501NbXqhMUaCZ0SPbUzGldV1dgzel6MJJ9dHnimJuBp5ZQScDnta4rp099Xm4V27puTcveoJ5kSU5ROosmRE4G+5Wc6/lQX+/6q4J1zMvuJyvSVWQ0PLPC+tj40c3/804ud55qS7f2Vex5pCTCqNsqkgo2kFwk5tv3C1pxro6d+UFPIn00+1dSyRv0tt2zZKX+/rGCau5Eiq7vRJZuGP/00FGgbyDQBbrRz596PP66SsCXLPl/gww9ntbW1y8KCBctU49SpPmvMTPqWAiYqRj21OZCLkbH0MUT3NvQsPNE2fXvzs8szhxHNhNHZDY8u9P1iY+RfhxKbrnRJGG3tq4jfP0jW1HYL1LJNKaOnsRfrWyz0cTdHT/1fZdzoqQ2xTGVfz76+ZFGnpcfjj1R7/7ijyRfvzbqKiclN0+LFq7dt26VvOXXqnOqhMsm10tLe3vnPfy5QLXKttESjcWnZs+eAapRlWUe7h6wp02lLxd2jnkAJDI/eqk+kdt7onnu09ddbIk8uzRxMVAuj9y3wvlQbmrErtvRU+/7GXk/r4ODIWObGbmEMMBI9p09/XxU9iTrqeyE1miaTWlkaq6pqDh06pta01W9aKnfUUzYjtJa6un22/aXRvw4m7l/gmXe0tSNZud81oBKon/0Z+6lWWGWufUEhvVVtW8oknVcrtdoKJsy30c237/PCqKc2BwpC/pv6h8auNA9svdo961DrLzdFH1/k1YdRlUefXOp/c3P0X4daN17pOhtOtvY5+9NTBU2tEirSqO00KKTuaStIPZTKqeqhvjGruubOvBdb6OOVu6+nvkVWlo0DLafayvRt0bvmetZf7OwbdNuWHJBFdVv9Bro+ekoP1e/3qcqrrKbfyNSvX3buHvUkU8IO5L+wJzV6MZLcdLnrXwcTP9vQ9I3/nGZJH0bvmed5aW3ovV2xZafavmjs9bUNDo867B9YKp7URv1+8Fr0zMowUgZlZVVOtRSkX7/sXBs9hbYRIO+4fJKpv4r8PVSj/D30H2/2HPWUHvLkknQvOuDpdd+XCMBEpPOqLqmPkrIslVc/SYuskxU9J+3LxsykbylgomLUU5sDJSP/cJ0Do+cjyQ2Xuv7fFy2vfxZ+ZGF2GJXpK7ManqkJvLW1ec6Rti1XuiS8yq0yd2FjUuJU+tRHSZlL3dPXxnGjp6yjlcq8GHuxvsVCH3dz9BRqK0Em9e6rv4T2SSYfb+pabTPCPvqGxuYdbXuwKv1Vwu93RJs5DwQqiaqk0m1l0kdPbVljjJ7GdcrF3aOegFNIMuoaGL0aS9Xd7Fl0om3GrviP14UeqTZ+U9/4UJX3tfXhv+1NH+DpqL8vbL+jjaoYI+klK3rqy6Ci1lThR+jXLzuXR88c2W27/Hxk4OXa0Nc+aXxwgUc6ACcxguuprKntAyPlUg1eagvSqNVctY40Sov+hll3MhHz/m6+fZ8XRj21OWA38p/ZOzh6M5Ha29C77HT7X/fGf/pZ02OGL+tl+s7ywNvbo3OPtm6/1n05OiApNnMXJaHqXs1/dtOUBClVTubagmqXuqdtdavCqL9h1p3ky7wXW+jjRE/bWXO+U+2q8vONTTdaBkf5mh2VQQXHrC8iVMWUFlVVtYsyyRZ8PJ6QW8lCVVWNapw0d5aSu0c9yZRwpYGhscbE4BeNfUtPtc2oa365NnT/guzx0Yer04OjH+yNrzzTftjbG+wYKmpv0Nc9mbSBTPW9rpRNKYNyUaqfWkHq56lT59SttO9+LefOYiB62oinbfCtbdGvz/N87ZOG+cdaO5IWN60SibbBQceflExexcCALb42nYq2ts7+/oHMBcfq7Ozu7bVpBlLRU9v0z4UxM+lbCpioGPXU5rbV359sbe3IXHAmp5fKZHKgtbU9c8Gu2pOj55uSm690zTqc+PWW6NPL/uc8TGp6con/9c+a/rInvuhk+/br3eeaktGe4TL+96voqeXUqTD2Yn2LhT5O9LSL7de61UEiflwbOhHon8qPimKxBNHTJoiexWYhepaMu0c93cEF0bOlhehZBuro9we9fTVn2t/ZGnx5bfDhau9XZv/3bEza9ORS/+sbmt7fHVt4om3btfTBniLdw2PFz6QFjJ4FR/RMK+92eWvfyN/2xu+bn86dM/e3tE35XGFET/sgehZbQUY99cy37/PCqKc2ty2iZ9k5NHrqJRLt8ipkoXdw7GY8tbe+Z9mptr/uif9kffixRf6vGMKomr61xP/TzySSxheeaN92rTsdSbuGRguXSYs66qlnoY8TPcvsiK/vmZqA/Gs+tyq462ZPshDD80RP+yB6VjJ3j3raPFPmiOhZdm6KnuMaGB7ztA4e8PSuPNv+4b74zzY0fWuJ747xxkfVJNf+9LPwe+lR0v9E0pKMkpYS0bNshkdvVR1ve3CBR/7VZuyKF/B0C0RP+yB62pAxM+lbCpioGPXU5rZF9Cw710fPcQ2N3or1DF+KJvc19K451zH7cOIPn0dfXR++nUqzw6iaHlvse6k29Pa26D8OJFac6ai72XOuKRnuHE4NT6mTSfaoPd9Zfbz1dGjCUw0bH0DfYuHhiZ7lcbl5QP7J7pzT+ORS//oLnb2DhTxYA9HTPoielczdo57uQPQsu8qMnubakyM3E4NH/P0bLnctON72/u74zzdGvrM88PV5jV8ZL5g+uMDz/MrAm5sjf9sbX3i8dcuVrmP+voZEqq1/xHy4tD4xeM+8xq/Pbbx7buO98z1LT5foD0H0TCvxdvna8x3qYLa/2x71tA0WcN8OhehpHxI9+/om3JR0CtePeuqZb9/nhVFPbW5bRM+yI3rmpSc16m1NHQ/0Sb5cdLLt//a1vLkl+vyq4AMLvON+iX/H7IbHFvleWB389ZZ0MK0+3r7+Yuee+p4zoX5P6+AbG5q01SR6PrrQ52sfzDySjnkvttDHiZ5T9ae6mPzxcp9eWReWzYtHqn01p9uLdKx4oqd9ED0rmbtHPW2eKXNE9Cw7omeh9A+NBjuGToeTO653LzvdMXN//DdbIz9YHXyoyjvuWGnW9PV5jU8t9R/ylqLmED1diOhpH0RPGzJmJn1LARMVo57a3LaInmVH9Cyjn34W/vpcj0z3zksPeUr0vBEf53/J2Iv1LRb6ONHThYie9kH0rGTuHvV0B6Jn2RE9y+hUqP/RhV6ZvrHI+70VgX8daMlcUWREzzSbb5fni+hpH0RPGzLv7+bb93lh1FOb2xbRs+yInuV1LZ765FDivd2xuhs9mSYD815soY8TPV2I6GkfRM9K5u5RT5tnyhwRPcuO6FmBiJ6T01dYRyxL9Eyl/vsjNcv3I8q4rEVPC7fNLNlgWaJnb2+/WhaW70eUcVmLnhZum1my07J+royN/fe8tfr2KarYUU/9OzzRe2uTZS16WrhtZqncyyp6WrutUt5lFT2t3VYp+7JET/lHUsvC8v0Iey7r58pEyzkieroQo572wahnJXP3qKc7MOpZdox6ViCiZ5qFzG5nRE/7IHrakHl/N15ruT5U7Kinotax/O6VBtGz7Iie9mfeiy30caKnC43dlrngWLwK+3DHqyg9d4962jxT5sgF/9tOfwlOf/7CBS+hxIieACqLMTPpWwqYqBj11OYAnMvYi/UtFvo40TMnE73LLCssKywrTl8uFHePepqbyvvPssKywrJih+VCIXqmFeOdBWBP5v3deK3l+sCopzYH4FzmvdhCHyd6AkBRuHvUk0wJwBqi5+T02+7MmTN3+lz9IMC8pSAqcNTT+K4a31vmzJk7a67vxcpEyzkiegJAUbh71BMArCF6plnI7AAcyry/G6+1XB8qcNRTT61j+d0DYBPmvdhCHyd6AkBRuHvUk0wJwBqiJ4DKYsxM+pYCJipGPbU5AOcy9mJ9i4U+TvR0p66u7pkzZweD4cxlZ3LHq0ilUrNmVV+65Oz/c3e8ihJz96inm+zatb+mpjZzwYFcUCr5E1QUomdaLpl9ooxvh2XpsdOmvSOThIOBgfSZZFU3CARCagUxlfsv5XJd3b7p099XHbizs0vrzFO5zxIva38OVUlVaLt48YpaQVi4z8xSqZblPZe/grwE7W8h/1da9LR2n4odltWvNRXjOvoWxdiSowoc9dS3T3TcgPIua//bMmn/z1ruyf1+lDIuy3NW3VOWtdyT420zS+Vblnqo/gQzZnwkdV5a1J9gKvdZymXj83fuZ24uy/qaaaRfM0dET8eT7qqPONKBZdmhW2DqaX/44Sz1zJ34KvTb7uvWbZIn77jxQv0TlucvfwL5QzDqaYG7Rz0tfN6Unfw/S1ZQJUX+mWVZ/rdlWd9tHcHRpVKrKrIsfwX1meWgP4H+3ZbnL4VRyqOz/gRlR/ScnKqwjphLN1C9V40Xqi0wtX2mRt1MbmuHuTz5LVt2VlXVqGfuuFch1UfKkMz17Wq8UD1zeS3Tp79fV7dPfyu7zbUaqpbVK3LcqzCZG0fjJhqfm6KKHfXUv6vG99Ymc4kLUmrU/7mWe9T/uUxy7bi3sslcK5VaP9X6rHwKSKmUufFWNpnLkzdWcqkn0i7LaitXJvUNnn4dm8zlfZZ3W9V5WZa/gjxnh37m5jjX92JlouUcET1dRbqu2oLUKpFM2la+zanNx3g8oZ65tDjuVcgzlDIkk9QdmdTfQlVSeXXycuRVyIJa2c7Up5f8O6lJWpz4KsrO3aOeTie9VQUIWdaip/YPb2fS+5xbKqWSSIWU3KyKpLwQaZF2Z/0J5NnKk5dXIc/fuZ+5ZUT0TLOQ2W1I/x+vukF9vUfFBbWCnWn9VlvQGh30KuRJSj1ST1X7c2ihTeqpKlL2pwqrTNq+nk58FRMx7+/Gay3Xhwoc9dRT61h+94pNH3HkX1qW5d9b/slVErItp5dKeapSGNU7r6qKqicO+hMIeaqqQsprkVckLQ76E1hg3ost9HGip0uo/qxlAtUNpEX6hiOCgvRkVYzUM9fXUwe9iqy6qSqpKq8ffjhLXoV6jTYnb776CkmW5fmr9Om4V2EH7h71tG2mzIXUEy00aBflX13faE9OL5X6py2kwqiX46A/gfachfaP5KA/gR0QPd1A/unlP17/765apHtID5cFrZ/bk3q20mP1k3RvZ70KIc9Qqo88bXVRnrkWPWWKxxPyKqRFXWtb8o+kFVbh0FdhwpiZ9C0FTFSMempzW9HiQuby7Ra1iSX/7fp/frtxQalUlUQrILKg3nCn/AmEPD3t01Zejmyoy9N23KdVXoy9WN9ioY8TPR1P+4/PXL5NGrUty6wkYXP6Z+7EV6FVJXnaKobqS63MZVlabq9rU/LMtdKpLTvuVdiBu0c9HUqLOJnLt2nlRV9zbM65pVIrIPqq4qA/gTxhqYryPPXLzvoTlB3RM82G2+W5k39x/Rawqqr6biDLxmxqW1nP3HGvQhVT7Q+htajyqpZV2b29uk3Js9X+o/TP3FmvYiLm/d18+z4vjHpqc5uQLikdU/vflkmVFH1WkGVjNrUhR5dKeZPV+y8LWouD/gTa89eepxM/rXJn3ost9HGiJwAUhbtHPW2VKQE4CNETQGUxZiZ9SwETFaOe2hyAcxl7sb7FQh8negJAUbh71BMArCF6prFdDlQO8/5uvn2fF0Y9tTkA5zLvxRb6ONETAIrC3aOeZEoA1hA9AVQWY2bStxQwUTHqqc0BOJexF+tbLPRxoicAFIW7Rz0BwBqiZxrb5UDlMO/v5tv3eWHUU5sDcC7zXmyhjxM9AaAo3D3qSaYEYA3RE0BlMWYmfUsBExWjntocgHMZe7G+xUIfJ3oCQFG4e9QTAKwhegJAURA9AcCI6AkARUH0BAAjoicAFAXREwCMiJ4AUBRETwAwInoCQFEQPQHAiOgJAEVB9AQAI6InABQF0RMAjIieAFAURE8AMCJ6AkBRED0BwIjoCQBFMcXoGYlEiJ4A3Kf80dPr9XZ3d2eeDgC4gpQ1KW6ZMmdJIpGIxWKZuwMAVxgeHpbN8q6urkylm0Bxo2dHR8eNGzdInwBcQwqalDUpbpkyZ8nAwEB9fX1ra+vY2FjmfgHAyaSs+Xw+2aju7+/PVLoJFDd6CinQXq9XUjAAuIAUtCnmTqWvry8YDF6/fj1zvwDgZLI53dLSkilwpooePQEAAACF6AkAAIASIXoCAACgRIieAAAAKBGiJwAAAEqE6AkAAIASIXoCAACgRIieAAAAKBGiJwAAAEqE6AkAAIASIXoCAACgRIieAAAAKBGiJwAAAEqE6AkAAIASIXoCAACgJIaG/j/Iwf6DHM2vcwAAAABJRU5ErkJggg==)"
      ]
    },
    {
      "cell_type": "markdown",
      "metadata": {
        "id": "vK42L4qCAIgB"
      },
      "source": [
        "## Inference"
      ]
    },
    {
      "cell_type": "code",
      "metadata": {
        "id": "CJc2X3E9N4Ab"
      },
      "source": [
        "hidden = 6\n",
        "input_dim = 11\n",
        "model=nn.Sequential(\n",
        "        nn.Flatten(),\n",
        "        nn.Linear(input_dim, hidden),\n",
        "        nn.ReLU(),\n",
        "        nn.Linear(hidden, hidden),\n",
        "        nn.Sigmoid(),\n",
        "        nn.Linear(hidden, 1),\n",
        "        nn.Sigmoid()\n",
        "    )"
      ],
      "execution_count": null,
      "outputs": []
    },
    {
      "cell_type": "code",
      "metadata": {
        "id": "Wm0IOHnXOcPY"
      },
      "source": [
        "net_dict = torch.load('models/myModel.pth') \n",
        "model.load_state_dict(net_dict);\n",
        "device = torch.device(\"cuda:0\")"
      ],
      "execution_count": null,
      "outputs": []
    },
    {
      "cell_type": "code",
      "metadata": {
        "id": "JDjNPXIZpw4b"
      },
      "source": [
        "def predict(model, dataloader, n_class, device):\n",
        "    model.eval()\n",
        "    model.to(device)\n",
        "    preds = np.zeros([0, n_class])\n",
        "    for data, _ in dataloader:\n",
        "        data = data.to(device)\n",
        "        with torch.no_grad():\n",
        "            y_pred = model(data).detach()\n",
        "        y_pred = y_pred.cpu().numpy()\n",
        "        preds = np.concatenate([preds, y_pred])\n",
        "    return preds"
      ],
      "execution_count": null,
      "outputs": []
    },
    {
      "cell_type": "code",
      "metadata": {
        "id": "I5O_72NfA-oG",
        "colab": {
          "base_uri": "https://localhost:8080/"
        },
        "outputId": "b73ad33a-6826-4a8d-c1f0-bdd623dfc9f9"
      },
      "source": [
        "test_preds = predict(model, test_loader, n_class=1, device=device)\n",
        "preds=(test_preds>0.5).astype(float)\n",
        "test_acc = skm.accuracy_score(y_test, preds)\n",
        "print(f'test acc: {test_acc}')"
      ],
      "execution_count": null,
      "outputs": [
        {
          "output_type": "stream",
          "text": [
            "test acc: 0.859\n"
          ],
          "name": "stdout"
        }
      ]
    }
  ]
}