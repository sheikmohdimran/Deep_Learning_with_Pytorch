{
  "nbformat": 4,
  "nbformat_minor": 0,
  "metadata": {
    "colab": {
      "name": "09_Finetune_Compact_Conv_Transformer.ipynb",
      "provenance": [],
      "authorship_tag": "ABX9TyPo9s1cuPm8fWW9HJb6NHgH",
      "include_colab_link": true
    },
    "kernelspec": {
      "name": "python3",
      "display_name": "Python 3"
    },
    "language_info": {
      "name": "python"
    },
    "accelerator": "GPU"
  },
  "cells": [
    {
      "cell_type": "markdown",
      "metadata": {
        "id": "view-in-github",
        "colab_type": "text"
      },
      "source": [
        "<a href=\"https://colab.research.google.com/github/sheikmohdimran/Deep_Learning_with_Pytorch/blob/main/Vision/09_Finetune_Compact_Conv_Transformer.ipynb\" target=\"_parent\"><img src=\"https://colab.research.google.com/assets/colab-badge.svg\" alt=\"Open In Colab\"/></a>"
      ]
    },
    {
      "cell_type": "code",
      "metadata": {
        "id": "H505qviz7NaQ"
      },
      "source": [
        "!pip install -qqq fastai==2.4.1 timm vit_pytorch"
      ],
      "execution_count": 1,
      "outputs": []
    },
    {
      "cell_type": "code",
      "metadata": {
        "id": "BPBPwE-iWU0D"
      },
      "source": [
        "from vit_pytorch.cct import cct_14"
      ],
      "execution_count": 2,
      "outputs": []
    },
    {
      "cell_type": "code",
      "metadata": {
        "colab": {
          "base_uri": "https://localhost:8080/"
        },
        "id": "XKefBpw8Waic",
        "outputId": "1c98929c-a012-4931-acd8-5dca4e8d2a99"
      },
      "source": [
        "model = cct_14(\n",
        "        img_size=224,\n",
        "        n_conv_layers=2,\n",
        "        kernel_size=7,\n",
        "        stride=2,\n",
        "        padding=3,\n",
        "        pooling_kernel_size=3,\n",
        "        pooling_stride=2,\n",
        "        pooling_padding=1,\n",
        "        num_classes=1000,\n",
        "        positional_embedding='learnable', # ['sine', 'learnable', 'none']  \n",
        "        )"
      ],
      "execution_count": 3,
      "outputs": [
        {
          "output_type": "stream",
          "name": "stderr",
          "text": [
            "/usr/local/lib/python3.7/dist-packages/torch/nn/functional.py:718: UserWarning: Named tensors and all their associated APIs are an experimental feature and subject to change. Please do not use them for anything important until they are released as stable. (Triggered internally at  /pytorch/c10/core/TensorImpl.h:1156.)\n",
            "  return torch.max_pool2d(input, kernel_size, stride, padding, dilation, ceil_mode)\n"
          ]
        }
      ]
    },
    {
      "cell_type": "code",
      "metadata": {
        "colab": {
          "base_uri": "https://localhost:8080/"
        },
        "id": "vPTAV5L8WbSV",
        "outputId": "b5448869-d0b3-4c0d-c0db-bb64142bad78"
      },
      "source": [
        "from torch.hub import load_state_dict_from_url\n",
        "#state_dict = load_state_dict_from_url('http://ix.cs.uoregon.edu/~alih/compact-transformers/checkpoints/cct14t-7x2_imagenet384_finetune_82.71.pth')\n",
        "state_dict = load_state_dict_from_url('http://ix.cs.uoregon.edu/~alih/compact-transformers/checkpoints/pretrained/cct_14_7x2_224_imagenet.pth')\n",
        "model.load_state_dict(state_dict)"
      ],
      "execution_count": 4,
      "outputs": [
        {
          "output_type": "execute_result",
          "data": {
            "text/plain": [
              "<All keys matched successfully>"
            ]
          },
          "metadata": {},
          "execution_count": 4
        }
      ]
    },
    {
      "cell_type": "code",
      "metadata": {
        "id": "nbt9v0NZr7MZ"
      },
      "source": [
        "!wget -q https://www.robots.ox.ac.uk/~vgg/data/flowers/102/102flowers.tgz\n",
        "!wget -q https://www.robots.ox.ac.uk/~vgg/data/flowers/102/imagelabels.mat\n",
        "!wget -q https://www.robots.ox.ac.uk/~vgg/data/flowers/102/setid.mat\n",
        "!tar -xf 102flowers.tgz"
      ],
      "execution_count": 5,
      "outputs": []
    },
    {
      "cell_type": "code",
      "metadata": {
        "id": "NsuORHPy6Qlp"
      },
      "source": [
        "import os\n",
        "import pandas as pd\n",
        "from torchvision.io import read_image\n",
        "from torch.utils.data import Dataset, DataLoader\n",
        "from torchvision import models, transforms\n",
        "import torch\n",
        "from torch import nn\n",
        "from collections import OrderedDict\n",
        "from tqdm import tqdm\n",
        "from scipy.io import loadmat\n",
        "from PIL import Image\n",
        "from torch import optim"
      ],
      "execution_count": 6,
      "outputs": []
    },
    {
      "cell_type": "code",
      "metadata": {
        "id": "GA81-ZET1zvG"
      },
      "source": [
        "split = loadmat('setid.mat')\n",
        "label = loadmat('imagelabels.mat')"
      ],
      "execution_count": 7,
      "outputs": []
    },
    {
      "cell_type": "code",
      "metadata": {
        "id": "s77SmR4r6SRQ"
      },
      "source": [
        "trnid_df=pd.DataFrame(split['trnid'][0], columns = ['id'])\n",
        "trnid_df=trnid_df.assign(split='train')\n",
        "tstid_df=pd.DataFrame(split['tstid'][0], columns = ['id'])\n",
        "tstid_df=tstid_df.assign(split='test')\n",
        "valid_df=pd.DataFrame(split['valid'][0], columns = ['id'])\n",
        "valid_df=valid_df.assign(split='valid')\n",
        "\n",
        "split_df=trnid_df.append(valid_df, ignore_index=True).append(tstid_df, ignore_index=True)"
      ],
      "execution_count": 8,
      "outputs": []
    },
    {
      "cell_type": "code",
      "metadata": {
        "id": "QSw5FSiJ6U1t"
      },
      "source": [
        "df = pd.DataFrame(label['labels'][0], columns = ['label'])\n",
        "df['file'] = df.index\n",
        "df['file']=df['file'].apply(lambda x: x+1).apply(lambda x: '{0:0>5}'.format(x)).apply(lambda x:'jpg/image_'+str(x)+'.jpg')\n",
        "df['id'] = df.index\n",
        "df['id']=df['id'].apply(lambda x: x+1)\n"
      ],
      "execution_count": 9,
      "outputs": []
    },
    {
      "cell_type": "code",
      "metadata": {
        "colab": {
          "base_uri": "https://localhost:8080/",
          "height": 203
        },
        "id": "SGt44DLx6WHX",
        "outputId": "8ece16f5-dbb5-41d1-f6ac-ab978fcd9080"
      },
      "source": [
        "df=pd.merge(df, split_df, on=\"id\")\n",
        "df=df.drop(columns=['id'])\n",
        "df.head()\n"
      ],
      "execution_count": 10,
      "outputs": [
        {
          "output_type": "execute_result",
          "data": {
            "text/html": [
              "<div>\n",
              "<style scoped>\n",
              "    .dataframe tbody tr th:only-of-type {\n",
              "        vertical-align: middle;\n",
              "    }\n",
              "\n",
              "    .dataframe tbody tr th {\n",
              "        vertical-align: top;\n",
              "    }\n",
              "\n",
              "    .dataframe thead th {\n",
              "        text-align: right;\n",
              "    }\n",
              "</style>\n",
              "<table border=\"1\" class=\"dataframe\">\n",
              "  <thead>\n",
              "    <tr style=\"text-align: right;\">\n",
              "      <th></th>\n",
              "      <th>label</th>\n",
              "      <th>file</th>\n",
              "      <th>split</th>\n",
              "    </tr>\n",
              "  </thead>\n",
              "  <tbody>\n",
              "    <tr>\n",
              "      <th>0</th>\n",
              "      <td>77</td>\n",
              "      <td>jpg/image_00001.jpg</td>\n",
              "      <td>test</td>\n",
              "    </tr>\n",
              "    <tr>\n",
              "      <th>1</th>\n",
              "      <td>77</td>\n",
              "      <td>jpg/image_00002.jpg</td>\n",
              "      <td>test</td>\n",
              "    </tr>\n",
              "    <tr>\n",
              "      <th>2</th>\n",
              "      <td>77</td>\n",
              "      <td>jpg/image_00003.jpg</td>\n",
              "      <td>test</td>\n",
              "    </tr>\n",
              "    <tr>\n",
              "      <th>3</th>\n",
              "      <td>77</td>\n",
              "      <td>jpg/image_00004.jpg</td>\n",
              "      <td>test</td>\n",
              "    </tr>\n",
              "    <tr>\n",
              "      <th>4</th>\n",
              "      <td>77</td>\n",
              "      <td>jpg/image_00005.jpg</td>\n",
              "      <td>test</td>\n",
              "    </tr>\n",
              "  </tbody>\n",
              "</table>\n",
              "</div>"
            ],
            "text/plain": [
              "   label                 file split\n",
              "0     77  jpg/image_00001.jpg  test\n",
              "1     77  jpg/image_00002.jpg  test\n",
              "2     77  jpg/image_00003.jpg  test\n",
              "3     77  jpg/image_00004.jpg  test\n",
              "4     77  jpg/image_00005.jpg  test"
            ]
          },
          "metadata": {},
          "execution_count": 10
        }
      ]
    },
    {
      "cell_type": "code",
      "metadata": {
        "id": "KdlY_yQE6ZVO"
      },
      "source": [
        "class CustomImageDataset(Dataset):\n",
        "    def __init__(self, data_frame, split, transform=None):\n",
        "        self.img_labels = data_frame[data_frame.split==split]\n",
        "        self.transform = transform\n",
        "\n",
        "    def __len__(self):\n",
        "        return len(self.img_labels)\n",
        "\n",
        "    def __getitem__(self, idx):\n",
        "        image = read_image(self.img_labels.iloc[idx, 1])\n",
        "        label = self.img_labels.iloc[idx, 0].astype(np.long)-1\n",
        "        if self.transform:\n",
        "            image = self.transform(image)\n",
        "        return image, label\n"
      ],
      "execution_count": 11,
      "outputs": []
    },
    {
      "cell_type": "code",
      "metadata": {
        "id": "QybiZcxw6eiO"
      },
      "source": [
        "train_transform=transforms.Compose([\n",
        "        transforms.ToPILImage(),\n",
        "        transforms.RandomResizedCrop(224),\n",
        "        transforms.RandomHorizontalFlip(),\n",
        "        transforms.ToTensor(),\n",
        "        transforms.Normalize([0.485, 0.456, 0.406], [0.229, 0.224, 0.225])\n",
        "    ])\n",
        "\n",
        "val_transform=transforms.Compose([\n",
        "        transforms.ToPILImage(),\n",
        "        transforms.Resize(256),\n",
        "        transforms.CenterCrop(224),\n",
        "        transforms.ToTensor(),\n",
        "        transforms.Normalize([0.485, 0.456, 0.406], [0.229, 0.224, 0.225])\n",
        "    ])\n"
      ],
      "execution_count": 12,
      "outputs": []
    },
    {
      "cell_type": "code",
      "metadata": {
        "id": "uy-YbmWd6hX4"
      },
      "source": [
        "train_data = CustomImageDataset(data_frame=df,split='train',transform=train_transform)\n",
        "valid_data = CustomImageDataset(data_frame=df,split='valid',transform=val_transform)\n"
      ],
      "execution_count": 13,
      "outputs": []
    },
    {
      "cell_type": "code",
      "metadata": {
        "id": "UHqwtwSI6im9"
      },
      "source": [
        "trainloader = DataLoader(train_data, batch_size=32, shuffle=True)\n",
        "validloader = DataLoader(valid_data, batch_size=256, shuffle=False)\n"
      ],
      "execution_count": 14,
      "outputs": []
    },
    {
      "cell_type": "code",
      "metadata": {
        "colab": {
          "base_uri": "https://localhost:8080/"
        },
        "id": "PJKbYx7-nM7H",
        "outputId": "2c2f9314-cbe1-4d2e-aa43-f4b9421688ae"
      },
      "source": [
        "for name, module in model.named_children():\n",
        "  print(name)"
      ],
      "execution_count": 15,
      "outputs": [
        {
          "output_type": "stream",
          "name": "stdout",
          "text": [
            "tokenizer\n",
            "classifier\n"
          ]
        }
      ]
    },
    {
      "cell_type": "code",
      "metadata": {
        "colab": {
          "base_uri": "https://localhost:8080/"
        },
        "id": "8Mim5sSriFXq",
        "outputId": "c9b64385-be34-46f3-8344-85aa59ea38c5"
      },
      "source": [
        "for name, module in model.tokenizer.named_children():\n",
        "  print(name)"
      ],
      "execution_count": 16,
      "outputs": [
        {
          "output_type": "stream",
          "name": "stdout",
          "text": [
            "conv_layers\n",
            "flattener\n"
          ]
        }
      ]
    },
    {
      "cell_type": "code",
      "metadata": {
        "colab": {
          "base_uri": "https://localhost:8080/"
        },
        "id": "4PijKpTVgvDa",
        "outputId": "94ecfe19-37f0-4ba6-b414-5b6efb148259"
      },
      "source": [
        "for name, module in model.classifier.named_children():\n",
        "  print(name)"
      ],
      "execution_count": 17,
      "outputs": [
        {
          "output_type": "stream",
          "name": "stdout",
          "text": [
            "attention_pool\n",
            "dropout\n",
            "blocks\n",
            "norm\n",
            "fc\n"
          ]
        }
      ]
    },
    {
      "cell_type": "code",
      "metadata": {
        "colab": {
          "base_uri": "https://localhost:8080/"
        },
        "id": "FFs0Xw-P6tJN",
        "outputId": "b5096f9f-431b-4e9c-96a0-407934f2d2a7"
      },
      "source": [
        "model.classifier.fc"
      ],
      "execution_count": 18,
      "outputs": [
        {
          "output_type": "execute_result",
          "data": {
            "text/plain": [
              "Linear(in_features=384, out_features=1000, bias=True)"
            ]
          },
          "metadata": {},
          "execution_count": 18
        }
      ]
    },
    {
      "cell_type": "code",
      "metadata": {
        "id": "acqHHxmN6pHL"
      },
      "source": [
        "for name, module in model.classifier.named_children():\n",
        "  for param in module.parameters():\n",
        "      param.requires_grad = False\n",
        "\n",
        "\n",
        "for name, module in model.tokenizer.named_children():\n",
        "  for param in module.parameters():\n",
        "      param.requires_grad = False\n"
      ],
      "execution_count": 19,
      "outputs": []
    },
    {
      "cell_type": "code",
      "metadata": {
        "id": "Q10sVEPk7JD3"
      },
      "source": [
        "model.classifier.fc = nn.Sequential(OrderedDict([\n",
        "          ('lin1', nn.Linear(384,256)),\n",
        "          ('relu1', nn.ReLU()),\n",
        "          ('lin2', nn.Linear(256,102))\n",
        "        ]))"
      ],
      "execution_count": 20,
      "outputs": []
    },
    {
      "cell_type": "code",
      "metadata": {
        "id": "clmbhNZuiatw"
      },
      "source": [
        "device = torch.device(\"cuda\" if torch.cuda.is_available() else \"cpu\")\n",
        "model = model.to(device)"
      ],
      "execution_count": 21,
      "outputs": []
    },
    {
      "cell_type": "code",
      "metadata": {
        "id": "GOpFG4yq7Xbd"
      },
      "source": [
        "from fastai.vision.all import *\n",
        "criterion = nn.CrossEntropyLoss()\n",
        "data = DataLoaders(trainloader, validloader)\n",
        "learn = Learner(data, model, loss_func=criterion, opt_func=Adam, metrics=accuracy)"
      ],
      "execution_count": 22,
      "outputs": []
    },
    {
      "cell_type": "code",
      "metadata": {
        "colab": {
          "base_uri": "https://localhost:8080/",
          "height": 1000
        },
        "id": "FLMm-geE7ZFH",
        "outputId": "b62b64c1-eb9d-4c9c-d0eb-9acffc141b3f"
      },
      "source": [
        "learn.fit(40)"
      ],
      "execution_count": 23,
      "outputs": [
        {
          "output_type": "display_data",
          "data": {
            "text/html": [
              "<table border=\"1\" class=\"dataframe\">\n",
              "  <thead>\n",
              "    <tr style=\"text-align: left;\">\n",
              "      <th>epoch</th>\n",
              "      <th>train_loss</th>\n",
              "      <th>valid_loss</th>\n",
              "      <th>accuracy</th>\n",
              "      <th>time</th>\n",
              "    </tr>\n",
              "  </thead>\n",
              "  <tbody>\n",
              "    <tr>\n",
              "      <td>0</td>\n",
              "      <td>4.362496</td>\n",
              "      <td>3.731829</td>\n",
              "      <td>0.320588</td>\n",
              "      <td>00:20</td>\n",
              "    </tr>\n",
              "    <tr>\n",
              "      <td>1</td>\n",
              "      <td>3.587435</td>\n",
              "      <td>2.486192</td>\n",
              "      <td>0.464706</td>\n",
              "      <td>00:19</td>\n",
              "    </tr>\n",
              "    <tr>\n",
              "      <td>2</td>\n",
              "      <td>2.760263</td>\n",
              "      <td>1.747185</td>\n",
              "      <td>0.568627</td>\n",
              "      <td>00:18</td>\n",
              "    </tr>\n",
              "    <tr>\n",
              "      <td>3</td>\n",
              "      <td>2.126798</td>\n",
              "      <td>1.366907</td>\n",
              "      <td>0.691176</td>\n",
              "      <td>00:18</td>\n",
              "    </tr>\n",
              "    <tr>\n",
              "      <td>4</td>\n",
              "      <td>1.681853</td>\n",
              "      <td>1.208445</td>\n",
              "      <td>0.693137</td>\n",
              "      <td>00:18</td>\n",
              "    </tr>\n",
              "    <tr>\n",
              "      <td>5</td>\n",
              "      <td>1.380070</td>\n",
              "      <td>1.017330</td>\n",
              "      <td>0.742157</td>\n",
              "      <td>00:18</td>\n",
              "    </tr>\n",
              "    <tr>\n",
              "      <td>6</td>\n",
              "      <td>1.153383</td>\n",
              "      <td>0.946245</td>\n",
              "      <td>0.769608</td>\n",
              "      <td>00:18</td>\n",
              "    </tr>\n",
              "    <tr>\n",
              "      <td>7</td>\n",
              "      <td>0.949313</td>\n",
              "      <td>0.871244</td>\n",
              "      <td>0.770588</td>\n",
              "      <td>00:19</td>\n",
              "    </tr>\n",
              "    <tr>\n",
              "      <td>8</td>\n",
              "      <td>0.819531</td>\n",
              "      <td>0.792425</td>\n",
              "      <td>0.796078</td>\n",
              "      <td>00:18</td>\n",
              "    </tr>\n",
              "    <tr>\n",
              "      <td>9</td>\n",
              "      <td>0.701835</td>\n",
              "      <td>0.743024</td>\n",
              "      <td>0.800000</td>\n",
              "      <td>00:18</td>\n",
              "    </tr>\n",
              "    <tr>\n",
              "      <td>10</td>\n",
              "      <td>0.621538</td>\n",
              "      <td>0.686475</td>\n",
              "      <td>0.827451</td>\n",
              "      <td>00:18</td>\n",
              "    </tr>\n",
              "    <tr>\n",
              "      <td>11</td>\n",
              "      <td>0.552251</td>\n",
              "      <td>0.724064</td>\n",
              "      <td>0.805882</td>\n",
              "      <td>00:18</td>\n",
              "    </tr>\n",
              "    <tr>\n",
              "      <td>12</td>\n",
              "      <td>0.489551</td>\n",
              "      <td>0.659038</td>\n",
              "      <td>0.826471</td>\n",
              "      <td>00:18</td>\n",
              "    </tr>\n",
              "    <tr>\n",
              "      <td>13</td>\n",
              "      <td>0.452777</td>\n",
              "      <td>0.649586</td>\n",
              "      <td>0.834314</td>\n",
              "      <td>00:18</td>\n",
              "    </tr>\n",
              "    <tr>\n",
              "      <td>14</td>\n",
              "      <td>0.416361</td>\n",
              "      <td>0.609994</td>\n",
              "      <td>0.843137</td>\n",
              "      <td>00:18</td>\n",
              "    </tr>\n",
              "    <tr>\n",
              "      <td>15</td>\n",
              "      <td>0.387064</td>\n",
              "      <td>0.592540</td>\n",
              "      <td>0.839216</td>\n",
              "      <td>00:18</td>\n",
              "    </tr>\n",
              "    <tr>\n",
              "      <td>16</td>\n",
              "      <td>0.352096</td>\n",
              "      <td>0.564415</td>\n",
              "      <td>0.858824</td>\n",
              "      <td>00:18</td>\n",
              "    </tr>\n",
              "    <tr>\n",
              "      <td>17</td>\n",
              "      <td>0.335194</td>\n",
              "      <td>0.587294</td>\n",
              "      <td>0.850980</td>\n",
              "      <td>00:18</td>\n",
              "    </tr>\n",
              "    <tr>\n",
              "      <td>18</td>\n",
              "      <td>0.291907</td>\n",
              "      <td>0.571356</td>\n",
              "      <td>0.835294</td>\n",
              "      <td>00:18</td>\n",
              "    </tr>\n",
              "    <tr>\n",
              "      <td>19</td>\n",
              "      <td>0.293642</td>\n",
              "      <td>0.563256</td>\n",
              "      <td>0.850000</td>\n",
              "      <td>00:18</td>\n",
              "    </tr>\n",
              "    <tr>\n",
              "      <td>20</td>\n",
              "      <td>0.271310</td>\n",
              "      <td>0.571527</td>\n",
              "      <td>0.842157</td>\n",
              "      <td>00:18</td>\n",
              "    </tr>\n",
              "    <tr>\n",
              "      <td>21</td>\n",
              "      <td>0.268159</td>\n",
              "      <td>0.510538</td>\n",
              "      <td>0.856863</td>\n",
              "      <td>00:18</td>\n",
              "    </tr>\n",
              "    <tr>\n",
              "      <td>22</td>\n",
              "      <td>0.252256</td>\n",
              "      <td>0.552742</td>\n",
              "      <td>0.847059</td>\n",
              "      <td>00:18</td>\n",
              "    </tr>\n",
              "    <tr>\n",
              "      <td>23</td>\n",
              "      <td>0.230400</td>\n",
              "      <td>0.536863</td>\n",
              "      <td>0.854902</td>\n",
              "      <td>00:18</td>\n",
              "    </tr>\n",
              "    <tr>\n",
              "      <td>24</td>\n",
              "      <td>0.228491</td>\n",
              "      <td>0.572523</td>\n",
              "      <td>0.855882</td>\n",
              "      <td>00:18</td>\n",
              "    </tr>\n",
              "    <tr>\n",
              "      <td>25</td>\n",
              "      <td>0.242823</td>\n",
              "      <td>0.578012</td>\n",
              "      <td>0.859804</td>\n",
              "      <td>00:18</td>\n",
              "    </tr>\n",
              "    <tr>\n",
              "      <td>26</td>\n",
              "      <td>0.255482</td>\n",
              "      <td>0.560005</td>\n",
              "      <td>0.856863</td>\n",
              "      <td>00:18</td>\n",
              "    </tr>\n",
              "    <tr>\n",
              "      <td>27</td>\n",
              "      <td>0.247696</td>\n",
              "      <td>0.492123</td>\n",
              "      <td>0.870588</td>\n",
              "      <td>00:18</td>\n",
              "    </tr>\n",
              "    <tr>\n",
              "      <td>28</td>\n",
              "      <td>0.209227</td>\n",
              "      <td>0.453850</td>\n",
              "      <td>0.882353</td>\n",
              "      <td>00:18</td>\n",
              "    </tr>\n",
              "    <tr>\n",
              "      <td>29</td>\n",
              "      <td>0.207232</td>\n",
              "      <td>0.550906</td>\n",
              "      <td>0.856863</td>\n",
              "      <td>00:18</td>\n",
              "    </tr>\n",
              "    <tr>\n",
              "      <td>30</td>\n",
              "      <td>0.186642</td>\n",
              "      <td>0.514990</td>\n",
              "      <td>0.873529</td>\n",
              "      <td>00:18</td>\n",
              "    </tr>\n",
              "    <tr>\n",
              "      <td>31</td>\n",
              "      <td>0.172784</td>\n",
              "      <td>0.489112</td>\n",
              "      <td>0.871569</td>\n",
              "      <td>00:18</td>\n",
              "    </tr>\n",
              "    <tr>\n",
              "      <td>32</td>\n",
              "      <td>0.163590</td>\n",
              "      <td>0.552692</td>\n",
              "      <td>0.848039</td>\n",
              "      <td>00:18</td>\n",
              "    </tr>\n",
              "    <tr>\n",
              "      <td>33</td>\n",
              "      <td>0.172073</td>\n",
              "      <td>0.529293</td>\n",
              "      <td>0.859804</td>\n",
              "      <td>00:18</td>\n",
              "    </tr>\n",
              "    <tr>\n",
              "      <td>34</td>\n",
              "      <td>0.185439</td>\n",
              "      <td>0.531312</td>\n",
              "      <td>0.850980</td>\n",
              "      <td>00:18</td>\n",
              "    </tr>\n",
              "    <tr>\n",
              "      <td>35</td>\n",
              "      <td>0.178880</td>\n",
              "      <td>0.476939</td>\n",
              "      <td>0.862745</td>\n",
              "      <td>00:18</td>\n",
              "    </tr>\n",
              "    <tr>\n",
              "      <td>36</td>\n",
              "      <td>0.173158</td>\n",
              "      <td>0.465045</td>\n",
              "      <td>0.883333</td>\n",
              "      <td>00:18</td>\n",
              "    </tr>\n",
              "    <tr>\n",
              "      <td>37</td>\n",
              "      <td>0.152460</td>\n",
              "      <td>0.460308</td>\n",
              "      <td>0.884314</td>\n",
              "      <td>00:18</td>\n",
              "    </tr>\n",
              "    <tr>\n",
              "      <td>38</td>\n",
              "      <td>0.140375</td>\n",
              "      <td>0.488300</td>\n",
              "      <td>0.870588</td>\n",
              "      <td>00:18</td>\n",
              "    </tr>\n",
              "    <tr>\n",
              "      <td>39</td>\n",
              "      <td>0.163563</td>\n",
              "      <td>0.516376</td>\n",
              "      <td>0.854902</td>\n",
              "      <td>00:18</td>\n",
              "    </tr>\n",
              "  </tbody>\n",
              "</table>"
            ],
            "text/plain": [
              "<IPython.core.display.HTML object>"
            ]
          },
          "metadata": {}
        }
      ]
    },
    {
      "cell_type": "code",
      "metadata": {
        "id": "p_-inkap3H_M"
      },
      "source": [
        ""
      ],
      "execution_count": 23,
      "outputs": []
    }
  ]
}