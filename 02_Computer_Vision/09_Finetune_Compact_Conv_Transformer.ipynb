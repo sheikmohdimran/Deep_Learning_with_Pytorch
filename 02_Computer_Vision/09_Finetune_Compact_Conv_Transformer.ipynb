{
  "nbformat": 4,
  "nbformat_minor": 0,
  "metadata": {
    "colab": {
      "name": "09_Finetune_Compact_Conv_Transformer.ipynb",
      "provenance": [],
      "authorship_tag": "ABX9TyP7rjwFb37wUNwiZEa+3GnV",
      "include_colab_link": true
    },
    "kernelspec": {
      "name": "python3",
      "display_name": "Python 3"
    },
    "language_info": {
      "name": "python"
    },
    "accelerator": "GPU",
    "widgets": {
      "application/vnd.jupyter.widget-state+json": {
        "7e989d38195f458e851afaa3e99d04e8": {
          "model_module": "@jupyter-widgets/controls",
          "model_name": "HBoxModel",
          "model_module_version": "1.5.0",
          "state": {
            "_view_name": "HBoxView",
            "_dom_classes": [],
            "_model_name": "HBoxModel",
            "_view_module": "@jupyter-widgets/controls",
            "_model_module_version": "1.5.0",
            "_view_count": null,
            "_view_module_version": "1.5.0",
            "box_style": "",
            "layout": "IPY_MODEL_a0447a5b20c74343b222a05c57094544",
            "_model_module": "@jupyter-widgets/controls",
            "children": [
              "IPY_MODEL_9687725cd1eb452984ed206e0620384c",
              "IPY_MODEL_75dc4ad81fb94cd3b3379c575c26c103",
              "IPY_MODEL_e6f9c92602ee4844b963d33ccc4c2c45"
            ]
          }
        },
        "a0447a5b20c74343b222a05c57094544": {
          "model_module": "@jupyter-widgets/base",
          "model_name": "LayoutModel",
          "model_module_version": "1.2.0",
          "state": {
            "_view_name": "LayoutView",
            "grid_template_rows": null,
            "right": null,
            "justify_content": null,
            "_view_module": "@jupyter-widgets/base",
            "overflow": null,
            "_model_module_version": "1.2.0",
            "_view_count": null,
            "flex_flow": null,
            "width": null,
            "min_width": null,
            "border": null,
            "align_items": null,
            "bottom": null,
            "_model_module": "@jupyter-widgets/base",
            "top": null,
            "grid_column": null,
            "overflow_y": null,
            "overflow_x": null,
            "grid_auto_flow": null,
            "grid_area": null,
            "grid_template_columns": null,
            "flex": null,
            "_model_name": "LayoutModel",
            "justify_items": null,
            "grid_row": null,
            "max_height": null,
            "align_content": null,
            "visibility": null,
            "align_self": null,
            "height": null,
            "min_height": null,
            "padding": null,
            "grid_auto_rows": null,
            "grid_gap": null,
            "max_width": null,
            "order": null,
            "_view_module_version": "1.2.0",
            "grid_template_areas": null,
            "object_position": null,
            "object_fit": null,
            "grid_auto_columns": null,
            "margin": null,
            "display": null,
            "left": null
          }
        },
        "9687725cd1eb452984ed206e0620384c": {
          "model_module": "@jupyter-widgets/controls",
          "model_name": "HTMLModel",
          "model_module_version": "1.5.0",
          "state": {
            "_view_name": "HTMLView",
            "style": "IPY_MODEL_33d46f5ee04b4a8cb4dfdb5945288aa7",
            "_dom_classes": [],
            "description": "",
            "_model_name": "HTMLModel",
            "placeholder": "​",
            "_view_module": "@jupyter-widgets/controls",
            "_model_module_version": "1.5.0",
            "value": "100%",
            "_view_count": null,
            "_view_module_version": "1.5.0",
            "description_tooltip": null,
            "_model_module": "@jupyter-widgets/controls",
            "layout": "IPY_MODEL_2dd32c2ab9fb422fb25f92da86840937"
          }
        },
        "75dc4ad81fb94cd3b3379c575c26c103": {
          "model_module": "@jupyter-widgets/controls",
          "model_name": "FloatProgressModel",
          "model_module_version": "1.5.0",
          "state": {
            "_view_name": "ProgressView",
            "style": "IPY_MODEL_8860414c27a646df80a42cd041326a75",
            "_dom_classes": [],
            "description": "",
            "_model_name": "FloatProgressModel",
            "bar_style": "success",
            "max": 89534157,
            "_view_module": "@jupyter-widgets/controls",
            "_model_module_version": "1.5.0",
            "value": 89534157,
            "_view_count": null,
            "_view_module_version": "1.5.0",
            "orientation": "horizontal",
            "min": 0,
            "description_tooltip": null,
            "_model_module": "@jupyter-widgets/controls",
            "layout": "IPY_MODEL_165d895f747d423992d64e51ca40d1c8"
          }
        },
        "e6f9c92602ee4844b963d33ccc4c2c45": {
          "model_module": "@jupyter-widgets/controls",
          "model_name": "HTMLModel",
          "model_module_version": "1.5.0",
          "state": {
            "_view_name": "HTMLView",
            "style": "IPY_MODEL_64a56de896334e25a4ce9c1d98c1f6f9",
            "_dom_classes": [],
            "description": "",
            "_model_name": "HTMLModel",
            "placeholder": "​",
            "_view_module": "@jupyter-widgets/controls",
            "_model_module_version": "1.5.0",
            "value": " 85.4M/85.4M [00:00&lt;00:00, 166MB/s]",
            "_view_count": null,
            "_view_module_version": "1.5.0",
            "description_tooltip": null,
            "_model_module": "@jupyter-widgets/controls",
            "layout": "IPY_MODEL_1aca48ff567b4fa5b8015ad9a7cceafb"
          }
        },
        "33d46f5ee04b4a8cb4dfdb5945288aa7": {
          "model_module": "@jupyter-widgets/controls",
          "model_name": "DescriptionStyleModel",
          "model_module_version": "1.5.0",
          "state": {
            "_view_name": "StyleView",
            "_model_name": "DescriptionStyleModel",
            "description_width": "",
            "_view_module": "@jupyter-widgets/base",
            "_model_module_version": "1.5.0",
            "_view_count": null,
            "_view_module_version": "1.2.0",
            "_model_module": "@jupyter-widgets/controls"
          }
        },
        "2dd32c2ab9fb422fb25f92da86840937": {
          "model_module": "@jupyter-widgets/base",
          "model_name": "LayoutModel",
          "model_module_version": "1.2.0",
          "state": {
            "_view_name": "LayoutView",
            "grid_template_rows": null,
            "right": null,
            "justify_content": null,
            "_view_module": "@jupyter-widgets/base",
            "overflow": null,
            "_model_module_version": "1.2.0",
            "_view_count": null,
            "flex_flow": null,
            "width": null,
            "min_width": null,
            "border": null,
            "align_items": null,
            "bottom": null,
            "_model_module": "@jupyter-widgets/base",
            "top": null,
            "grid_column": null,
            "overflow_y": null,
            "overflow_x": null,
            "grid_auto_flow": null,
            "grid_area": null,
            "grid_template_columns": null,
            "flex": null,
            "_model_name": "LayoutModel",
            "justify_items": null,
            "grid_row": null,
            "max_height": null,
            "align_content": null,
            "visibility": null,
            "align_self": null,
            "height": null,
            "min_height": null,
            "padding": null,
            "grid_auto_rows": null,
            "grid_gap": null,
            "max_width": null,
            "order": null,
            "_view_module_version": "1.2.0",
            "grid_template_areas": null,
            "object_position": null,
            "object_fit": null,
            "grid_auto_columns": null,
            "margin": null,
            "display": null,
            "left": null
          }
        },
        "8860414c27a646df80a42cd041326a75": {
          "model_module": "@jupyter-widgets/controls",
          "model_name": "ProgressStyleModel",
          "model_module_version": "1.5.0",
          "state": {
            "_view_name": "StyleView",
            "_model_name": "ProgressStyleModel",
            "description_width": "",
            "_view_module": "@jupyter-widgets/base",
            "_model_module_version": "1.5.0",
            "_view_count": null,
            "_view_module_version": "1.2.0",
            "bar_color": null,
            "_model_module": "@jupyter-widgets/controls"
          }
        },
        "165d895f747d423992d64e51ca40d1c8": {
          "model_module": "@jupyter-widgets/base",
          "model_name": "LayoutModel",
          "model_module_version": "1.2.0",
          "state": {
            "_view_name": "LayoutView",
            "grid_template_rows": null,
            "right": null,
            "justify_content": null,
            "_view_module": "@jupyter-widgets/base",
            "overflow": null,
            "_model_module_version": "1.2.0",
            "_view_count": null,
            "flex_flow": null,
            "width": null,
            "min_width": null,
            "border": null,
            "align_items": null,
            "bottom": null,
            "_model_module": "@jupyter-widgets/base",
            "top": null,
            "grid_column": null,
            "overflow_y": null,
            "overflow_x": null,
            "grid_auto_flow": null,
            "grid_area": null,
            "grid_template_columns": null,
            "flex": null,
            "_model_name": "LayoutModel",
            "justify_items": null,
            "grid_row": null,
            "max_height": null,
            "align_content": null,
            "visibility": null,
            "align_self": null,
            "height": null,
            "min_height": null,
            "padding": null,
            "grid_auto_rows": null,
            "grid_gap": null,
            "max_width": null,
            "order": null,
            "_view_module_version": "1.2.0",
            "grid_template_areas": null,
            "object_position": null,
            "object_fit": null,
            "grid_auto_columns": null,
            "margin": null,
            "display": null,
            "left": null
          }
        },
        "64a56de896334e25a4ce9c1d98c1f6f9": {
          "model_module": "@jupyter-widgets/controls",
          "model_name": "DescriptionStyleModel",
          "model_module_version": "1.5.0",
          "state": {
            "_view_name": "StyleView",
            "_model_name": "DescriptionStyleModel",
            "description_width": "",
            "_view_module": "@jupyter-widgets/base",
            "_model_module_version": "1.5.0",
            "_view_count": null,
            "_view_module_version": "1.2.0",
            "_model_module": "@jupyter-widgets/controls"
          }
        },
        "1aca48ff567b4fa5b8015ad9a7cceafb": {
          "model_module": "@jupyter-widgets/base",
          "model_name": "LayoutModel",
          "model_module_version": "1.2.0",
          "state": {
            "_view_name": "LayoutView",
            "grid_template_rows": null,
            "right": null,
            "justify_content": null,
            "_view_module": "@jupyter-widgets/base",
            "overflow": null,
            "_model_module_version": "1.2.0",
            "_view_count": null,
            "flex_flow": null,
            "width": null,
            "min_width": null,
            "border": null,
            "align_items": null,
            "bottom": null,
            "_model_module": "@jupyter-widgets/base",
            "top": null,
            "grid_column": null,
            "overflow_y": null,
            "overflow_x": null,
            "grid_auto_flow": null,
            "grid_area": null,
            "grid_template_columns": null,
            "flex": null,
            "_model_name": "LayoutModel",
            "justify_items": null,
            "grid_row": null,
            "max_height": null,
            "align_content": null,
            "visibility": null,
            "align_self": null,
            "height": null,
            "min_height": null,
            "padding": null,
            "grid_auto_rows": null,
            "grid_gap": null,
            "max_width": null,
            "order": null,
            "_view_module_version": "1.2.0",
            "grid_template_areas": null,
            "object_position": null,
            "object_fit": null,
            "grid_auto_columns": null,
            "margin": null,
            "display": null,
            "left": null
          }
        }
      }
    }
  },
  "cells": [
    {
      "cell_type": "markdown",
      "metadata": {
        "id": "view-in-github",
        "colab_type": "text"
      },
      "source": [
        "<a href=\"https://colab.research.google.com/github/sheikmohdimran/Deep_Learning_with_Pytorch/blob/main/Vision/09_Finetune_Compact_Conv_Transformer.ipynb\" target=\"_parent\"><img src=\"https://colab.research.google.com/assets/colab-badge.svg\" alt=\"Open In Colab\"/></a>"
      ]
    },
    {
      "cell_type": "code",
      "metadata": {
        "id": "H505qviz7NaQ",
        "outputId": "9d92b7ef-ef02-4534-fa38-afb802db692d",
        "colab": {
          "base_uri": "https://localhost:8080/"
        }
      },
      "source": [
        "!pip install -qqq fastai==2.4.1 timm vit_pytorch"
      ],
      "execution_count": 1,
      "outputs": [
        {
          "output_type": "stream",
          "name": "stdout",
          "text": [
            "\u001b[?25l\r\u001b[K     |█▊                              | 10 kB 33.8 MB/s eta 0:00:01\r\u001b[K     |███▌                            | 20 kB 22.2 MB/s eta 0:00:01\r\u001b[K     |█████▎                          | 30 kB 16.4 MB/s eta 0:00:01\r\u001b[K     |███████                         | 40 kB 14.7 MB/s eta 0:00:01\r\u001b[K     |████████▊                       | 51 kB 7.5 MB/s eta 0:00:01\r\u001b[K     |██████████▌                     | 61 kB 7.7 MB/s eta 0:00:01\r\u001b[K     |████████████▏                   | 71 kB 8.2 MB/s eta 0:00:01\r\u001b[K     |██████████████                  | 81 kB 9.2 MB/s eta 0:00:01\r\u001b[K     |███████████████▊                | 92 kB 9.3 MB/s eta 0:00:01\r\u001b[K     |█████████████████▍              | 102 kB 7.4 MB/s eta 0:00:01\r\u001b[K     |███████████████████▏            | 112 kB 7.4 MB/s eta 0:00:01\r\u001b[K     |█████████████████████           | 122 kB 7.4 MB/s eta 0:00:01\r\u001b[K     |██████████████████████▋         | 133 kB 7.4 MB/s eta 0:00:01\r\u001b[K     |████████████████████████▍       | 143 kB 7.4 MB/s eta 0:00:01\r\u001b[K     |██████████████████████████▏     | 153 kB 7.4 MB/s eta 0:00:01\r\u001b[K     |███████████████████████████▉    | 163 kB 7.4 MB/s eta 0:00:01\r\u001b[K     |█████████████████████████████▋  | 174 kB 7.4 MB/s eta 0:00:01\r\u001b[K     |███████████████████████████████▍| 184 kB 7.4 MB/s eta 0:00:01\r\u001b[K     |████████████████████████████████| 188 kB 7.4 MB/s \n",
            "\u001b[K     |████████████████████████████████| 376 kB 57.5 MB/s \n",
            "\u001b[K     |████████████████████████████████| 56 kB 4.7 MB/s \n",
            "\u001b[?25h"
          ]
        }
      ]
    },
    {
      "cell_type": "code",
      "metadata": {
        "id": "BPBPwE-iWU0D"
      },
      "source": [
        "from vit_pytorch.cct import cct_14"
      ],
      "execution_count": 2,
      "outputs": []
    },
    {
      "cell_type": "code",
      "metadata": {
        "colab": {
          "base_uri": "https://localhost:8080/"
        },
        "id": "XKefBpw8Waic",
        "outputId": "d77ff3fe-2537-4eee-e3eb-22b1e8ff4158"
      },
      "source": [
        "model = cct_14(\n",
        "        img_size=224,\n",
        "        n_conv_layers=2,\n",
        "        kernel_size=7,\n",
        "        stride=2,\n",
        "        padding=3,\n",
        "        pooling_kernel_size=3,\n",
        "        pooling_stride=2,\n",
        "        pooling_padding=1,\n",
        "        num_classes=1000,\n",
        "        positional_embedding='learnable', # ['sine', 'learnable', 'none']  \n",
        "        )"
      ],
      "execution_count": 3,
      "outputs": [
        {
          "output_type": "stream",
          "name": "stderr",
          "text": [
            "/usr/local/lib/python3.7/dist-packages/torch/nn/functional.py:718: UserWarning: Named tensors and all their associated APIs are an experimental feature and subject to change. Please do not use them for anything important until they are released as stable. (Triggered internally at  /pytorch/c10/core/TensorImpl.h:1156.)\n",
            "  return torch.max_pool2d(input, kernel_size, stride, padding, dilation, ceil_mode)\n"
          ]
        }
      ]
    },
    {
      "cell_type": "code",
      "metadata": {
        "colab": {
          "base_uri": "https://localhost:8080/",
          "height": 82,
          "referenced_widgets": [
            "7e989d38195f458e851afaa3e99d04e8",
            "a0447a5b20c74343b222a05c57094544",
            "9687725cd1eb452984ed206e0620384c",
            "75dc4ad81fb94cd3b3379c575c26c103",
            "e6f9c92602ee4844b963d33ccc4c2c45",
            "33d46f5ee04b4a8cb4dfdb5945288aa7",
            "2dd32c2ab9fb422fb25f92da86840937",
            "8860414c27a646df80a42cd041326a75",
            "165d895f747d423992d64e51ca40d1c8",
            "64a56de896334e25a4ce9c1d98c1f6f9",
            "1aca48ff567b4fa5b8015ad9a7cceafb"
          ]
        },
        "id": "vPTAV5L8WbSV",
        "outputId": "ec3b76ca-06ab-4b82-b338-eae408f07b8b"
      },
      "source": [
        "from torch.hub import load_state_dict_from_url\n",
        "#state_dict = load_state_dict_from_url('http://ix.cs.uoregon.edu/~alih/compact-transformers/checkpoints/cct14t-7x2_imagenet384_finetune_82.71.pth')\n",
        "state_dict = load_state_dict_from_url('http://ix.cs.uoregon.edu/~alih/compact-transformers/checkpoints/pretrained/cct_14_7x2_224_imagenet.pth')\n",
        "model.load_state_dict(state_dict)"
      ],
      "execution_count": 4,
      "outputs": [
        {
          "output_type": "stream",
          "name": "stderr",
          "text": [
            "Downloading: \"http://ix.cs.uoregon.edu/~alih/compact-transformers/checkpoints/pretrained/cct_14_7x2_224_imagenet.pth\" to /root/.cache/torch/hub/checkpoints/cct_14_7x2_224_imagenet.pth\n"
          ]
        },
        {
          "output_type": "display_data",
          "data": {
            "application/vnd.jupyter.widget-view+json": {
              "model_id": "7e989d38195f458e851afaa3e99d04e8",
              "version_minor": 0,
              "version_major": 2
            },
            "text/plain": [
              "  0%|          | 0.00/85.4M [00:00<?, ?B/s]"
            ]
          },
          "metadata": {}
        },
        {
          "output_type": "execute_result",
          "data": {
            "text/plain": [
              "<All keys matched successfully>"
            ]
          },
          "metadata": {},
          "execution_count": 4
        }
      ]
    },
    {
      "cell_type": "code",
      "metadata": {
        "id": "nbt9v0NZr7MZ"
      },
      "source": [
        "!wget -q https://www.robots.ox.ac.uk/~vgg/data/flowers/102/102flowers.tgz\n",
        "!wget -q https://www.robots.ox.ac.uk/~vgg/data/flowers/102/imagelabels.mat\n",
        "!wget -q https://www.robots.ox.ac.uk/~vgg/data/flowers/102/setid.mat\n",
        "!tar -xf 102flowers.tgz"
      ],
      "execution_count": 5,
      "outputs": []
    },
    {
      "cell_type": "code",
      "metadata": {
        "id": "NsuORHPy6Qlp"
      },
      "source": [
        "import os\n",
        "import pandas as pd\n",
        "from torchvision.io import read_image\n",
        "from torch.utils.data import Dataset, DataLoader\n",
        "from torchvision import models, transforms\n",
        "import torch\n",
        "from torch import nn\n",
        "from collections import OrderedDict\n",
        "from tqdm import tqdm\n",
        "from scipy.io import loadmat\n",
        "from PIL import Image\n",
        "from torch import optim"
      ],
      "execution_count": 6,
      "outputs": []
    },
    {
      "cell_type": "code",
      "metadata": {
        "id": "GA81-ZET1zvG"
      },
      "source": [
        "split = loadmat('setid.mat')\n",
        "label = loadmat('imagelabels.mat')"
      ],
      "execution_count": 7,
      "outputs": []
    },
    {
      "cell_type": "code",
      "metadata": {
        "id": "s77SmR4r6SRQ"
      },
      "source": [
        "trnid_df=pd.DataFrame(split['trnid'][0], columns = ['id'])\n",
        "trnid_df=trnid_df.assign(split='train')\n",
        "tstid_df=pd.DataFrame(split['tstid'][0], columns = ['id'])\n",
        "tstid_df=tstid_df.assign(split='test')\n",
        "valid_df=pd.DataFrame(split['valid'][0], columns = ['id'])\n",
        "valid_df=valid_df.assign(split='valid')\n",
        "\n",
        "split_df=trnid_df.append(valid_df, ignore_index=True).append(tstid_df, ignore_index=True)"
      ],
      "execution_count": 8,
      "outputs": []
    },
    {
      "cell_type": "code",
      "metadata": {
        "id": "QSw5FSiJ6U1t"
      },
      "source": [
        "df = pd.DataFrame(label['labels'][0], columns = ['label'])\n",
        "df['file'] = df.index\n",
        "df['file']=df['file'].apply(lambda x: x+1).apply(lambda x: '{0:0>5}'.format(x)).apply(lambda x:'jpg/image_'+str(x)+'.jpg')\n",
        "df['id'] = df.index\n",
        "df['id']=df['id'].apply(lambda x: x+1)\n"
      ],
      "execution_count": 9,
      "outputs": []
    },
    {
      "cell_type": "code",
      "metadata": {
        "colab": {
          "base_uri": "https://localhost:8080/",
          "height": 203
        },
        "id": "SGt44DLx6WHX",
        "outputId": "2c9a43f4-9608-4523-ba88-722dcc70f1bb"
      },
      "source": [
        "df=pd.merge(df, split_df, on=\"id\")\n",
        "df=df.drop(columns=['id'])\n",
        "df.head()\n"
      ],
      "execution_count": 10,
      "outputs": [
        {
          "output_type": "execute_result",
          "data": {
            "text/html": [
              "<div>\n",
              "<style scoped>\n",
              "    .dataframe tbody tr th:only-of-type {\n",
              "        vertical-align: middle;\n",
              "    }\n",
              "\n",
              "    .dataframe tbody tr th {\n",
              "        vertical-align: top;\n",
              "    }\n",
              "\n",
              "    .dataframe thead th {\n",
              "        text-align: right;\n",
              "    }\n",
              "</style>\n",
              "<table border=\"1\" class=\"dataframe\">\n",
              "  <thead>\n",
              "    <tr style=\"text-align: right;\">\n",
              "      <th></th>\n",
              "      <th>label</th>\n",
              "      <th>file</th>\n",
              "      <th>split</th>\n",
              "    </tr>\n",
              "  </thead>\n",
              "  <tbody>\n",
              "    <tr>\n",
              "      <th>0</th>\n",
              "      <td>77</td>\n",
              "      <td>jpg/image_00001.jpg</td>\n",
              "      <td>test</td>\n",
              "    </tr>\n",
              "    <tr>\n",
              "      <th>1</th>\n",
              "      <td>77</td>\n",
              "      <td>jpg/image_00002.jpg</td>\n",
              "      <td>test</td>\n",
              "    </tr>\n",
              "    <tr>\n",
              "      <th>2</th>\n",
              "      <td>77</td>\n",
              "      <td>jpg/image_00003.jpg</td>\n",
              "      <td>test</td>\n",
              "    </tr>\n",
              "    <tr>\n",
              "      <th>3</th>\n",
              "      <td>77</td>\n",
              "      <td>jpg/image_00004.jpg</td>\n",
              "      <td>test</td>\n",
              "    </tr>\n",
              "    <tr>\n",
              "      <th>4</th>\n",
              "      <td>77</td>\n",
              "      <td>jpg/image_00005.jpg</td>\n",
              "      <td>test</td>\n",
              "    </tr>\n",
              "  </tbody>\n",
              "</table>\n",
              "</div>"
            ],
            "text/plain": [
              "   label                 file split\n",
              "0     77  jpg/image_00001.jpg  test\n",
              "1     77  jpg/image_00002.jpg  test\n",
              "2     77  jpg/image_00003.jpg  test\n",
              "3     77  jpg/image_00004.jpg  test\n",
              "4     77  jpg/image_00005.jpg  test"
            ]
          },
          "metadata": {},
          "execution_count": 10
        }
      ]
    },
    {
      "cell_type": "code",
      "metadata": {
        "id": "KdlY_yQE6ZVO"
      },
      "source": [
        "class CustomImageDataset(Dataset):\n",
        "    def __init__(self, data_frame, split, transform=None):\n",
        "        self.img_labels = data_frame[data_frame.split==split]\n",
        "        self.transform = transform\n",
        "\n",
        "    def __len__(self):\n",
        "        return len(self.img_labels)\n",
        "\n",
        "    def __getitem__(self, idx):\n",
        "        image = read_image(self.img_labels.iloc[idx, 1])\n",
        "        label = self.img_labels.iloc[idx, 0].astype(np.long)-1\n",
        "        if self.transform:\n",
        "            image = self.transform(image)\n",
        "        return image, label\n"
      ],
      "execution_count": 11,
      "outputs": []
    },
    {
      "cell_type": "code",
      "metadata": {
        "id": "QybiZcxw6eiO"
      },
      "source": [
        "train_transform=transforms.Compose([\n",
        "        transforms.ToPILImage(),\n",
        "        transforms.RandomResizedCrop(224),\n",
        "        transforms.RandomHorizontalFlip(),\n",
        "        transforms.ToTensor(),\n",
        "        transforms.Normalize([0.485, 0.456, 0.406], [0.229, 0.224, 0.225])\n",
        "    ])\n",
        "\n",
        "val_transform=transforms.Compose([\n",
        "        transforms.ToPILImage(),\n",
        "        transforms.Resize(256),\n",
        "        transforms.CenterCrop(224),\n",
        "        transforms.ToTensor(),\n",
        "        transforms.Normalize([0.485, 0.456, 0.406], [0.229, 0.224, 0.225])\n",
        "    ])\n"
      ],
      "execution_count": 12,
      "outputs": []
    },
    {
      "cell_type": "code",
      "metadata": {
        "id": "uy-YbmWd6hX4"
      },
      "source": [
        "train_data = CustomImageDataset(data_frame=df,split='train',transform=train_transform)\n",
        "valid_data = CustomImageDataset(data_frame=df,split='valid',transform=val_transform)\n"
      ],
      "execution_count": 13,
      "outputs": []
    },
    {
      "cell_type": "code",
      "metadata": {
        "id": "UHqwtwSI6im9"
      },
      "source": [
        "trainloader = DataLoader(train_data, batch_size=32, shuffle=True)\n",
        "validloader = DataLoader(valid_data, batch_size=256, shuffle=False)\n"
      ],
      "execution_count": 14,
      "outputs": []
    },
    {
      "cell_type": "code",
      "metadata": {
        "colab": {
          "base_uri": "https://localhost:8080/"
        },
        "id": "PJKbYx7-nM7H",
        "outputId": "71512fd4-3d4b-4ab3-f4a9-d60ab8d3d08b"
      },
      "source": [
        "for name, module in model.named_children():\n",
        "  print(name)"
      ],
      "execution_count": 15,
      "outputs": [
        {
          "output_type": "stream",
          "name": "stdout",
          "text": [
            "tokenizer\n",
            "classifier\n"
          ]
        }
      ]
    },
    {
      "cell_type": "code",
      "metadata": {
        "colab": {
          "base_uri": "https://localhost:8080/"
        },
        "id": "8Mim5sSriFXq",
        "outputId": "df039dde-7c98-436a-ac67-bdf6e9d11e32"
      },
      "source": [
        "for name, module in model.tokenizer.named_children():\n",
        "  print(name)"
      ],
      "execution_count": 16,
      "outputs": [
        {
          "output_type": "stream",
          "name": "stdout",
          "text": [
            "conv_layers\n",
            "flattener\n"
          ]
        }
      ]
    },
    {
      "cell_type": "code",
      "metadata": {
        "colab": {
          "base_uri": "https://localhost:8080/"
        },
        "id": "4PijKpTVgvDa",
        "outputId": "56d874df-8c69-46ac-e0be-c7f34adccfd7"
      },
      "source": [
        "for name, module in model.classifier.named_children():\n",
        "  print(name)"
      ],
      "execution_count": 17,
      "outputs": [
        {
          "output_type": "stream",
          "name": "stdout",
          "text": [
            "attention_pool\n",
            "dropout\n",
            "blocks\n",
            "norm\n",
            "fc\n"
          ]
        }
      ]
    },
    {
      "cell_type": "code",
      "metadata": {
        "colab": {
          "base_uri": "https://localhost:8080/"
        },
        "id": "FFs0Xw-P6tJN",
        "outputId": "ad3b37a9-af44-4f00-d182-88266105e69c"
      },
      "source": [
        "model.classifier.fc"
      ],
      "execution_count": 18,
      "outputs": [
        {
          "output_type": "execute_result",
          "data": {
            "text/plain": [
              "Linear(in_features=384, out_features=1000, bias=True)"
            ]
          },
          "metadata": {},
          "execution_count": 18
        }
      ]
    },
    {
      "cell_type": "code",
      "metadata": {
        "id": "acqHHxmN6pHL"
      },
      "source": [
        "for name, module in model.classifier.named_children():\n",
        "  for param in module.parameters():\n",
        "      param.requires_grad = False\n",
        "\n",
        "\n",
        "for name, module in model.tokenizer.named_children():\n",
        "  for param in module.parameters():\n",
        "      param.requires_grad = False\n"
      ],
      "execution_count": 19,
      "outputs": []
    },
    {
      "cell_type": "code",
      "metadata": {
        "id": "Q10sVEPk7JD3"
      },
      "source": [
        "model.classifier.fc = nn.Sequential(OrderedDict([\n",
        "          ('lin1', nn.Linear(384,102)),\n",
        "        ]))"
      ],
      "execution_count": 20,
      "outputs": []
    },
    {
      "cell_type": "code",
      "metadata": {
        "id": "clmbhNZuiatw"
      },
      "source": [
        "device = torch.device(\"cuda\" if torch.cuda.is_available() else \"cpu\")\n",
        "model = model.to(device)"
      ],
      "execution_count": 21,
      "outputs": []
    },
    {
      "cell_type": "code",
      "metadata": {
        "id": "GOpFG4yq7Xbd"
      },
      "source": [
        "from fastai.vision.all import *\n",
        "criterion = nn.CrossEntropyLoss()\n",
        "data = DataLoaders(trainloader, validloader)\n",
        "learn = Learner(data, model, loss_func=criterion, opt_func=Adam, metrics=accuracy)"
      ],
      "execution_count": 22,
      "outputs": []
    },
    {
      "cell_type": "code",
      "metadata": {
        "id": "PKLCbnO8mDje",
        "outputId": "3d1f2de3-07bc-417e-d3d0-b39bad5019ab",
        "colab": {
          "base_uri": "https://localhost:8080/",
          "height": 1000
        }
      },
      "source": [
        "learn.fit(40)"
      ],
      "execution_count": 23,
      "outputs": [
        {
          "output_type": "display_data",
          "data": {
            "text/html": [
              "<table border=\"1\" class=\"dataframe\">\n",
              "  <thead>\n",
              "    <tr style=\"text-align: left;\">\n",
              "      <th>epoch</th>\n",
              "      <th>train_loss</th>\n",
              "      <th>valid_loss</th>\n",
              "      <th>accuracy</th>\n",
              "      <th>time</th>\n",
              "    </tr>\n",
              "  </thead>\n",
              "  <tbody>\n",
              "    <tr>\n",
              "      <td>0</td>\n",
              "      <td>4.445328</td>\n",
              "      <td>3.658319</td>\n",
              "      <td>0.265686</td>\n",
              "      <td>00:20</td>\n",
              "    </tr>\n",
              "    <tr>\n",
              "      <td>1</td>\n",
              "      <td>3.690614</td>\n",
              "      <td>2.784529</td>\n",
              "      <td>0.521569</td>\n",
              "      <td>00:20</td>\n",
              "    </tr>\n",
              "    <tr>\n",
              "      <td>2</td>\n",
              "      <td>3.064958</td>\n",
              "      <td>2.203408</td>\n",
              "      <td>0.677451</td>\n",
              "      <td>00:19</td>\n",
              "    </tr>\n",
              "    <tr>\n",
              "      <td>3</td>\n",
              "      <td>2.543412</td>\n",
              "      <td>1.823721</td>\n",
              "      <td>0.703922</td>\n",
              "      <td>00:19</td>\n",
              "    </tr>\n",
              "    <tr>\n",
              "      <td>4</td>\n",
              "      <td>2.128077</td>\n",
              "      <td>1.557776</td>\n",
              "      <td>0.750980</td>\n",
              "      <td>00:19</td>\n",
              "    </tr>\n",
              "    <tr>\n",
              "      <td>5</td>\n",
              "      <td>1.788696</td>\n",
              "      <td>1.347531</td>\n",
              "      <td>0.788235</td>\n",
              "      <td>00:19</td>\n",
              "    </tr>\n",
              "    <tr>\n",
              "      <td>6</td>\n",
              "      <td>1.522130</td>\n",
              "      <td>1.205970</td>\n",
              "      <td>0.799020</td>\n",
              "      <td>00:19</td>\n",
              "    </tr>\n",
              "    <tr>\n",
              "      <td>7</td>\n",
              "      <td>1.301087</td>\n",
              "      <td>1.095646</td>\n",
              "      <td>0.819608</td>\n",
              "      <td>00:19</td>\n",
              "    </tr>\n",
              "    <tr>\n",
              "      <td>8</td>\n",
              "      <td>1.121417</td>\n",
              "      <td>1.008013</td>\n",
              "      <td>0.822549</td>\n",
              "      <td>00:19</td>\n",
              "    </tr>\n",
              "    <tr>\n",
              "      <td>9</td>\n",
              "      <td>0.971836</td>\n",
              "      <td>0.925395</td>\n",
              "      <td>0.838235</td>\n",
              "      <td>00:19</td>\n",
              "    </tr>\n",
              "    <tr>\n",
              "      <td>10</td>\n",
              "      <td>0.880232</td>\n",
              "      <td>0.867271</td>\n",
              "      <td>0.844118</td>\n",
              "      <td>00:19</td>\n",
              "    </tr>\n",
              "    <tr>\n",
              "      <td>11</td>\n",
              "      <td>0.799318</td>\n",
              "      <td>0.820210</td>\n",
              "      <td>0.842157</td>\n",
              "      <td>00:19</td>\n",
              "    </tr>\n",
              "    <tr>\n",
              "      <td>12</td>\n",
              "      <td>0.719689</td>\n",
              "      <td>0.770317</td>\n",
              "      <td>0.854902</td>\n",
              "      <td>00:19</td>\n",
              "    </tr>\n",
              "    <tr>\n",
              "      <td>13</td>\n",
              "      <td>0.663235</td>\n",
              "      <td>0.733184</td>\n",
              "      <td>0.851961</td>\n",
              "      <td>00:19</td>\n",
              "    </tr>\n",
              "    <tr>\n",
              "      <td>14</td>\n",
              "      <td>0.595985</td>\n",
              "      <td>0.707860</td>\n",
              "      <td>0.862745</td>\n",
              "      <td>00:19</td>\n",
              "    </tr>\n",
              "    <tr>\n",
              "      <td>15</td>\n",
              "      <td>0.548841</td>\n",
              "      <td>0.681430</td>\n",
              "      <td>0.860784</td>\n",
              "      <td>00:19</td>\n",
              "    </tr>\n",
              "    <tr>\n",
              "      <td>16</td>\n",
              "      <td>0.514958</td>\n",
              "      <td>0.654456</td>\n",
              "      <td>0.865686</td>\n",
              "      <td>00:19</td>\n",
              "    </tr>\n",
              "    <tr>\n",
              "      <td>17</td>\n",
              "      <td>0.486049</td>\n",
              "      <td>0.636875</td>\n",
              "      <td>0.874510</td>\n",
              "      <td>00:19</td>\n",
              "    </tr>\n",
              "    <tr>\n",
              "      <td>18</td>\n",
              "      <td>0.440848</td>\n",
              "      <td>0.625765</td>\n",
              "      <td>0.864706</td>\n",
              "      <td>00:19</td>\n",
              "    </tr>\n",
              "    <tr>\n",
              "      <td>19</td>\n",
              "      <td>0.414147</td>\n",
              "      <td>0.607891</td>\n",
              "      <td>0.875490</td>\n",
              "      <td>00:19</td>\n",
              "    </tr>\n",
              "    <tr>\n",
              "      <td>20</td>\n",
              "      <td>0.390026</td>\n",
              "      <td>0.593753</td>\n",
              "      <td>0.867647</td>\n",
              "      <td>00:19</td>\n",
              "    </tr>\n",
              "    <tr>\n",
              "      <td>21</td>\n",
              "      <td>0.369020</td>\n",
              "      <td>0.563226</td>\n",
              "      <td>0.882353</td>\n",
              "      <td>00:19</td>\n",
              "    </tr>\n",
              "    <tr>\n",
              "      <td>22</td>\n",
              "      <td>0.352849</td>\n",
              "      <td>0.559190</td>\n",
              "      <td>0.883333</td>\n",
              "      <td>00:19</td>\n",
              "    </tr>\n",
              "    <tr>\n",
              "      <td>23</td>\n",
              "      <td>0.349197</td>\n",
              "      <td>0.546221</td>\n",
              "      <td>0.881373</td>\n",
              "      <td>00:19</td>\n",
              "    </tr>\n",
              "    <tr>\n",
              "      <td>24</td>\n",
              "      <td>0.327533</td>\n",
              "      <td>0.533383</td>\n",
              "      <td>0.882353</td>\n",
              "      <td>00:19</td>\n",
              "    </tr>\n",
              "    <tr>\n",
              "      <td>25</td>\n",
              "      <td>0.311437</td>\n",
              "      <td>0.539429</td>\n",
              "      <td>0.870588</td>\n",
              "      <td>00:19</td>\n",
              "    </tr>\n",
              "    <tr>\n",
              "      <td>26</td>\n",
              "      <td>0.294704</td>\n",
              "      <td>0.532135</td>\n",
              "      <td>0.880392</td>\n",
              "      <td>00:19</td>\n",
              "    </tr>\n",
              "    <tr>\n",
              "      <td>27</td>\n",
              "      <td>0.296861</td>\n",
              "      <td>0.522581</td>\n",
              "      <td>0.876471</td>\n",
              "      <td>00:19</td>\n",
              "    </tr>\n",
              "    <tr>\n",
              "      <td>28</td>\n",
              "      <td>0.277184</td>\n",
              "      <td>0.499726</td>\n",
              "      <td>0.891176</td>\n",
              "      <td>00:19</td>\n",
              "    </tr>\n",
              "    <tr>\n",
              "      <td>29</td>\n",
              "      <td>0.268516</td>\n",
              "      <td>0.504543</td>\n",
              "      <td>0.887255</td>\n",
              "      <td>00:19</td>\n",
              "    </tr>\n",
              "    <tr>\n",
              "      <td>30</td>\n",
              "      <td>0.245071</td>\n",
              "      <td>0.489226</td>\n",
              "      <td>0.883333</td>\n",
              "      <td>00:19</td>\n",
              "    </tr>\n",
              "    <tr>\n",
              "      <td>31</td>\n",
              "      <td>0.242436</td>\n",
              "      <td>0.493747</td>\n",
              "      <td>0.878431</td>\n",
              "      <td>00:19</td>\n",
              "    </tr>\n",
              "    <tr>\n",
              "      <td>32</td>\n",
              "      <td>0.239316</td>\n",
              "      <td>0.473120</td>\n",
              "      <td>0.889216</td>\n",
              "      <td>00:19</td>\n",
              "    </tr>\n",
              "    <tr>\n",
              "      <td>33</td>\n",
              "      <td>0.231109</td>\n",
              "      <td>0.469645</td>\n",
              "      <td>0.893137</td>\n",
              "      <td>00:19</td>\n",
              "    </tr>\n",
              "    <tr>\n",
              "      <td>34</td>\n",
              "      <td>0.221196</td>\n",
              "      <td>0.472408</td>\n",
              "      <td>0.880392</td>\n",
              "      <td>00:19</td>\n",
              "    </tr>\n",
              "    <tr>\n",
              "      <td>35</td>\n",
              "      <td>0.227503</td>\n",
              "      <td>0.458344</td>\n",
              "      <td>0.892157</td>\n",
              "      <td>00:19</td>\n",
              "    </tr>\n",
              "    <tr>\n",
              "      <td>36</td>\n",
              "      <td>0.212155</td>\n",
              "      <td>0.456630</td>\n",
              "      <td>0.894118</td>\n",
              "      <td>00:19</td>\n",
              "    </tr>\n",
              "    <tr>\n",
              "      <td>37</td>\n",
              "      <td>0.214893</td>\n",
              "      <td>0.452456</td>\n",
              "      <td>0.897059</td>\n",
              "      <td>00:19</td>\n",
              "    </tr>\n",
              "    <tr>\n",
              "      <td>38</td>\n",
              "      <td>0.205767</td>\n",
              "      <td>0.446554</td>\n",
              "      <td>0.896078</td>\n",
              "      <td>00:19</td>\n",
              "    </tr>\n",
              "    <tr>\n",
              "      <td>39</td>\n",
              "      <td>0.203938</td>\n",
              "      <td>0.440076</td>\n",
              "      <td>0.900000</td>\n",
              "      <td>00:19</td>\n",
              "    </tr>\n",
              "  </tbody>\n",
              "</table>"
            ],
            "text/plain": [
              "<IPython.core.display.HTML object>"
            ]
          },
          "metadata": {}
        }
      ]
    },
    {
      "cell_type": "code",
      "metadata": {
        "id": "p_-inkap3H_M"
      },
      "source": [
        ""
      ],
      "execution_count": 24,
      "outputs": []
    }
  ]
}